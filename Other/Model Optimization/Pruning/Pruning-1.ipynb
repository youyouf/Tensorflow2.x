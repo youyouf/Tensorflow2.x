{
 "cells": [
  {
   "cell_type": "code",
   "execution_count": 1,
   "metadata": {},
   "outputs": [],
   "source": [
    "#注意、注意、注意:目前仅仅支持Sequential模型\n",
    "#注意、注意、注意:目前仅仅支持Sequential模型\n",
    "#注意、注意、注意:目前仅仅支持Sequential模型\n",
    "import tensorflow as tf\n",
    "from tensorflow import keras\n"
   ]
  },
  {
   "cell_type": "code",
   "execution_count": 2,
   "metadata": {},
   "outputs": [
    {
     "name": "stdout",
     "output_type": "stream",
     "text": [
      "data is ready!\n"
     ]
    }
   ],
   "source": [
    "mnist = keras.datasets.mnist\n",
    "(train_images, train_labels), (test_images, test_labels) = mnist.load_data()\n",
    "\n",
    "# 归一化预处理数据，即将数据转换为（0，1）的范围.\n",
    "train_images = train_images / 255.0\n",
    "test_images = test_images / 255.0\n",
    "print(\"data is ready!\")"
   ]
  },
  {
   "cell_type": "code",
   "execution_count": 3,
   "metadata": {},
   "outputs": [
    {
     "name": "stdout",
     "output_type": "stream",
     "text": [
      "Model: \"sequential\"\n",
      "_________________________________________________________________\n",
      "Layer (type)                 Output Shape              Param #   \n",
      "=================================================================\n",
      "reshape (Reshape)            (None, 28, 28, 1)         0         \n",
      "_________________________________________________________________\n",
      "conv2d (Conv2D)              (None, 26, 26, 12)        120       \n",
      "_________________________________________________________________\n",
      "max_pooling2d (MaxPooling2D) (None, 13, 13, 12)        0         \n",
      "_________________________________________________________________\n",
      "flatten (Flatten)            (None, 2028)              0         \n",
      "_________________________________________________________________\n",
      "dense (Dense)                (None, 10)                20290     \n",
      "=================================================================\n",
      "Total params: 20,410\n",
      "Trainable params: 20,410\n",
      "Non-trainable params: 0\n",
      "_________________________________________________________________\n"
     ]
    }
   ],
   "source": [
    "# 定义模型结构\n",
    "model = keras.Sequential([\n",
    "  keras.layers.InputLayer(input_shape=(28, 28)),\n",
    "  keras.layers.Reshape(target_shape=(28, 28, 1)),\n",
    "  keras.layers.Conv2D(filters=12, kernel_size=(3, 3), activation='relu'),\n",
    "  keras.layers.MaxPooling2D(pool_size=(2, 2)),\n",
    "  keras.layers.Flatten(),\n",
    "  keras.layers.Dense(10)\n",
    "])\n",
    "model.summary()"
   ]
  },
  {
   "cell_type": "code",
   "execution_count": 4,
   "metadata": {},
   "outputs": [
    {
     "name": "stdout",
     "output_type": "stream",
     "text": [
      "Train on 54000 samples, validate on 6000 samples\n",
      "Epoch 1/35\n",
      "54000/54000 [==============================] - 8s 147us/sample - loss: 0.3075 - accuracy: 0.9116 - val_loss: 0.1323 - val_accuracy: 0.9657\n",
      "Epoch 2/35\n",
      "54000/54000 [==============================] - 6s 112us/sample - loss: 0.1291 - accuracy: 0.9628 - val_loss: 0.0947 - val_accuracy: 0.9743\n",
      "Epoch 3/35\n",
      "54000/54000 [==============================] - 7s 122us/sample - loss: 0.0917 - accuracy: 0.9737 - val_loss: 0.0795 - val_accuracy: 0.9780\n",
      "Epoch 4/35\n",
      "54000/54000 [==============================] - 7s 127us/sample - loss: 0.0746 - accuracy: 0.9784 - val_loss: 0.0690 - val_accuracy: 0.9803\n",
      "Epoch 5/35\n",
      "54000/54000 [==============================] - 6s 111us/sample - loss: 0.0648 - accuracy: 0.9809 - val_loss: 0.0626 - val_accuracy: 0.9820\n",
      "Epoch 6/35\n",
      "54000/54000 [==============================] - 6s 109us/sample - loss: 0.0561 - accuracy: 0.9838 - val_loss: 0.0627 - val_accuracy: 0.9827\n",
      "Epoch 7/35\n",
      "54000/54000 [==============================] - 6s 111us/sample - loss: 0.0497 - accuracy: 0.9850 - val_loss: 0.0571 - val_accuracy: 0.9852\n",
      "Epoch 8/35\n",
      "54000/54000 [==============================] - 6s 109us/sample - loss: 0.0444 - accuracy: 0.9869 - val_loss: 0.0653 - val_accuracy: 0.9813\n",
      "Epoch 9/35\n",
      "54000/54000 [==============================] - 6s 118us/sample - loss: 0.0406 - accuracy: 0.9876 - val_loss: 0.0548 - val_accuracy: 0.9848\n",
      "Epoch 10/35\n",
      "54000/54000 [==============================] - 6s 114us/sample - loss: 0.0365 - accuracy: 0.9891 - val_loss: 0.0546 - val_accuracy: 0.9857\n",
      "Epoch 11/35\n",
      "54000/54000 [==============================] - 6s 109us/sample - loss: 0.0339 - accuracy: 0.9900 - val_loss: 0.0558 - val_accuracy: 0.9850\n",
      "Epoch 12/35\n",
      "54000/54000 [==============================] - 6s 108us/sample - loss: 0.0297 - accuracy: 0.9913 - val_loss: 0.0568 - val_accuracy: 0.9845\n",
      "Epoch 13/35\n",
      "54000/54000 [==============================] - 6s 113us/sample - loss: 0.0277 - accuracy: 0.9916 - val_loss: 0.0607 - val_accuracy: 0.9848\n",
      "Epoch 14/35\n",
      "54000/54000 [==============================] - 6s 108us/sample - loss: 0.0247 - accuracy: 0.9926 - val_loss: 0.0660 - val_accuracy: 0.9827\n",
      "Epoch 15/35\n",
      "54000/54000 [==============================] - 6s 114us/sample - loss: 0.0233 - accuracy: 0.9929 - val_loss: 0.0619 - val_accuracy: 0.9830\n",
      "Epoch 16/35\n",
      "54000/54000 [==============================] - 6s 107us/sample - loss: 0.0212 - accuracy: 0.9935 - val_loss: 0.0586 - val_accuracy: 0.9853\n",
      "Epoch 17/35\n",
      "54000/54000 [==============================] - 6s 107us/sample - loss: 0.0200 - accuracy: 0.9941 - val_loss: 0.0618 - val_accuracy: 0.9840\n",
      "Epoch 18/35\n",
      "54000/54000 [==============================] - 6s 107us/sample - loss: 0.0177 - accuracy: 0.9950 - val_loss: 0.0641 - val_accuracy: 0.9840\n",
      "Epoch 19/35\n",
      "54000/54000 [==============================] - 6s 110us/sample - loss: 0.0165 - accuracy: 0.9952 - val_loss: 0.0650 - val_accuracy: 0.9845\n",
      "Epoch 20/35\n",
      "54000/54000 [==============================] - 6s 110us/sample - loss: 0.0151 - accuracy: 0.9958 - val_loss: 0.0696 - val_accuracy: 0.9850\n",
      "Epoch 21/35\n",
      "54000/54000 [==============================] - 6s 109us/sample - loss: 0.0139 - accuracy: 0.9960 - val_loss: 0.0729 - val_accuracy: 0.9830\n",
      "Epoch 22/35\n",
      "54000/54000 [==============================] - 6s 116us/sample - loss: 0.0126 - accuracy: 0.9963 - val_loss: 0.0719 - val_accuracy: 0.9837\n",
      "Epoch 23/35\n",
      "54000/54000 [==============================] - 6s 115us/sample - loss: 0.0122 - accuracy: 0.9966 - val_loss: 0.0701 - val_accuracy: 0.9835\n",
      "Epoch 24/35\n",
      "54000/54000 [==============================] - 6s 117us/sample - loss: 0.0107 - accuracy: 0.9971 - val_loss: 0.0735 - val_accuracy: 0.9848\n",
      "Epoch 25/35\n",
      "54000/54000 [==============================] - 7s 121us/sample - loss: 0.0099 - accuracy: 0.9971 - val_loss: 0.0781 - val_accuracy: 0.9843\n",
      "Epoch 26/35\n",
      "54000/54000 [==============================] - 6s 114us/sample - loss: 0.0089 - accuracy: 0.9979 - val_loss: 0.0765 - val_accuracy: 0.9843\n",
      "Epoch 27/35\n",
      "54000/54000 [==============================] - 6s 119us/sample - loss: 0.0085 - accuracy: 0.9977 - val_loss: 0.0887 - val_accuracy: 0.9835\n",
      "Epoch 28/35\n",
      "54000/54000 [==============================] - 7s 131us/sample - loss: 0.0079 - accuracy: 0.9979 - val_loss: 0.0885 - val_accuracy: 0.9835\n",
      "Epoch 29/35\n",
      "54000/54000 [==============================] - 7s 121us/sample - loss: 0.0070 - accuracy: 0.9982 - val_loss: 0.0843 - val_accuracy: 0.9840\n",
      "Epoch 30/35\n",
      "54000/54000 [==============================] - 6s 110us/sample - loss: 0.0065 - accuracy: 0.9984 - val_loss: 0.0832 - val_accuracy: 0.9847\n",
      "Epoch 31/35\n",
      "54000/54000 [==============================] - 6s 117us/sample - loss: 0.0060 - accuracy: 0.9987 - val_loss: 0.0906 - val_accuracy: 0.9827\n",
      "Epoch 32/35\n",
      "54000/54000 [==============================] - 6s 111us/sample - loss: 0.0060 - accuracy: 0.9984 - val_loss: 0.0866 - val_accuracy: 0.9838\n",
      "Epoch 33/35\n",
      "54000/54000 [==============================] - 6s 108us/sample - loss: 0.0051 - accuracy: 0.9988 - val_loss: 0.0898 - val_accuracy: 0.9827\n",
      "Epoch 34/35\n",
      "54000/54000 [==============================] - 6s 112us/sample - loss: 0.0053 - accuracy: 0.9985 - val_loss: 0.0889 - val_accuracy: 0.9848\n",
      "Epoch 35/35\n",
      "54000/54000 [==============================] - 6s 111us/sample - loss: 0.0042 - accuracy: 0.9992 - val_loss: 0.0912 - val_accuracy: 0.9838\n",
      "----------------------------------------------Train is ok!-----------------------------------------------\n"
     ]
    }
   ],
   "source": [
    "# 编译模型，SparseCategoricalCrossentropy是交叉熵函数，是标签是非one-hot编码下使用的\n",
    "#如果标签是one-hot编码，需要使用CategoricalCrossentropy\n",
    "model.compile(optimizer='adam',loss=keras.losses.SparseCategoricalCrossentropy(from_logits=True),metrics=['accuracy'])\n",
    "#训练模型\n",
    "model.fit(train_images,train_labels,epochs=35,validation_split=0.1)\n",
    "print(\"----------------------------------------------Train is ok!-----------------------------------------------\")"
   ]
  },
  {
   "cell_type": "code",
   "execution_count": 5,
   "metadata": {},
   "outputs": [
    {
     "name": "stdout",
     "output_type": "stream",
     "text": [
      "[0.09461077652595849, 0.9793]\n"
     ]
    }
   ],
   "source": [
    "model_result = model.evaluate(test_images,test_labels,verbose=0)\n",
    "print(model_result)"
   ]
  },
  {
   "cell_type": "code",
   "execution_count": 6,
   "metadata": {},
   "outputs": [
    {
     "name": "stdout",
     "output_type": "stream",
     "text": [
      "Saved baseline model to: D:\\riky\\jupyterpro\\Tensorflow\\tmpnxw9fphr.h5\n"
     ]
    }
   ],
   "source": [
    "import tempfile\n",
    "#保存未剪纸模型：\n",
    "_, keras_file = tempfile.mkstemp('.h5',dir='./')\n",
    "tf.keras.models.save_model(model, keras_file, include_optimizer=False)\n",
    "print('Saved baseline model to:', keras_file)"
   ]
  },
  {
   "cell_type": "code",
   "execution_count": 7,
   "metadata": {},
   "outputs": [
    {
     "name": "stderr",
     "output_type": "stream",
     "text": [
      "WARNING: Logging before flag parsing goes to stderr.\n",
      "W0908 21:38:55.743342  9708 deprecation.py:323] From F:\\Anaconda3\\envs\\tf2\\lib\\site-packages\\tensorflow_model_optimization\\python\\core\\sparsity\\keras\\pruning_wrapper.py:220: Layer.add_variable (from tensorflow.python.keras.engine.base_layer) is deprecated and will be removed in a future version.\n",
      "Instructions for updating:\n",
      "Please use `layer.add_weight` method instead.\n"
     ]
    },
    {
     "name": "stdout",
     "output_type": "stream",
     "text": [
      "Model: \"sequential\"\n",
      "_________________________________________________________________\n",
      "Layer (type)                 Output Shape              Param #   \n",
      "=================================================================\n",
      "prune_low_magnitude_reshape  (None, 28, 28, 1)         1         \n",
      "_________________________________________________________________\n",
      "prune_low_magnitude_conv2d ( (None, 26, 26, 12)        230       \n",
      "_________________________________________________________________\n",
      "prune_low_magnitude_max_pool (None, 13, 13, 12)        1         \n",
      "_________________________________________________________________\n",
      "prune_low_magnitude_flatten  (None, 2028)              1         \n",
      "_________________________________________________________________\n",
      "prune_low_magnitude_dense (P (None, 10)                40572     \n",
      "=================================================================\n",
      "Total params: 40,805\n",
      "Trainable params: 20,410\n",
      "Non-trainable params: 20,395\n",
      "_________________________________________________________________\n"
     ]
    }
   ],
   "source": [
    "import tensorflow_model_optimization as tfmot\n",
    "\n",
    "import numpy as np\n",
    "batch_size = 128\n",
    "epochs = 2\n",
    "validation_split = 0.1\n",
    "\n",
    "num_images = train_images.shape[0] * (1 - validation_split)\n",
    "\n",
    "end_step = np.ceil(num_images / batch_size).astype(np.int32) * epochs\n",
    "\n",
    "prune_low_magnitude = tfmot.sparsity.keras.prune_low_magnitude\n",
    "#PolynomialDecay方法定义一个具有多项式衰减功能的修剪计划，也就是说修剪过程中的稀疏度是变化的，网络参数逐渐减少，稀疏度逐渐提高。\n",
    "pruning_schedule = tfmot.sparsity.keras.PolynomialDecay(initial_sparsity=0.50,\n",
    "                                                        final_sparsity=0.80,\n",
    "                                                        begin_step=0,\n",
    "                                                        end_step=end_step)\n",
    "#修改要在训练期间修剪的tf.keras层或模型，本例修剪的是整个模型的参数\n",
    "model_for_pruning = prune_low_magnitude(model, pruning_schedule)\n",
    "# 修剪后的模型需要重新编译\n",
    "model_for_pruning.compile(optimizer='adam',\n",
    "              loss=tf.keras.losses.SparseCategoricalCrossentropy(from_logits=True),\n",
    "              metrics=['accuracy'])\n",
    "\n",
    "model_for_pruning.summary()"
   ]
  },
  {
   "cell_type": "code",
   "execution_count": 8,
   "metadata": {},
   "outputs": [
    {
     "name": "stdout",
     "output_type": "stream",
     "text": [
      "Train on 54000 samples, validate on 6000 samples\n",
      "Epoch 1/2\n",
      "54000/54000 [==============================] - 6s 110us/sample - loss: 0.2142 - accuracy: 0.9372 - val_loss: 0.4044 - val_accuracy: 0.8795\n",
      "Epoch 2/2\n",
      "54000/54000 [==============================] - 4s 77us/sample - loss: 0.2598 - accuracy: 0.9174 - val_loss: 0.1947 - val_accuracy: 0.9433\n"
     ]
    },
    {
     "data": {
      "text/plain": [
       "<tensorflow.python.keras.callbacks.History at 0x27bb850c488>"
      ]
     },
     "execution_count": 8,
     "metadata": {},
     "output_type": "execute_result"
    }
   ],
   "source": [
    "#训练和评估新的模型\n",
    "logdir = tempfile.mkdtemp()\n",
    "\n",
    "callbacks = [\n",
    "  tfmot.sparsity.keras.UpdatePruningStep(),  #回调函数，使其在训练过程中处理修减更新\n",
    "  tfmot.sparsity.keras.PruningSummaries(log_dir=logdir), #提供用于跟踪进度和调试的日志\n",
    "]\n",
    "model_for_pruning.fit(train_images, train_labels,\n",
    "                  batch_size=batch_size, epochs=epochs, validation_split=validation_split,\n",
    "                  callbacks=callbacks)"
   ]
  },
  {
   "cell_type": "code",
   "execution_count": 9,
   "metadata": {},
   "outputs": [
    {
     "name": "stdout",
     "output_type": "stream",
     "text": [
      "Before: [0.09461077652595849, 0.9793]\n",
      "Now: [0.20752001224756242, 0.9379]\n"
     ]
    }
   ],
   "source": [
    "model_for_pruning_result = model_for_pruning.evaluate(test_images, test_labels, verbose=0)\n",
    "print(\"Before:\",model_result)\n",
    "print(\"Now:\",model_for_pruning_result)"
   ]
  },
  {
   "cell_type": "code",
   "execution_count": 10,
   "metadata": {},
   "outputs": [
    {
     "name": "stdout",
     "output_type": "stream",
     "text": [
      "Saved pruned Keras model to: D:\\riky\\jupyterpro\\Tensorflow\\tmpxe8am329.h5\n"
     ]
    }
   ],
   "source": [
    "#使用strip_pruning去除之前的不可训练权重,并保存模型\n",
    "\n",
    "model_for_export = tfmot.sparsity.keras.strip_pruning(model_for_pruning)#使用strip_pruning去除之前的不可训练权重,并保存模型\n",
    "_, pruned_keras_file = tempfile.mkstemp('.h5',dir='./')\n",
    "tf.keras.models.save_model(model_for_export, pruned_keras_file, include_optimizer=False)\n",
    "print('Saved pruned Keras model to:', pruned_keras_file)"
   ]
  },
  {
   "cell_type": "code",
   "execution_count": 11,
   "metadata": {},
   "outputs": [],
   "source": [
    "#使用gzip对比减枝前后文件大小\n",
    "def get_gzipped_model_size(file):\n",
    "    import os\n",
    "    import zipfile\n",
    "    \n",
    "    _, zipped_file = tempfile.mkstemp('.zip')\n",
    "    with zipfile.ZipFile(zipped_file, 'w', compression=zipfile.ZIP_DEFLATED) as f:\n",
    "        f.write(file)\n",
    "    print('Saved pruned Keras model zip to:', zipped_file)\n",
    "        \n",
    "    return os.path.getsize(zipped_file)"
   ]
  },
  {
   "cell_type": "code",
   "execution_count": 12,
   "metadata": {},
   "outputs": [
    {
     "name": "stdout",
     "output_type": "stream",
     "text": [
      "Saved pruned Keras model zip to: C:\\Users\\riky\\AppData\\Local\\Temp\\tmpjnr4j_0f.zip\n",
      "Size of gzipped baseline Keras model: 78073.00 bytes\n",
      "Saved pruned Keras model zip to: C:\\Users\\riky\\AppData\\Local\\Temp\\tmpcsj2kdq3.zip\n",
      "Size of gzipped pruned Keras model: 25568.00 bytes\n"
     ]
    }
   ],
   "source": [
    "print(\"Size of gzipped baseline Keras model: %.2f bytes\" % (get_gzipped_model_size(keras_file)))\n",
    "print(\"Size of gzipped pruned Keras model: %.2f bytes\" % (get_gzipped_model_size(pruned_keras_file)))"
   ]
  },
  {
   "cell_type": "code",
   "execution_count": null,
   "metadata": {},
   "outputs": [],
   "source": []
  }
 ],
 "metadata": {
  "kernelspec": {
   "display_name": "Python 3",
   "language": "python",
   "name": "python3"
  },
  "language_info": {
   "codemirror_mode": {
    "name": "ipython",
    "version": 3
   },
   "file_extension": ".py",
   "mimetype": "text/x-python",
   "name": "python",
   "nbconvert_exporter": "python",
   "pygments_lexer": "ipython3",
   "version": "3.7.7"
  }
 },
 "nbformat": 4,
 "nbformat_minor": 4
}
