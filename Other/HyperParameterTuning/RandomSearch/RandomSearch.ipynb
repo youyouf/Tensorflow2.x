{
 "cells": [
  {
   "cell_type": "code",
   "execution_count": 1,
   "metadata": {},
   "outputs": [],
   "source": [
    "import matplotlib\n",
    "from matplotlib import pyplot as plt\n",
    "matplotlib.rcParams['font.size'] = 18\n",
    "matplotlib.rcParams['figure.titlesize'] = 18\n",
    "matplotlib.rcParams['figure.figsize'] = [9, 7]\n",
    "matplotlib.rcParams['font.family'] = ['KaiTi']\n",
    "matplotlib.rcParams['axes.unicode_minus']=False\n",
    "\n",
    "import  os\n",
    "import  tensorflow as tf\n",
    "import  numpy as np\n",
    "from tensorflow import keras\n",
    "from tensorflow.keras import layers,optimizers,losses\n",
    "\n",
    "tf.random.set_seed(1234)\n",
    "np.random.seed(1234)\n",
    "os.environ['TF_CPP_MIN_LOG_LEVEL'] = '2'\n",
    "assert tf.__version__.startswith('2.')\n",
    "\n",
    "from kerastuner.tuners import RandomSearch\n",
    "from kerastuner.engine.hypermodel import HyperModel\n",
    "from kerastuner.engine.hyperparameters import HyperParameters"
   ]
  },
  {
   "cell_type": "code",
   "execution_count": 2,
   "metadata": {},
   "outputs": [],
   "source": [
    "#数据加载\n",
    "(x, y), (val_x, val_y) = keras.datasets.mnist.load_data()\n",
    "x = x.astype('float32') / 255.\n",
    "val_x = val_x.astype('float32') / 255.\n",
    "\n",
    "x = x[:10000]\n",
    "y = y[:10000]"
   ]
  },
  {
   "cell_type": "code",
   "execution_count": 3,
   "metadata": {},
   "outputs": [],
   "source": [
    "\"\"\"Basic case:\n",
    "- We define a `build_model` function\n",
    "- It returns a compiled model\n",
    "- It uses hyperparameters defined on the fly\n",
    "\"\"\"\n",
    "\n",
    "def build_model(hp):\n",
    "    model = keras.Sequential()\n",
    "    model.add(layers.Flatten(input_shape=(28, 28)))\n",
    "    \n",
    "    for i in range(hp.Int('num_layers', 2, 20)):\n",
    "        model.add(layers.Dense(units=hp.Int('units_' + str(i), 32, 512, 32),activation='relu'))\n",
    "        \n",
    "    model.add(layers.Dense(10, activation='softmax'))\n",
    "    model.compile(optimizer=keras.optimizers.Adam(hp.Choice('learning_rate', [1e-2, 1e-3, 1e-4])),\n",
    "                  loss=losses.CategoricalCrossentropy(from_logits=True),\n",
    "                  metrics=['accuracy'])\n",
    "    return model"
   ]
  },
  {
   "cell_type": "code",
   "execution_count": 4,
   "metadata": {},
   "outputs": [
    {
     "data": {
      "text/html": [
       "<span style=\"color:#4527A0\"><h1 style=\"font-size:18px\">Search space summary</h1></span>"
      ],
      "text/plain": [
       "<IPython.core.display.HTML object>"
      ]
     },
     "metadata": {},
     "output_type": "display_data"
    },
    {
     "data": {
      "text/html": [
       "<span style=\"color:cyan\"> |-Default search space size: 20</span>"
      ],
      "text/plain": [
       "<IPython.core.display.HTML object>"
      ]
     },
     "metadata": {},
     "output_type": "display_data"
    },
    {
     "data": {
      "text/html": [
       "<span style=\"color:#7E57C2\"><h2 style=\"font-size:16px\">num_layers (Int)</h2></span>"
      ],
      "text/plain": [
       "<IPython.core.display.HTML object>"
      ]
     },
     "metadata": {},
     "output_type": "display_data"
    },
    {
     "data": {
      "text/html": [
       "<span style=\"color:cyan\"> |-default: None</span>"
      ],
      "text/plain": [
       "<IPython.core.display.HTML object>"
      ]
     },
     "metadata": {},
     "output_type": "display_data"
    },
    {
     "data": {
      "text/html": [
       "<span style=\"color:blue\"> |-max_value: 20</span>"
      ],
      "text/plain": [
       "<IPython.core.display.HTML object>"
      ]
     },
     "metadata": {},
     "output_type": "display_data"
    },
    {
     "data": {
      "text/html": [
       "<span style=\"color:cyan\"> |-min_value: 2</span>"
      ],
      "text/plain": [
       "<IPython.core.display.HTML object>"
      ]
     },
     "metadata": {},
     "output_type": "display_data"
    },
    {
     "data": {
      "text/html": [
       "<span style=\"color:blue\"> |-sampling: None</span>"
      ],
      "text/plain": [
       "<IPython.core.display.HTML object>"
      ]
     },
     "metadata": {},
     "output_type": "display_data"
    },
    {
     "data": {
      "text/html": [
       "<span style=\"color:cyan\"> |-step: 1</span>"
      ],
      "text/plain": [
       "<IPython.core.display.HTML object>"
      ]
     },
     "metadata": {},
     "output_type": "display_data"
    },
    {
     "data": {
      "text/html": [
       "<span style=\"color:#7E57C2\"><h2 style=\"font-size:16px\">units_0 (Int)</h2></span>"
      ],
      "text/plain": [
       "<IPython.core.display.HTML object>"
      ]
     },
     "metadata": {},
     "output_type": "display_data"
    },
    {
     "data": {
      "text/html": [
       "<span style=\"color:cyan\"> |-default: None</span>"
      ],
      "text/plain": [
       "<IPython.core.display.HTML object>"
      ]
     },
     "metadata": {},
     "output_type": "display_data"
    },
    {
     "data": {
      "text/html": [
       "<span style=\"color:blue\"> |-max_value: 512</span>"
      ],
      "text/plain": [
       "<IPython.core.display.HTML object>"
      ]
     },
     "metadata": {},
     "output_type": "display_data"
    },
    {
     "data": {
      "text/html": [
       "<span style=\"color:cyan\"> |-min_value: 32</span>"
      ],
      "text/plain": [
       "<IPython.core.display.HTML object>"
      ]
     },
     "metadata": {},
     "output_type": "display_data"
    },
    {
     "data": {
      "text/html": [
       "<span style=\"color:blue\"> |-sampling: None</span>"
      ],
      "text/plain": [
       "<IPython.core.display.HTML object>"
      ]
     },
     "metadata": {},
     "output_type": "display_data"
    },
    {
     "data": {
      "text/html": [
       "<span style=\"color:cyan\"> |-step: 32</span>"
      ],
      "text/plain": [
       "<IPython.core.display.HTML object>"
      ]
     },
     "metadata": {},
     "output_type": "display_data"
    },
    {
     "data": {
      "text/html": [
       "<span style=\"color:#7E57C2\"><h2 style=\"font-size:16px\">units_1 (Int)</h2></span>"
      ],
      "text/plain": [
       "<IPython.core.display.HTML object>"
      ]
     },
     "metadata": {},
     "output_type": "display_data"
    },
    {
     "data": {
      "text/html": [
       "<span style=\"color:cyan\"> |-default: None</span>"
      ],
      "text/plain": [
       "<IPython.core.display.HTML object>"
      ]
     },
     "metadata": {},
     "output_type": "display_data"
    },
    {
     "data": {
      "text/html": [
       "<span style=\"color:blue\"> |-max_value: 512</span>"
      ],
      "text/plain": [
       "<IPython.core.display.HTML object>"
      ]
     },
     "metadata": {},
     "output_type": "display_data"
    },
    {
     "data": {
      "text/html": [
       "<span style=\"color:cyan\"> |-min_value: 32</span>"
      ],
      "text/plain": [
       "<IPython.core.display.HTML object>"
      ]
     },
     "metadata": {},
     "output_type": "display_data"
    },
    {
     "data": {
      "text/html": [
       "<span style=\"color:blue\"> |-sampling: None</span>"
      ],
      "text/plain": [
       "<IPython.core.display.HTML object>"
      ]
     },
     "metadata": {},
     "output_type": "display_data"
    },
    {
     "data": {
      "text/html": [
       "<span style=\"color:cyan\"> |-step: 32</span>"
      ],
      "text/plain": [
       "<IPython.core.display.HTML object>"
      ]
     },
     "metadata": {},
     "output_type": "display_data"
    },
    {
     "data": {
      "text/html": [
       "<span style=\"color:#7E57C2\"><h2 style=\"font-size:16px\">learning_rate (Choice)</h2></span>"
      ],
      "text/plain": [
       "<IPython.core.display.HTML object>"
      ]
     },
     "metadata": {},
     "output_type": "display_data"
    },
    {
     "data": {
      "text/html": [
       "<span style=\"color:cyan\"> |-default: 0.01</span>"
      ],
      "text/plain": [
       "<IPython.core.display.HTML object>"
      ]
     },
     "metadata": {},
     "output_type": "display_data"
    },
    {
     "data": {
      "text/html": [
       "<span style=\"color:blue\"> |-ordered: True</span>"
      ],
      "text/plain": [
       "<IPython.core.display.HTML object>"
      ]
     },
     "metadata": {},
     "output_type": "display_data"
    },
    {
     "data": {
      "text/html": [
       "<span style=\"color:cyan\"> |-values: [0.01, 0.001, 0.0001]</span>"
      ],
      "text/plain": [
       "<IPython.core.display.HTML object>"
      ]
     },
     "metadata": {},
     "output_type": "display_data"
    },
    {
     "data": {
      "text/html": [
       "<span style=\"color:#7E57C2\"><h2 style=\"font-size:16px\">units_2 (Int)</h2></span>"
      ],
      "text/plain": [
       "<IPython.core.display.HTML object>"
      ]
     },
     "metadata": {},
     "output_type": "display_data"
    },
    {
     "data": {
      "text/html": [
       "<span style=\"color:cyan\"> |-default: None</span>"
      ],
      "text/plain": [
       "<IPython.core.display.HTML object>"
      ]
     },
     "metadata": {},
     "output_type": "display_data"
    },
    {
     "data": {
      "text/html": [
       "<span style=\"color:blue\"> |-max_value: 512</span>"
      ],
      "text/plain": [
       "<IPython.core.display.HTML object>"
      ]
     },
     "metadata": {},
     "output_type": "display_data"
    },
    {
     "data": {
      "text/html": [
       "<span style=\"color:cyan\"> |-min_value: 32</span>"
      ],
      "text/plain": [
       "<IPython.core.display.HTML object>"
      ]
     },
     "metadata": {},
     "output_type": "display_data"
    },
    {
     "data": {
      "text/html": [
       "<span style=\"color:blue\"> |-sampling: None</span>"
      ],
      "text/plain": [
       "<IPython.core.display.HTML object>"
      ]
     },
     "metadata": {},
     "output_type": "display_data"
    },
    {
     "data": {
      "text/html": [
       "<span style=\"color:cyan\"> |-step: 32</span>"
      ],
      "text/plain": [
       "<IPython.core.display.HTML object>"
      ]
     },
     "metadata": {},
     "output_type": "display_data"
    },
    {
     "data": {
      "text/html": [
       "<span style=\"color:#7E57C2\"><h2 style=\"font-size:16px\">units_3 (Int)</h2></span>"
      ],
      "text/plain": [
       "<IPython.core.display.HTML object>"
      ]
     },
     "metadata": {},
     "output_type": "display_data"
    },
    {
     "data": {
      "text/html": [
       "<span style=\"color:cyan\"> |-default: None</span>"
      ],
      "text/plain": [
       "<IPython.core.display.HTML object>"
      ]
     },
     "metadata": {},
     "output_type": "display_data"
    },
    {
     "data": {
      "text/html": [
       "<span style=\"color:blue\"> |-max_value: 512</span>"
      ],
      "text/plain": [
       "<IPython.core.display.HTML object>"
      ]
     },
     "metadata": {},
     "output_type": "display_data"
    },
    {
     "data": {
      "text/html": [
       "<span style=\"color:cyan\"> |-min_value: 32</span>"
      ],
      "text/plain": [
       "<IPython.core.display.HTML object>"
      ]
     },
     "metadata": {},
     "output_type": "display_data"
    },
    {
     "data": {
      "text/html": [
       "<span style=\"color:blue\"> |-sampling: None</span>"
      ],
      "text/plain": [
       "<IPython.core.display.HTML object>"
      ]
     },
     "metadata": {},
     "output_type": "display_data"
    },
    {
     "data": {
      "text/html": [
       "<span style=\"color:cyan\"> |-step: 32</span>"
      ],
      "text/plain": [
       "<IPython.core.display.HTML object>"
      ]
     },
     "metadata": {},
     "output_type": "display_data"
    },
    {
     "data": {
      "text/html": [
       "<span style=\"color:#7E57C2\"><h2 style=\"font-size:16px\">units_4 (Int)</h2></span>"
      ],
      "text/plain": [
       "<IPython.core.display.HTML object>"
      ]
     },
     "metadata": {},
     "output_type": "display_data"
    },
    {
     "data": {
      "text/html": [
       "<span style=\"color:cyan\"> |-default: None</span>"
      ],
      "text/plain": [
       "<IPython.core.display.HTML object>"
      ]
     },
     "metadata": {},
     "output_type": "display_data"
    },
    {
     "data": {
      "text/html": [
       "<span style=\"color:blue\"> |-max_value: 512</span>"
      ],
      "text/plain": [
       "<IPython.core.display.HTML object>"
      ]
     },
     "metadata": {},
     "output_type": "display_data"
    },
    {
     "data": {
      "text/html": [
       "<span style=\"color:cyan\"> |-min_value: 32</span>"
      ],
      "text/plain": [
       "<IPython.core.display.HTML object>"
      ]
     },
     "metadata": {},
     "output_type": "display_data"
    },
    {
     "data": {
      "text/html": [
       "<span style=\"color:blue\"> |-sampling: None</span>"
      ],
      "text/plain": [
       "<IPython.core.display.HTML object>"
      ]
     },
     "metadata": {},
     "output_type": "display_data"
    },
    {
     "data": {
      "text/html": [
       "<span style=\"color:cyan\"> |-step: 32</span>"
      ],
      "text/plain": [
       "<IPython.core.display.HTML object>"
      ]
     },
     "metadata": {},
     "output_type": "display_data"
    },
    {
     "data": {
      "text/html": [
       "<span style=\"color:#7E57C2\"><h2 style=\"font-size:16px\">units_5 (Int)</h2></span>"
      ],
      "text/plain": [
       "<IPython.core.display.HTML object>"
      ]
     },
     "metadata": {},
     "output_type": "display_data"
    },
    {
     "data": {
      "text/html": [
       "<span style=\"color:cyan\"> |-default: None</span>"
      ],
      "text/plain": [
       "<IPython.core.display.HTML object>"
      ]
     },
     "metadata": {},
     "output_type": "display_data"
    },
    {
     "data": {
      "text/html": [
       "<span style=\"color:blue\"> |-max_value: 512</span>"
      ],
      "text/plain": [
       "<IPython.core.display.HTML object>"
      ]
     },
     "metadata": {},
     "output_type": "display_data"
    },
    {
     "data": {
      "text/html": [
       "<span style=\"color:cyan\"> |-min_value: 32</span>"
      ],
      "text/plain": [
       "<IPython.core.display.HTML object>"
      ]
     },
     "metadata": {},
     "output_type": "display_data"
    },
    {
     "data": {
      "text/html": [
       "<span style=\"color:blue\"> |-sampling: None</span>"
      ],
      "text/plain": [
       "<IPython.core.display.HTML object>"
      ]
     },
     "metadata": {},
     "output_type": "display_data"
    },
    {
     "data": {
      "text/html": [
       "<span style=\"color:cyan\"> |-step: 32</span>"
      ],
      "text/plain": [
       "<IPython.core.display.HTML object>"
      ]
     },
     "metadata": {},
     "output_type": "display_data"
    },
    {
     "data": {
      "text/html": [
       "<span style=\"color:#7E57C2\"><h2 style=\"font-size:16px\">units_6 (Int)</h2></span>"
      ],
      "text/plain": [
       "<IPython.core.display.HTML object>"
      ]
     },
     "metadata": {},
     "output_type": "display_data"
    },
    {
     "data": {
      "text/html": [
       "<span style=\"color:cyan\"> |-default: None</span>"
      ],
      "text/plain": [
       "<IPython.core.display.HTML object>"
      ]
     },
     "metadata": {},
     "output_type": "display_data"
    },
    {
     "data": {
      "text/html": [
       "<span style=\"color:blue\"> |-max_value: 512</span>"
      ],
      "text/plain": [
       "<IPython.core.display.HTML object>"
      ]
     },
     "metadata": {},
     "output_type": "display_data"
    },
    {
     "data": {
      "text/html": [
       "<span style=\"color:cyan\"> |-min_value: 32</span>"
      ],
      "text/plain": [
       "<IPython.core.display.HTML object>"
      ]
     },
     "metadata": {},
     "output_type": "display_data"
    },
    {
     "data": {
      "text/html": [
       "<span style=\"color:blue\"> |-sampling: None</span>"
      ],
      "text/plain": [
       "<IPython.core.display.HTML object>"
      ]
     },
     "metadata": {},
     "output_type": "display_data"
    },
    {
     "data": {
      "text/html": [
       "<span style=\"color:cyan\"> |-step: 32</span>"
      ],
      "text/plain": [
       "<IPython.core.display.HTML object>"
      ]
     },
     "metadata": {},
     "output_type": "display_data"
    },
    {
     "data": {
      "text/html": [
       "<span style=\"color:#7E57C2\"><h2 style=\"font-size:16px\">units_7 (Int)</h2></span>"
      ],
      "text/plain": [
       "<IPython.core.display.HTML object>"
      ]
     },
     "metadata": {},
     "output_type": "display_data"
    },
    {
     "data": {
      "text/html": [
       "<span style=\"color:cyan\"> |-default: None</span>"
      ],
      "text/plain": [
       "<IPython.core.display.HTML object>"
      ]
     },
     "metadata": {},
     "output_type": "display_data"
    },
    {
     "data": {
      "text/html": [
       "<span style=\"color:blue\"> |-max_value: 512</span>"
      ],
      "text/plain": [
       "<IPython.core.display.HTML object>"
      ]
     },
     "metadata": {},
     "output_type": "display_data"
    },
    {
     "data": {
      "text/html": [
       "<span style=\"color:cyan\"> |-min_value: 32</span>"
      ],
      "text/plain": [
       "<IPython.core.display.HTML object>"
      ]
     },
     "metadata": {},
     "output_type": "display_data"
    },
    {
     "data": {
      "text/html": [
       "<span style=\"color:blue\"> |-sampling: None</span>"
      ],
      "text/plain": [
       "<IPython.core.display.HTML object>"
      ]
     },
     "metadata": {},
     "output_type": "display_data"
    },
    {
     "data": {
      "text/html": [
       "<span style=\"color:cyan\"> |-step: 32</span>"
      ],
      "text/plain": [
       "<IPython.core.display.HTML object>"
      ]
     },
     "metadata": {},
     "output_type": "display_data"
    },
    {
     "data": {
      "text/html": [
       "<span style=\"color:#7E57C2\"><h2 style=\"font-size:16px\">units_8 (Int)</h2></span>"
      ],
      "text/plain": [
       "<IPython.core.display.HTML object>"
      ]
     },
     "metadata": {},
     "output_type": "display_data"
    },
    {
     "data": {
      "text/html": [
       "<span style=\"color:cyan\"> |-default: None</span>"
      ],
      "text/plain": [
       "<IPython.core.display.HTML object>"
      ]
     },
     "metadata": {},
     "output_type": "display_data"
    },
    {
     "data": {
      "text/html": [
       "<span style=\"color:blue\"> |-max_value: 512</span>"
      ],
      "text/plain": [
       "<IPython.core.display.HTML object>"
      ]
     },
     "metadata": {},
     "output_type": "display_data"
    },
    {
     "data": {
      "text/html": [
       "<span style=\"color:cyan\"> |-min_value: 32</span>"
      ],
      "text/plain": [
       "<IPython.core.display.HTML object>"
      ]
     },
     "metadata": {},
     "output_type": "display_data"
    },
    {
     "data": {
      "text/html": [
       "<span style=\"color:blue\"> |-sampling: None</span>"
      ],
      "text/plain": [
       "<IPython.core.display.HTML object>"
      ]
     },
     "metadata": {},
     "output_type": "display_data"
    },
    {
     "data": {
      "text/html": [
       "<span style=\"color:cyan\"> |-step: 32</span>"
      ],
      "text/plain": [
       "<IPython.core.display.HTML object>"
      ]
     },
     "metadata": {},
     "output_type": "display_data"
    },
    {
     "data": {
      "text/html": [
       "<span style=\"color:#7E57C2\"><h2 style=\"font-size:16px\">units_9 (Int)</h2></span>"
      ],
      "text/plain": [
       "<IPython.core.display.HTML object>"
      ]
     },
     "metadata": {},
     "output_type": "display_data"
    },
    {
     "data": {
      "text/html": [
       "<span style=\"color:cyan\"> |-default: None</span>"
      ],
      "text/plain": [
       "<IPython.core.display.HTML object>"
      ]
     },
     "metadata": {},
     "output_type": "display_data"
    },
    {
     "data": {
      "text/html": [
       "<span style=\"color:blue\"> |-max_value: 512</span>"
      ],
      "text/plain": [
       "<IPython.core.display.HTML object>"
      ]
     },
     "metadata": {},
     "output_type": "display_data"
    },
    {
     "data": {
      "text/html": [
       "<span style=\"color:cyan\"> |-min_value: 32</span>"
      ],
      "text/plain": [
       "<IPython.core.display.HTML object>"
      ]
     },
     "metadata": {},
     "output_type": "display_data"
    },
    {
     "data": {
      "text/html": [
       "<span style=\"color:blue\"> |-sampling: None</span>"
      ],
      "text/plain": [
       "<IPython.core.display.HTML object>"
      ]
     },
     "metadata": {},
     "output_type": "display_data"
    },
    {
     "data": {
      "text/html": [
       "<span style=\"color:cyan\"> |-step: 32</span>"
      ],
      "text/plain": [
       "<IPython.core.display.HTML object>"
      ]
     },
     "metadata": {},
     "output_type": "display_data"
    },
    {
     "data": {
      "text/html": [
       "<span style=\"color:#7E57C2\"><h2 style=\"font-size:16px\">units_10 (Int)</h2></span>"
      ],
      "text/plain": [
       "<IPython.core.display.HTML object>"
      ]
     },
     "metadata": {},
     "output_type": "display_data"
    },
    {
     "data": {
      "text/html": [
       "<span style=\"color:cyan\"> |-default: None</span>"
      ],
      "text/plain": [
       "<IPython.core.display.HTML object>"
      ]
     },
     "metadata": {},
     "output_type": "display_data"
    },
    {
     "data": {
      "text/html": [
       "<span style=\"color:blue\"> |-max_value: 512</span>"
      ],
      "text/plain": [
       "<IPython.core.display.HTML object>"
      ]
     },
     "metadata": {},
     "output_type": "display_data"
    },
    {
     "data": {
      "text/html": [
       "<span style=\"color:cyan\"> |-min_value: 32</span>"
      ],
      "text/plain": [
       "<IPython.core.display.HTML object>"
      ]
     },
     "metadata": {},
     "output_type": "display_data"
    },
    {
     "data": {
      "text/html": [
       "<span style=\"color:blue\"> |-sampling: None</span>"
      ],
      "text/plain": [
       "<IPython.core.display.HTML object>"
      ]
     },
     "metadata": {},
     "output_type": "display_data"
    },
    {
     "data": {
      "text/html": [
       "<span style=\"color:cyan\"> |-step: 32</span>"
      ],
      "text/plain": [
       "<IPython.core.display.HTML object>"
      ]
     },
     "metadata": {},
     "output_type": "display_data"
    },
    {
     "data": {
      "text/html": [
       "<span style=\"color:#7E57C2\"><h2 style=\"font-size:16px\">units_11 (Int)</h2></span>"
      ],
      "text/plain": [
       "<IPython.core.display.HTML object>"
      ]
     },
     "metadata": {},
     "output_type": "display_data"
    },
    {
     "data": {
      "text/html": [
       "<span style=\"color:cyan\"> |-default: None</span>"
      ],
      "text/plain": [
       "<IPython.core.display.HTML object>"
      ]
     },
     "metadata": {},
     "output_type": "display_data"
    },
    {
     "data": {
      "text/html": [
       "<span style=\"color:blue\"> |-max_value: 512</span>"
      ],
      "text/plain": [
       "<IPython.core.display.HTML object>"
      ]
     },
     "metadata": {},
     "output_type": "display_data"
    },
    {
     "data": {
      "text/html": [
       "<span style=\"color:cyan\"> |-min_value: 32</span>"
      ],
      "text/plain": [
       "<IPython.core.display.HTML object>"
      ]
     },
     "metadata": {},
     "output_type": "display_data"
    },
    {
     "data": {
      "text/html": [
       "<span style=\"color:blue\"> |-sampling: None</span>"
      ],
      "text/plain": [
       "<IPython.core.display.HTML object>"
      ]
     },
     "metadata": {},
     "output_type": "display_data"
    },
    {
     "data": {
      "text/html": [
       "<span style=\"color:cyan\"> |-step: 32</span>"
      ],
      "text/plain": [
       "<IPython.core.display.HTML object>"
      ]
     },
     "metadata": {},
     "output_type": "display_data"
    },
    {
     "data": {
      "text/html": [
       "<span style=\"color:#7E57C2\"><h2 style=\"font-size:16px\">units_12 (Int)</h2></span>"
      ],
      "text/plain": [
       "<IPython.core.display.HTML object>"
      ]
     },
     "metadata": {},
     "output_type": "display_data"
    },
    {
     "data": {
      "text/html": [
       "<span style=\"color:cyan\"> |-default: None</span>"
      ],
      "text/plain": [
       "<IPython.core.display.HTML object>"
      ]
     },
     "metadata": {},
     "output_type": "display_data"
    },
    {
     "data": {
      "text/html": [
       "<span style=\"color:blue\"> |-max_value: 512</span>"
      ],
      "text/plain": [
       "<IPython.core.display.HTML object>"
      ]
     },
     "metadata": {},
     "output_type": "display_data"
    },
    {
     "data": {
      "text/html": [
       "<span style=\"color:cyan\"> |-min_value: 32</span>"
      ],
      "text/plain": [
       "<IPython.core.display.HTML object>"
      ]
     },
     "metadata": {},
     "output_type": "display_data"
    },
    {
     "data": {
      "text/html": [
       "<span style=\"color:blue\"> |-sampling: None</span>"
      ],
      "text/plain": [
       "<IPython.core.display.HTML object>"
      ]
     },
     "metadata": {},
     "output_type": "display_data"
    },
    {
     "data": {
      "text/html": [
       "<span style=\"color:cyan\"> |-step: 32</span>"
      ],
      "text/plain": [
       "<IPython.core.display.HTML object>"
      ]
     },
     "metadata": {},
     "output_type": "display_data"
    },
    {
     "data": {
      "text/html": [
       "<span style=\"color:#7E57C2\"><h2 style=\"font-size:16px\">units_13 (Int)</h2></span>"
      ],
      "text/plain": [
       "<IPython.core.display.HTML object>"
      ]
     },
     "metadata": {},
     "output_type": "display_data"
    },
    {
     "data": {
      "text/html": [
       "<span style=\"color:cyan\"> |-default: None</span>"
      ],
      "text/plain": [
       "<IPython.core.display.HTML object>"
      ]
     },
     "metadata": {},
     "output_type": "display_data"
    },
    {
     "data": {
      "text/html": [
       "<span style=\"color:blue\"> |-max_value: 512</span>"
      ],
      "text/plain": [
       "<IPython.core.display.HTML object>"
      ]
     },
     "metadata": {},
     "output_type": "display_data"
    },
    {
     "data": {
      "text/html": [
       "<span style=\"color:cyan\"> |-min_value: 32</span>"
      ],
      "text/plain": [
       "<IPython.core.display.HTML object>"
      ]
     },
     "metadata": {},
     "output_type": "display_data"
    },
    {
     "data": {
      "text/html": [
       "<span style=\"color:blue\"> |-sampling: None</span>"
      ],
      "text/plain": [
       "<IPython.core.display.HTML object>"
      ]
     },
     "metadata": {},
     "output_type": "display_data"
    },
    {
     "data": {
      "text/html": [
       "<span style=\"color:cyan\"> |-step: 32</span>"
      ],
      "text/plain": [
       "<IPython.core.display.HTML object>"
      ]
     },
     "metadata": {},
     "output_type": "display_data"
    },
    {
     "data": {
      "text/html": [
       "<span style=\"color:#7E57C2\"><h2 style=\"font-size:16px\">units_14 (Int)</h2></span>"
      ],
      "text/plain": [
       "<IPython.core.display.HTML object>"
      ]
     },
     "metadata": {},
     "output_type": "display_data"
    },
    {
     "data": {
      "text/html": [
       "<span style=\"color:cyan\"> |-default: None</span>"
      ],
      "text/plain": [
       "<IPython.core.display.HTML object>"
      ]
     },
     "metadata": {},
     "output_type": "display_data"
    },
    {
     "data": {
      "text/html": [
       "<span style=\"color:blue\"> |-max_value: 512</span>"
      ],
      "text/plain": [
       "<IPython.core.display.HTML object>"
      ]
     },
     "metadata": {},
     "output_type": "display_data"
    },
    {
     "data": {
      "text/html": [
       "<span style=\"color:cyan\"> |-min_value: 32</span>"
      ],
      "text/plain": [
       "<IPython.core.display.HTML object>"
      ]
     },
     "metadata": {},
     "output_type": "display_data"
    },
    {
     "data": {
      "text/html": [
       "<span style=\"color:blue\"> |-sampling: None</span>"
      ],
      "text/plain": [
       "<IPython.core.display.HTML object>"
      ]
     },
     "metadata": {},
     "output_type": "display_data"
    },
    {
     "data": {
      "text/html": [
       "<span style=\"color:cyan\"> |-step: 32</span>"
      ],
      "text/plain": [
       "<IPython.core.display.HTML object>"
      ]
     },
     "metadata": {},
     "output_type": "display_data"
    },
    {
     "data": {
      "text/html": [
       "<span style=\"color:#7E57C2\"><h2 style=\"font-size:16px\">units_15 (Int)</h2></span>"
      ],
      "text/plain": [
       "<IPython.core.display.HTML object>"
      ]
     },
     "metadata": {},
     "output_type": "display_data"
    },
    {
     "data": {
      "text/html": [
       "<span style=\"color:cyan\"> |-default: None</span>"
      ],
      "text/plain": [
       "<IPython.core.display.HTML object>"
      ]
     },
     "metadata": {},
     "output_type": "display_data"
    },
    {
     "data": {
      "text/html": [
       "<span style=\"color:blue\"> |-max_value: 512</span>"
      ],
      "text/plain": [
       "<IPython.core.display.HTML object>"
      ]
     },
     "metadata": {},
     "output_type": "display_data"
    },
    {
     "data": {
      "text/html": [
       "<span style=\"color:cyan\"> |-min_value: 32</span>"
      ],
      "text/plain": [
       "<IPython.core.display.HTML object>"
      ]
     },
     "metadata": {},
     "output_type": "display_data"
    },
    {
     "data": {
      "text/html": [
       "<span style=\"color:blue\"> |-sampling: None</span>"
      ],
      "text/plain": [
       "<IPython.core.display.HTML object>"
      ]
     },
     "metadata": {},
     "output_type": "display_data"
    },
    {
     "data": {
      "text/html": [
       "<span style=\"color:cyan\"> |-step: 32</span>"
      ],
      "text/plain": [
       "<IPython.core.display.HTML object>"
      ]
     },
     "metadata": {},
     "output_type": "display_data"
    },
    {
     "data": {
      "text/html": [
       "<span style=\"color:#7E57C2\"><h2 style=\"font-size:16px\">units_16 (Int)</h2></span>"
      ],
      "text/plain": [
       "<IPython.core.display.HTML object>"
      ]
     },
     "metadata": {},
     "output_type": "display_data"
    },
    {
     "data": {
      "text/html": [
       "<span style=\"color:cyan\"> |-default: None</span>"
      ],
      "text/plain": [
       "<IPython.core.display.HTML object>"
      ]
     },
     "metadata": {},
     "output_type": "display_data"
    },
    {
     "data": {
      "text/html": [
       "<span style=\"color:blue\"> |-max_value: 512</span>"
      ],
      "text/plain": [
       "<IPython.core.display.HTML object>"
      ]
     },
     "metadata": {},
     "output_type": "display_data"
    },
    {
     "data": {
      "text/html": [
       "<span style=\"color:cyan\"> |-min_value: 32</span>"
      ],
      "text/plain": [
       "<IPython.core.display.HTML object>"
      ]
     },
     "metadata": {},
     "output_type": "display_data"
    },
    {
     "data": {
      "text/html": [
       "<span style=\"color:blue\"> |-sampling: None</span>"
      ],
      "text/plain": [
       "<IPython.core.display.HTML object>"
      ]
     },
     "metadata": {},
     "output_type": "display_data"
    },
    {
     "data": {
      "text/html": [
       "<span style=\"color:cyan\"> |-step: 32</span>"
      ],
      "text/plain": [
       "<IPython.core.display.HTML object>"
      ]
     },
     "metadata": {},
     "output_type": "display_data"
    },
    {
     "data": {
      "text/html": [
       "<span style=\"color:#7E57C2\"><h2 style=\"font-size:16px\">units_17 (Int)</h2></span>"
      ],
      "text/plain": [
       "<IPython.core.display.HTML object>"
      ]
     },
     "metadata": {},
     "output_type": "display_data"
    },
    {
     "data": {
      "text/html": [
       "<span style=\"color:cyan\"> |-default: None</span>"
      ],
      "text/plain": [
       "<IPython.core.display.HTML object>"
      ]
     },
     "metadata": {},
     "output_type": "display_data"
    },
    {
     "data": {
      "text/html": [
       "<span style=\"color:blue\"> |-max_value: 512</span>"
      ],
      "text/plain": [
       "<IPython.core.display.HTML object>"
      ]
     },
     "metadata": {},
     "output_type": "display_data"
    },
    {
     "data": {
      "text/html": [
       "<span style=\"color:cyan\"> |-min_value: 32</span>"
      ],
      "text/plain": [
       "<IPython.core.display.HTML object>"
      ]
     },
     "metadata": {},
     "output_type": "display_data"
    },
    {
     "data": {
      "text/html": [
       "<span style=\"color:blue\"> |-sampling: None</span>"
      ],
      "text/plain": [
       "<IPython.core.display.HTML object>"
      ]
     },
     "metadata": {},
     "output_type": "display_data"
    },
    {
     "data": {
      "text/html": [
       "<span style=\"color:cyan\"> |-step: 32</span>"
      ],
      "text/plain": [
       "<IPython.core.display.HTML object>"
      ]
     },
     "metadata": {},
     "output_type": "display_data"
    },
    {
     "name": "stdout",
     "output_type": "stream",
     "text": [
      "None\n"
     ]
    }
   ],
   "source": [
    "tuner = RandomSearch(build_model,objective='val_accuracy',max_trials=5,executions_per_trial=3,directory='my_dir')\n",
    "print(tuner.search_space_summary())"
   ]
  },
  {
   "cell_type": "code",
   "execution_count": 5,
   "metadata": {},
   "outputs": [
    {
     "data": {
      "text/html": [
       "<span style=\"color:#4527A0\"><h1 style=\"font-size:18px\">Results summary</h1></span>"
      ],
      "text/plain": [
       "<IPython.core.display.HTML object>"
      ]
     },
     "metadata": {},
     "output_type": "display_data"
    },
    {
     "data": {
      "text/html": [
       "<span style=\"color:cyan\"> |-Results in my_dir\\untitled_project</span>"
      ],
      "text/plain": [
       "<IPython.core.display.HTML object>"
      ]
     },
     "metadata": {},
     "output_type": "display_data"
    },
    {
     "data": {
      "text/html": [
       "<span style=\"color:cyan\"> |-Showing 10 best trials</span>"
      ],
      "text/plain": [
       "<IPython.core.display.HTML object>"
      ]
     },
     "metadata": {},
     "output_type": "display_data"
    },
    {
     "data": {
      "text/html": [
       "<span style=\"color:cyan\"> |-Objective(name='val_accuracy', direction='max')</span>"
      ],
      "text/plain": [
       "<IPython.core.display.HTML object>"
      ]
     },
     "metadata": {},
     "output_type": "display_data"
    },
    {
     "data": {
      "text/html": [
       "<span style=\"color:#4527A0\"><h1 style=\"font-size:18px\">Trial summary</h1></span>"
      ],
      "text/plain": [
       "<IPython.core.display.HTML object>"
      ]
     },
     "metadata": {},
     "output_type": "display_data"
    },
    {
     "data": {
      "text/html": [
       "<span style=\"color:cyan\"> |-Trial ID: ad52fb0847c250c91c0377c65effea17</span>"
      ],
      "text/plain": [
       "<IPython.core.display.HTML object>"
      ]
     },
     "metadata": {},
     "output_type": "display_data"
    },
    {
     "data": {
      "text/html": [
       "<span style=\"color:cyan\"> |-Score: 0.9246666431427002</span>"
      ],
      "text/plain": [
       "<IPython.core.display.HTML object>"
      ]
     },
     "metadata": {},
     "output_type": "display_data"
    },
    {
     "data": {
      "text/html": [
       "<span style=\"color:cyan\"> |-Best step: 0</span>"
      ],
      "text/plain": [
       "<IPython.core.display.HTML object>"
      ]
     },
     "metadata": {},
     "output_type": "display_data"
    },
    {
     "data": {
      "text/html": [
       "<span style=\"color:#7E57C2\"><h2 style=\"font-size:16px\">Hyperparameters:</h2></span>"
      ],
      "text/plain": [
       "<IPython.core.display.HTML object>"
      ]
     },
     "metadata": {},
     "output_type": "display_data"
    },
    {
     "data": {
      "text/html": [
       "<span style=\"color:cyan\"> |-learning_rate: 0.001</span>"
      ],
      "text/plain": [
       "<IPython.core.display.HTML object>"
      ]
     },
     "metadata": {},
     "output_type": "display_data"
    },
    {
     "data": {
      "text/html": [
       "<span style=\"color:blue\"> |-num_layers: 9</span>"
      ],
      "text/plain": [
       "<IPython.core.display.HTML object>"
      ]
     },
     "metadata": {},
     "output_type": "display_data"
    },
    {
     "data": {
      "text/html": [
       "<span style=\"color:cyan\"> |-units_0: 384</span>"
      ],
      "text/plain": [
       "<IPython.core.display.HTML object>"
      ]
     },
     "metadata": {},
     "output_type": "display_data"
    },
    {
     "data": {
      "text/html": [
       "<span style=\"color:blue\"> |-units_1: 128</span>"
      ],
      "text/plain": [
       "<IPython.core.display.HTML object>"
      ]
     },
     "metadata": {},
     "output_type": "display_data"
    },
    {
     "data": {
      "text/html": [
       "<span style=\"color:cyan\"> |-units_10: 384</span>"
      ],
      "text/plain": [
       "<IPython.core.display.HTML object>"
      ]
     },
     "metadata": {},
     "output_type": "display_data"
    },
    {
     "data": {
      "text/html": [
       "<span style=\"color:blue\"> |-units_11: 224</span>"
      ],
      "text/plain": [
       "<IPython.core.display.HTML object>"
      ]
     },
     "metadata": {},
     "output_type": "display_data"
    },
    {
     "data": {
      "text/html": [
       "<span style=\"color:cyan\"> |-units_12: 480</span>"
      ],
      "text/plain": [
       "<IPython.core.display.HTML object>"
      ]
     },
     "metadata": {},
     "output_type": "display_data"
    },
    {
     "data": {
      "text/html": [
       "<span style=\"color:blue\"> |-units_13: 224</span>"
      ],
      "text/plain": [
       "<IPython.core.display.HTML object>"
      ]
     },
     "metadata": {},
     "output_type": "display_data"
    },
    {
     "data": {
      "text/html": [
       "<span style=\"color:cyan\"> |-units_14: 288</span>"
      ],
      "text/plain": [
       "<IPython.core.display.HTML object>"
      ]
     },
     "metadata": {},
     "output_type": "display_data"
    },
    {
     "data": {
      "text/html": [
       "<span style=\"color:blue\"> |-units_15: 256</span>"
      ],
      "text/plain": [
       "<IPython.core.display.HTML object>"
      ]
     },
     "metadata": {},
     "output_type": "display_data"
    },
    {
     "data": {
      "text/html": [
       "<span style=\"color:cyan\"> |-units_16: 224</span>"
      ],
      "text/plain": [
       "<IPython.core.display.HTML object>"
      ]
     },
     "metadata": {},
     "output_type": "display_data"
    },
    {
     "data": {
      "text/html": [
       "<span style=\"color:blue\"> |-units_17: 160</span>"
      ],
      "text/plain": [
       "<IPython.core.display.HTML object>"
      ]
     },
     "metadata": {},
     "output_type": "display_data"
    },
    {
     "data": {
      "text/html": [
       "<span style=\"color:cyan\"> |-units_2: 288</span>"
      ],
      "text/plain": [
       "<IPython.core.display.HTML object>"
      ]
     },
     "metadata": {},
     "output_type": "display_data"
    },
    {
     "data": {
      "text/html": [
       "<span style=\"color:blue\"> |-units_3: 448</span>"
      ],
      "text/plain": [
       "<IPython.core.display.HTML object>"
      ]
     },
     "metadata": {},
     "output_type": "display_data"
    },
    {
     "data": {
      "text/html": [
       "<span style=\"color:cyan\"> |-units_4: 288</span>"
      ],
      "text/plain": [
       "<IPython.core.display.HTML object>"
      ]
     },
     "metadata": {},
     "output_type": "display_data"
    },
    {
     "data": {
      "text/html": [
       "<span style=\"color:blue\"> |-units_5: 256</span>"
      ],
      "text/plain": [
       "<IPython.core.display.HTML object>"
      ]
     },
     "metadata": {},
     "output_type": "display_data"
    },
    {
     "data": {
      "text/html": [
       "<span style=\"color:cyan\"> |-units_6: 288</span>"
      ],
      "text/plain": [
       "<IPython.core.display.HTML object>"
      ]
     },
     "metadata": {},
     "output_type": "display_data"
    },
    {
     "data": {
      "text/html": [
       "<span style=\"color:blue\"> |-units_7: 448</span>"
      ],
      "text/plain": [
       "<IPython.core.display.HTML object>"
      ]
     },
     "metadata": {},
     "output_type": "display_data"
    },
    {
     "data": {
      "text/html": [
       "<span style=\"color:cyan\"> |-units_8: 32</span>"
      ],
      "text/plain": [
       "<IPython.core.display.HTML object>"
      ]
     },
     "metadata": {},
     "output_type": "display_data"
    },
    {
     "data": {
      "text/html": [
       "<span style=\"color:blue\"> |-units_9: 256</span>"
      ],
      "text/plain": [
       "<IPython.core.display.HTML object>"
      ]
     },
     "metadata": {},
     "output_type": "display_data"
    },
    {
     "data": {
      "text/html": [
       "<span style=\"color:#4527A0\"><h1 style=\"font-size:18px\">Trial summary</h1></span>"
      ],
      "text/plain": [
       "<IPython.core.display.HTML object>"
      ]
     },
     "metadata": {},
     "output_type": "display_data"
    },
    {
     "data": {
      "text/html": [
       "<span style=\"color:cyan\"> |-Trial ID: bb7f5e93a1b4874649ee164a998ec291</span>"
      ],
      "text/plain": [
       "<IPython.core.display.HTML object>"
      ]
     },
     "metadata": {},
     "output_type": "display_data"
    },
    {
     "data": {
      "text/html": [
       "<span style=\"color:cyan\"> |-Score: 0.9161666035652161</span>"
      ],
      "text/plain": [
       "<IPython.core.display.HTML object>"
      ]
     },
     "metadata": {},
     "output_type": "display_data"
    },
    {
     "data": {
      "text/html": [
       "<span style=\"color:cyan\"> |-Best step: 0</span>"
      ],
      "text/plain": [
       "<IPython.core.display.HTML object>"
      ]
     },
     "metadata": {},
     "output_type": "display_data"
    },
    {
     "data": {
      "text/html": [
       "<span style=\"color:#7E57C2\"><h2 style=\"font-size:16px\">Hyperparameters:</h2></span>"
      ],
      "text/plain": [
       "<IPython.core.display.HTML object>"
      ]
     },
     "metadata": {},
     "output_type": "display_data"
    },
    {
     "data": {
      "text/html": [
       "<span style=\"color:cyan\"> |-learning_rate: 0.0001</span>"
      ],
      "text/plain": [
       "<IPython.core.display.HTML object>"
      ]
     },
     "metadata": {},
     "output_type": "display_data"
    },
    {
     "data": {
      "text/html": [
       "<span style=\"color:blue\"> |-num_layers: 10</span>"
      ],
      "text/plain": [
       "<IPython.core.display.HTML object>"
      ]
     },
     "metadata": {},
     "output_type": "display_data"
    },
    {
     "data": {
      "text/html": [
       "<span style=\"color:cyan\"> |-units_0: 352</span>"
      ],
      "text/plain": [
       "<IPython.core.display.HTML object>"
      ]
     },
     "metadata": {},
     "output_type": "display_data"
    },
    {
     "data": {
      "text/html": [
       "<span style=\"color:blue\"> |-units_1: 192</span>"
      ],
      "text/plain": [
       "<IPython.core.display.HTML object>"
      ]
     },
     "metadata": {},
     "output_type": "display_data"
    },
    {
     "data": {
      "text/html": [
       "<span style=\"color:cyan\"> |-units_10: 352</span>"
      ],
      "text/plain": [
       "<IPython.core.display.HTML object>"
      ]
     },
     "metadata": {},
     "output_type": "display_data"
    },
    {
     "data": {
      "text/html": [
       "<span style=\"color:blue\"> |-units_11: 352</span>"
      ],
      "text/plain": [
       "<IPython.core.display.HTML object>"
      ]
     },
     "metadata": {},
     "output_type": "display_data"
    },
    {
     "data": {
      "text/html": [
       "<span style=\"color:cyan\"> |-units_12: 128</span>"
      ],
      "text/plain": [
       "<IPython.core.display.HTML object>"
      ]
     },
     "metadata": {},
     "output_type": "display_data"
    },
    {
     "data": {
      "text/html": [
       "<span style=\"color:blue\"> |-units_13: 32</span>"
      ],
      "text/plain": [
       "<IPython.core.display.HTML object>"
      ]
     },
     "metadata": {},
     "output_type": "display_data"
    },
    {
     "data": {
      "text/html": [
       "<span style=\"color:cyan\"> |-units_14: 192</span>"
      ],
      "text/plain": [
       "<IPython.core.display.HTML object>"
      ]
     },
     "metadata": {},
     "output_type": "display_data"
    },
    {
     "data": {
      "text/html": [
       "<span style=\"color:blue\"> |-units_15: 384</span>"
      ],
      "text/plain": [
       "<IPython.core.display.HTML object>"
      ]
     },
     "metadata": {},
     "output_type": "display_data"
    },
    {
     "data": {
      "text/html": [
       "<span style=\"color:cyan\"> |-units_16: 320</span>"
      ],
      "text/plain": [
       "<IPython.core.display.HTML object>"
      ]
     },
     "metadata": {},
     "output_type": "display_data"
    },
    {
     "data": {
      "text/html": [
       "<span style=\"color:blue\"> |-units_17: 416</span>"
      ],
      "text/plain": [
       "<IPython.core.display.HTML object>"
      ]
     },
     "metadata": {},
     "output_type": "display_data"
    },
    {
     "data": {
      "text/html": [
       "<span style=\"color:cyan\"> |-units_2: 64</span>"
      ],
      "text/plain": [
       "<IPython.core.display.HTML object>"
      ]
     },
     "metadata": {},
     "output_type": "display_data"
    },
    {
     "data": {
      "text/html": [
       "<span style=\"color:blue\"> |-units_3: 192</span>"
      ],
      "text/plain": [
       "<IPython.core.display.HTML object>"
      ]
     },
     "metadata": {},
     "output_type": "display_data"
    },
    {
     "data": {
      "text/html": [
       "<span style=\"color:cyan\"> |-units_4: 480</span>"
      ],
      "text/plain": [
       "<IPython.core.display.HTML object>"
      ]
     },
     "metadata": {},
     "output_type": "display_data"
    },
    {
     "data": {
      "text/html": [
       "<span style=\"color:blue\"> |-units_5: 96</span>"
      ],
      "text/plain": [
       "<IPython.core.display.HTML object>"
      ]
     },
     "metadata": {},
     "output_type": "display_data"
    },
    {
     "data": {
      "text/html": [
       "<span style=\"color:cyan\"> |-units_6: 320</span>"
      ],
      "text/plain": [
       "<IPython.core.display.HTML object>"
      ]
     },
     "metadata": {},
     "output_type": "display_data"
    },
    {
     "data": {
      "text/html": [
       "<span style=\"color:blue\"> |-units_7: 160</span>"
      ],
      "text/plain": [
       "<IPython.core.display.HTML object>"
      ]
     },
     "metadata": {},
     "output_type": "display_data"
    },
    {
     "data": {
      "text/html": [
       "<span style=\"color:cyan\"> |-units_8: 128</span>"
      ],
      "text/plain": [
       "<IPython.core.display.HTML object>"
      ]
     },
     "metadata": {},
     "output_type": "display_data"
    },
    {
     "data": {
      "text/html": [
       "<span style=\"color:blue\"> |-units_9: 352</span>"
      ],
      "text/plain": [
       "<IPython.core.display.HTML object>"
      ]
     },
     "metadata": {},
     "output_type": "display_data"
    },
    {
     "data": {
      "text/html": [
       "<span style=\"color:#4527A0\"><h1 style=\"font-size:18px\">Trial summary</h1></span>"
      ],
      "text/plain": [
       "<IPython.core.display.HTML object>"
      ]
     },
     "metadata": {},
     "output_type": "display_data"
    },
    {
     "data": {
      "text/html": [
       "<span style=\"color:cyan\"> |-Trial ID: ae2fbaeda2c657d6704d6a5e705a2386</span>"
      ],
      "text/plain": [
       "<IPython.core.display.HTML object>"
      ]
     },
     "metadata": {},
     "output_type": "display_data"
    },
    {
     "data": {
      "text/html": [
       "<span style=\"color:cyan\"> |-Score: 0.8924000263214111</span>"
      ],
      "text/plain": [
       "<IPython.core.display.HTML object>"
      ]
     },
     "metadata": {},
     "output_type": "display_data"
    },
    {
     "data": {
      "text/html": [
       "<span style=\"color:cyan\"> |-Best step: 0</span>"
      ],
      "text/plain": [
       "<IPython.core.display.HTML object>"
      ]
     },
     "metadata": {},
     "output_type": "display_data"
    },
    {
     "data": {
      "text/html": [
       "<span style=\"color:#7E57C2\"><h2 style=\"font-size:16px\">Hyperparameters:</h2></span>"
      ],
      "text/plain": [
       "<IPython.core.display.HTML object>"
      ]
     },
     "metadata": {},
     "output_type": "display_data"
    },
    {
     "data": {
      "text/html": [
       "<span style=\"color:cyan\"> |-learning_rate: 0.001</span>"
      ],
      "text/plain": [
       "<IPython.core.display.HTML object>"
      ]
     },
     "metadata": {},
     "output_type": "display_data"
    },
    {
     "data": {
      "text/html": [
       "<span style=\"color:blue\"> |-num_layers: 18</span>"
      ],
      "text/plain": [
       "<IPython.core.display.HTML object>"
      ]
     },
     "metadata": {},
     "output_type": "display_data"
    },
    {
     "data": {
      "text/html": [
       "<span style=\"color:cyan\"> |-units_0: 288</span>"
      ],
      "text/plain": [
       "<IPython.core.display.HTML object>"
      ]
     },
     "metadata": {},
     "output_type": "display_data"
    },
    {
     "data": {
      "text/html": [
       "<span style=\"color:blue\"> |-units_1: 320</span>"
      ],
      "text/plain": [
       "<IPython.core.display.HTML object>"
      ]
     },
     "metadata": {},
     "output_type": "display_data"
    },
    {
     "data": {
      "text/html": [
       "<span style=\"color:cyan\"> |-units_10: 32</span>"
      ],
      "text/plain": [
       "<IPython.core.display.HTML object>"
      ]
     },
     "metadata": {},
     "output_type": "display_data"
    },
    {
     "data": {
      "text/html": [
       "<span style=\"color:blue\"> |-units_11: 32</span>"
      ],
      "text/plain": [
       "<IPython.core.display.HTML object>"
      ]
     },
     "metadata": {},
     "output_type": "display_data"
    },
    {
     "data": {
      "text/html": [
       "<span style=\"color:cyan\"> |-units_12: 32</span>"
      ],
      "text/plain": [
       "<IPython.core.display.HTML object>"
      ]
     },
     "metadata": {},
     "output_type": "display_data"
    },
    {
     "data": {
      "text/html": [
       "<span style=\"color:blue\"> |-units_13: 32</span>"
      ],
      "text/plain": [
       "<IPython.core.display.HTML object>"
      ]
     },
     "metadata": {},
     "output_type": "display_data"
    },
    {
     "data": {
      "text/html": [
       "<span style=\"color:cyan\"> |-units_14: 32</span>"
      ],
      "text/plain": [
       "<IPython.core.display.HTML object>"
      ]
     },
     "metadata": {},
     "output_type": "display_data"
    },
    {
     "data": {
      "text/html": [
       "<span style=\"color:blue\"> |-units_15: 32</span>"
      ],
      "text/plain": [
       "<IPython.core.display.HTML object>"
      ]
     },
     "metadata": {},
     "output_type": "display_data"
    },
    {
     "data": {
      "text/html": [
       "<span style=\"color:cyan\"> |-units_16: 32</span>"
      ],
      "text/plain": [
       "<IPython.core.display.HTML object>"
      ]
     },
     "metadata": {},
     "output_type": "display_data"
    },
    {
     "data": {
      "text/html": [
       "<span style=\"color:blue\"> |-units_17: 32</span>"
      ],
      "text/plain": [
       "<IPython.core.display.HTML object>"
      ]
     },
     "metadata": {},
     "output_type": "display_data"
    },
    {
     "data": {
      "text/html": [
       "<span style=\"color:cyan\"> |-units_2: 32</span>"
      ],
      "text/plain": [
       "<IPython.core.display.HTML object>"
      ]
     },
     "metadata": {},
     "output_type": "display_data"
    },
    {
     "data": {
      "text/html": [
       "<span style=\"color:blue\"> |-units_3: 32</span>"
      ],
      "text/plain": [
       "<IPython.core.display.HTML object>"
      ]
     },
     "metadata": {},
     "output_type": "display_data"
    },
    {
     "data": {
      "text/html": [
       "<span style=\"color:cyan\"> |-units_4: 32</span>"
      ],
      "text/plain": [
       "<IPython.core.display.HTML object>"
      ]
     },
     "metadata": {},
     "output_type": "display_data"
    },
    {
     "data": {
      "text/html": [
       "<span style=\"color:blue\"> |-units_5: 32</span>"
      ],
      "text/plain": [
       "<IPython.core.display.HTML object>"
      ]
     },
     "metadata": {},
     "output_type": "display_data"
    },
    {
     "data": {
      "text/html": [
       "<span style=\"color:cyan\"> |-units_6: 32</span>"
      ],
      "text/plain": [
       "<IPython.core.display.HTML object>"
      ]
     },
     "metadata": {},
     "output_type": "display_data"
    },
    {
     "data": {
      "text/html": [
       "<span style=\"color:blue\"> |-units_7: 32</span>"
      ],
      "text/plain": [
       "<IPython.core.display.HTML object>"
      ]
     },
     "metadata": {},
     "output_type": "display_data"
    },
    {
     "data": {
      "text/html": [
       "<span style=\"color:cyan\"> |-units_8: 32</span>"
      ],
      "text/plain": [
       "<IPython.core.display.HTML object>"
      ]
     },
     "metadata": {},
     "output_type": "display_data"
    },
    {
     "data": {
      "text/html": [
       "<span style=\"color:blue\"> |-units_9: 32</span>"
      ],
      "text/plain": [
       "<IPython.core.display.HTML object>"
      ]
     },
     "metadata": {},
     "output_type": "display_data"
    },
    {
     "data": {
      "text/html": [
       "<span style=\"color:#4527A0\"><h1 style=\"font-size:18px\">Trial summary</h1></span>"
      ],
      "text/plain": [
       "<IPython.core.display.HTML object>"
      ]
     },
     "metadata": {},
     "output_type": "display_data"
    },
    {
     "data": {
      "text/html": [
       "<span style=\"color:cyan\"> |-Trial ID: 5a75248bba9fbdd1b876d059b7050761</span>"
      ],
      "text/plain": [
       "<IPython.core.display.HTML object>"
      ]
     },
     "metadata": {},
     "output_type": "display_data"
    },
    {
     "data": {
      "text/html": [
       "<span style=\"color:cyan\"> |-Score: 0.7420333027839661</span>"
      ],
      "text/plain": [
       "<IPython.core.display.HTML object>"
      ]
     },
     "metadata": {},
     "output_type": "display_data"
    },
    {
     "data": {
      "text/html": [
       "<span style=\"color:cyan\"> |-Best step: 0</span>"
      ],
      "text/plain": [
       "<IPython.core.display.HTML object>"
      ]
     },
     "metadata": {},
     "output_type": "display_data"
    },
    {
     "data": {
      "text/html": [
       "<span style=\"color:#7E57C2\"><h2 style=\"font-size:16px\">Hyperparameters:</h2></span>"
      ],
      "text/plain": [
       "<IPython.core.display.HTML object>"
      ]
     },
     "metadata": {},
     "output_type": "display_data"
    },
    {
     "data": {
      "text/html": [
       "<span style=\"color:cyan\"> |-learning_rate: 0.01</span>"
      ],
      "text/plain": [
       "<IPython.core.display.HTML object>"
      ]
     },
     "metadata": {},
     "output_type": "display_data"
    },
    {
     "data": {
      "text/html": [
       "<span style=\"color:blue\"> |-num_layers: 5</span>"
      ],
      "text/plain": [
       "<IPython.core.display.HTML object>"
      ]
     },
     "metadata": {},
     "output_type": "display_data"
    },
    {
     "data": {
      "text/html": [
       "<span style=\"color:cyan\"> |-units_0: 512</span>"
      ],
      "text/plain": [
       "<IPython.core.display.HTML object>"
      ]
     },
     "metadata": {},
     "output_type": "display_data"
    },
    {
     "data": {
      "text/html": [
       "<span style=\"color:blue\"> |-units_1: 32</span>"
      ],
      "text/plain": [
       "<IPython.core.display.HTML object>"
      ]
     },
     "metadata": {},
     "output_type": "display_data"
    },
    {
     "data": {
      "text/html": [
       "<span style=\"color:cyan\"> |-units_10: 256</span>"
      ],
      "text/plain": [
       "<IPython.core.display.HTML object>"
      ]
     },
     "metadata": {},
     "output_type": "display_data"
    },
    {
     "data": {
      "text/html": [
       "<span style=\"color:blue\"> |-units_11: 256</span>"
      ],
      "text/plain": [
       "<IPython.core.display.HTML object>"
      ]
     },
     "metadata": {},
     "output_type": "display_data"
    },
    {
     "data": {
      "text/html": [
       "<span style=\"color:cyan\"> |-units_12: 416</span>"
      ],
      "text/plain": [
       "<IPython.core.display.HTML object>"
      ]
     },
     "metadata": {},
     "output_type": "display_data"
    },
    {
     "data": {
      "text/html": [
       "<span style=\"color:blue\"> |-units_13: 224</span>"
      ],
      "text/plain": [
       "<IPython.core.display.HTML object>"
      ]
     },
     "metadata": {},
     "output_type": "display_data"
    },
    {
     "data": {
      "text/html": [
       "<span style=\"color:cyan\"> |-units_14: 128</span>"
      ],
      "text/plain": [
       "<IPython.core.display.HTML object>"
      ]
     },
     "metadata": {},
     "output_type": "display_data"
    },
    {
     "data": {
      "text/html": [
       "<span style=\"color:blue\"> |-units_15: 320</span>"
      ],
      "text/plain": [
       "<IPython.core.display.HTML object>"
      ]
     },
     "metadata": {},
     "output_type": "display_data"
    },
    {
     "data": {
      "text/html": [
       "<span style=\"color:cyan\"> |-units_16: 224</span>"
      ],
      "text/plain": [
       "<IPython.core.display.HTML object>"
      ]
     },
     "metadata": {},
     "output_type": "display_data"
    },
    {
     "data": {
      "text/html": [
       "<span style=\"color:blue\"> |-units_17: 480</span>"
      ],
      "text/plain": [
       "<IPython.core.display.HTML object>"
      ]
     },
     "metadata": {},
     "output_type": "display_data"
    },
    {
     "data": {
      "text/html": [
       "<span style=\"color:cyan\"> |-units_2: 192</span>"
      ],
      "text/plain": [
       "<IPython.core.display.HTML object>"
      ]
     },
     "metadata": {},
     "output_type": "display_data"
    },
    {
     "data": {
      "text/html": [
       "<span style=\"color:blue\"> |-units_3: 448</span>"
      ],
      "text/plain": [
       "<IPython.core.display.HTML object>"
      ]
     },
     "metadata": {},
     "output_type": "display_data"
    },
    {
     "data": {
      "text/html": [
       "<span style=\"color:cyan\"> |-units_4: 352</span>"
      ],
      "text/plain": [
       "<IPython.core.display.HTML object>"
      ]
     },
     "metadata": {},
     "output_type": "display_data"
    },
    {
     "data": {
      "text/html": [
       "<span style=\"color:blue\"> |-units_5: 256</span>"
      ],
      "text/plain": [
       "<IPython.core.display.HTML object>"
      ]
     },
     "metadata": {},
     "output_type": "display_data"
    },
    {
     "data": {
      "text/html": [
       "<span style=\"color:cyan\"> |-units_6: 256</span>"
      ],
      "text/plain": [
       "<IPython.core.display.HTML object>"
      ]
     },
     "metadata": {},
     "output_type": "display_data"
    },
    {
     "data": {
      "text/html": [
       "<span style=\"color:blue\"> |-units_7: 128</span>"
      ],
      "text/plain": [
       "<IPython.core.display.HTML object>"
      ]
     },
     "metadata": {},
     "output_type": "display_data"
    },
    {
     "data": {
      "text/html": [
       "<span style=\"color:cyan\"> |-units_8: 256</span>"
      ],
      "text/plain": [
       "<IPython.core.display.HTML object>"
      ]
     },
     "metadata": {},
     "output_type": "display_data"
    },
    {
     "data": {
      "text/html": [
       "<span style=\"color:blue\"> |-units_9: 448</span>"
      ],
      "text/plain": [
       "<IPython.core.display.HTML object>"
      ]
     },
     "metadata": {},
     "output_type": "display_data"
    },
    {
     "data": {
      "text/html": [
       "<span style=\"color:#4527A0\"><h1 style=\"font-size:18px\">Trial summary</h1></span>"
      ],
      "text/plain": [
       "<IPython.core.display.HTML object>"
      ]
     },
     "metadata": {},
     "output_type": "display_data"
    },
    {
     "data": {
      "text/html": [
       "<span style=\"color:cyan\"> |-Trial ID: 5781f35cdc3ae67a2434b0729e5ceca7</span>"
      ],
      "text/plain": [
       "<IPython.core.display.HTML object>"
      ]
     },
     "metadata": {},
     "output_type": "display_data"
    },
    {
     "data": {
      "text/html": [
       "<span style=\"color:cyan\"> |-Score: 0.1982666701078415</span>"
      ],
      "text/plain": [
       "<IPython.core.display.HTML object>"
      ]
     },
     "metadata": {},
     "output_type": "display_data"
    },
    {
     "data": {
      "text/html": [
       "<span style=\"color:cyan\"> |-Best step: 0</span>"
      ],
      "text/plain": [
       "<IPython.core.display.HTML object>"
      ]
     },
     "metadata": {},
     "output_type": "display_data"
    },
    {
     "data": {
      "text/html": [
       "<span style=\"color:#7E57C2\"><h2 style=\"font-size:16px\">Hyperparameters:</h2></span>"
      ],
      "text/plain": [
       "<IPython.core.display.HTML object>"
      ]
     },
     "metadata": {},
     "output_type": "display_data"
    },
    {
     "data": {
      "text/html": [
       "<span style=\"color:cyan\"> |-learning_rate: 0.01</span>"
      ],
      "text/plain": [
       "<IPython.core.display.HTML object>"
      ]
     },
     "metadata": {},
     "output_type": "display_data"
    },
    {
     "data": {
      "text/html": [
       "<span style=\"color:blue\"> |-num_layers: 13</span>"
      ],
      "text/plain": [
       "<IPython.core.display.HTML object>"
      ]
     },
     "metadata": {},
     "output_type": "display_data"
    },
    {
     "data": {
      "text/html": [
       "<span style=\"color:cyan\"> |-units_0: 352</span>"
      ],
      "text/plain": [
       "<IPython.core.display.HTML object>"
      ]
     },
     "metadata": {},
     "output_type": "display_data"
    },
    {
     "data": {
      "text/html": [
       "<span style=\"color:blue\"> |-units_1: 352</span>"
      ],
      "text/plain": [
       "<IPython.core.display.HTML object>"
      ]
     },
     "metadata": {},
     "output_type": "display_data"
    },
    {
     "data": {
      "text/html": [
       "<span style=\"color:cyan\"> |-units_10: 224</span>"
      ],
      "text/plain": [
       "<IPython.core.display.HTML object>"
      ]
     },
     "metadata": {},
     "output_type": "display_data"
    },
    {
     "data": {
      "text/html": [
       "<span style=\"color:blue\"> |-units_11: 416</span>"
      ],
      "text/plain": [
       "<IPython.core.display.HTML object>"
      ]
     },
     "metadata": {},
     "output_type": "display_data"
    },
    {
     "data": {
      "text/html": [
       "<span style=\"color:cyan\"> |-units_12: 384</span>"
      ],
      "text/plain": [
       "<IPython.core.display.HTML object>"
      ]
     },
     "metadata": {},
     "output_type": "display_data"
    },
    {
     "data": {
      "text/html": [
       "<span style=\"color:blue\"> |-units_13: 288</span>"
      ],
      "text/plain": [
       "<IPython.core.display.HTML object>"
      ]
     },
     "metadata": {},
     "output_type": "display_data"
    },
    {
     "data": {
      "text/html": [
       "<span style=\"color:cyan\"> |-units_14: 480</span>"
      ],
      "text/plain": [
       "<IPython.core.display.HTML object>"
      ]
     },
     "metadata": {},
     "output_type": "display_data"
    },
    {
     "data": {
      "text/html": [
       "<span style=\"color:blue\"> |-units_15: 480</span>"
      ],
      "text/plain": [
       "<IPython.core.display.HTML object>"
      ]
     },
     "metadata": {},
     "output_type": "display_data"
    },
    {
     "data": {
      "text/html": [
       "<span style=\"color:cyan\"> |-units_16: 256</span>"
      ],
      "text/plain": [
       "<IPython.core.display.HTML object>"
      ]
     },
     "metadata": {},
     "output_type": "display_data"
    },
    {
     "data": {
      "text/html": [
       "<span style=\"color:blue\"> |-units_17: 96</span>"
      ],
      "text/plain": [
       "<IPython.core.display.HTML object>"
      ]
     },
     "metadata": {},
     "output_type": "display_data"
    },
    {
     "data": {
      "text/html": [
       "<span style=\"color:cyan\"> |-units_2: 96</span>"
      ],
      "text/plain": [
       "<IPython.core.display.HTML object>"
      ]
     },
     "metadata": {},
     "output_type": "display_data"
    },
    {
     "data": {
      "text/html": [
       "<span style=\"color:blue\"> |-units_3: 512</span>"
      ],
      "text/plain": [
       "<IPython.core.display.HTML object>"
      ]
     },
     "metadata": {},
     "output_type": "display_data"
    },
    {
     "data": {
      "text/html": [
       "<span style=\"color:cyan\"> |-units_4: 288</span>"
      ],
      "text/plain": [
       "<IPython.core.display.HTML object>"
      ]
     },
     "metadata": {},
     "output_type": "display_data"
    },
    {
     "data": {
      "text/html": [
       "<span style=\"color:blue\"> |-units_5: 352</span>"
      ],
      "text/plain": [
       "<IPython.core.display.HTML object>"
      ]
     },
     "metadata": {},
     "output_type": "display_data"
    },
    {
     "data": {
      "text/html": [
       "<span style=\"color:cyan\"> |-units_6: 256</span>"
      ],
      "text/plain": [
       "<IPython.core.display.HTML object>"
      ]
     },
     "metadata": {},
     "output_type": "display_data"
    },
    {
     "data": {
      "text/html": [
       "<span style=\"color:blue\"> |-units_7: 96</span>"
      ],
      "text/plain": [
       "<IPython.core.display.HTML object>"
      ]
     },
     "metadata": {},
     "output_type": "display_data"
    },
    {
     "data": {
      "text/html": [
       "<span style=\"color:cyan\"> |-units_8: 192</span>"
      ],
      "text/plain": [
       "<IPython.core.display.HTML object>"
      ]
     },
     "metadata": {},
     "output_type": "display_data"
    },
    {
     "data": {
      "text/html": [
       "<span style=\"color:blue\"> |-units_9: 256</span>"
      ],
      "text/plain": [
       "<IPython.core.display.HTML object>"
      ]
     },
     "metadata": {},
     "output_type": "display_data"
    },
    {
     "name": "stdout",
     "output_type": "stream",
     "text": [
      "----------------------------------------------------------\n"
     ]
    }
   ],
   "source": [
    "tuner.search(x=x,y=y,epochs=3,validation_data=(val_x, val_y))\n",
    "tuner.results_summary()\n",
    "print(\"----------------------------------------------------------\")"
   ]
  },
  {
   "cell_type": "code",
   "execution_count": 6,
   "metadata": {},
   "outputs": [
    {
     "data": {
      "text/html": [
       "<span style=\"color:#4527A0\"><h1 style=\"font-size:18px\">Results summary</h1></span>"
      ],
      "text/plain": [
       "<IPython.core.display.HTML object>"
      ]
     },
     "metadata": {},
     "output_type": "display_data"
    },
    {
     "data": {
      "text/html": [
       "<span style=\"color:cyan\"> |-Results in my_dir\\untitled_project</span>"
      ],
      "text/plain": [
       "<IPython.core.display.HTML object>"
      ]
     },
     "metadata": {},
     "output_type": "display_data"
    },
    {
     "data": {
      "text/html": [
       "<span style=\"color:cyan\"> |-Showing 10 best trials</span>"
      ],
      "text/plain": [
       "<IPython.core.display.HTML object>"
      ]
     },
     "metadata": {},
     "output_type": "display_data"
    },
    {
     "data": {
      "text/html": [
       "<span style=\"color:cyan\"> |-Objective(name='val_accuracy', direction='max')</span>"
      ],
      "text/plain": [
       "<IPython.core.display.HTML object>"
      ]
     },
     "metadata": {},
     "output_type": "display_data"
    },
    {
     "data": {
      "text/html": [
       "<span style=\"color:#4527A0\"><h1 style=\"font-size:18px\">Trial summary</h1></span>"
      ],
      "text/plain": [
       "<IPython.core.display.HTML object>"
      ]
     },
     "metadata": {},
     "output_type": "display_data"
    },
    {
     "data": {
      "text/html": [
       "<span style=\"color:cyan\"> |-Trial ID: ad52fb0847c250c91c0377c65effea17</span>"
      ],
      "text/plain": [
       "<IPython.core.display.HTML object>"
      ]
     },
     "metadata": {},
     "output_type": "display_data"
    },
    {
     "data": {
      "text/html": [
       "<span style=\"color:cyan\"> |-Score: 0.9246666431427002</span>"
      ],
      "text/plain": [
       "<IPython.core.display.HTML object>"
      ]
     },
     "metadata": {},
     "output_type": "display_data"
    },
    {
     "data": {
      "text/html": [
       "<span style=\"color:cyan\"> |-Best step: 0</span>"
      ],
      "text/plain": [
       "<IPython.core.display.HTML object>"
      ]
     },
     "metadata": {},
     "output_type": "display_data"
    },
    {
     "data": {
      "text/html": [
       "<span style=\"color:#7E57C2\"><h2 style=\"font-size:16px\">Hyperparameters:</h2></span>"
      ],
      "text/plain": [
       "<IPython.core.display.HTML object>"
      ]
     },
     "metadata": {},
     "output_type": "display_data"
    },
    {
     "data": {
      "text/html": [
       "<span style=\"color:cyan\"> |-learning_rate: 0.001</span>"
      ],
      "text/plain": [
       "<IPython.core.display.HTML object>"
      ]
     },
     "metadata": {},
     "output_type": "display_data"
    },
    {
     "data": {
      "text/html": [
       "<span style=\"color:blue\"> |-num_layers: 9</span>"
      ],
      "text/plain": [
       "<IPython.core.display.HTML object>"
      ]
     },
     "metadata": {},
     "output_type": "display_data"
    },
    {
     "data": {
      "text/html": [
       "<span style=\"color:cyan\"> |-units_0: 384</span>"
      ],
      "text/plain": [
       "<IPython.core.display.HTML object>"
      ]
     },
     "metadata": {},
     "output_type": "display_data"
    },
    {
     "data": {
      "text/html": [
       "<span style=\"color:blue\"> |-units_1: 128</span>"
      ],
      "text/plain": [
       "<IPython.core.display.HTML object>"
      ]
     },
     "metadata": {},
     "output_type": "display_data"
    },
    {
     "data": {
      "text/html": [
       "<span style=\"color:cyan\"> |-units_10: 384</span>"
      ],
      "text/plain": [
       "<IPython.core.display.HTML object>"
      ]
     },
     "metadata": {},
     "output_type": "display_data"
    },
    {
     "data": {
      "text/html": [
       "<span style=\"color:blue\"> |-units_11: 224</span>"
      ],
      "text/plain": [
       "<IPython.core.display.HTML object>"
      ]
     },
     "metadata": {},
     "output_type": "display_data"
    },
    {
     "data": {
      "text/html": [
       "<span style=\"color:cyan\"> |-units_12: 480</span>"
      ],
      "text/plain": [
       "<IPython.core.display.HTML object>"
      ]
     },
     "metadata": {},
     "output_type": "display_data"
    },
    {
     "data": {
      "text/html": [
       "<span style=\"color:blue\"> |-units_13: 224</span>"
      ],
      "text/plain": [
       "<IPython.core.display.HTML object>"
      ]
     },
     "metadata": {},
     "output_type": "display_data"
    },
    {
     "data": {
      "text/html": [
       "<span style=\"color:cyan\"> |-units_14: 288</span>"
      ],
      "text/plain": [
       "<IPython.core.display.HTML object>"
      ]
     },
     "metadata": {},
     "output_type": "display_data"
    },
    {
     "data": {
      "text/html": [
       "<span style=\"color:blue\"> |-units_15: 256</span>"
      ],
      "text/plain": [
       "<IPython.core.display.HTML object>"
      ]
     },
     "metadata": {},
     "output_type": "display_data"
    },
    {
     "data": {
      "text/html": [
       "<span style=\"color:cyan\"> |-units_16: 224</span>"
      ],
      "text/plain": [
       "<IPython.core.display.HTML object>"
      ]
     },
     "metadata": {},
     "output_type": "display_data"
    },
    {
     "data": {
      "text/html": [
       "<span style=\"color:blue\"> |-units_17: 160</span>"
      ],
      "text/plain": [
       "<IPython.core.display.HTML object>"
      ]
     },
     "metadata": {},
     "output_type": "display_data"
    },
    {
     "data": {
      "text/html": [
       "<span style=\"color:cyan\"> |-units_2: 288</span>"
      ],
      "text/plain": [
       "<IPython.core.display.HTML object>"
      ]
     },
     "metadata": {},
     "output_type": "display_data"
    },
    {
     "data": {
      "text/html": [
       "<span style=\"color:blue\"> |-units_3: 448</span>"
      ],
      "text/plain": [
       "<IPython.core.display.HTML object>"
      ]
     },
     "metadata": {},
     "output_type": "display_data"
    },
    {
     "data": {
      "text/html": [
       "<span style=\"color:cyan\"> |-units_4: 288</span>"
      ],
      "text/plain": [
       "<IPython.core.display.HTML object>"
      ]
     },
     "metadata": {},
     "output_type": "display_data"
    },
    {
     "data": {
      "text/html": [
       "<span style=\"color:blue\"> |-units_5: 256</span>"
      ],
      "text/plain": [
       "<IPython.core.display.HTML object>"
      ]
     },
     "metadata": {},
     "output_type": "display_data"
    },
    {
     "data": {
      "text/html": [
       "<span style=\"color:cyan\"> |-units_6: 288</span>"
      ],
      "text/plain": [
       "<IPython.core.display.HTML object>"
      ]
     },
     "metadata": {},
     "output_type": "display_data"
    },
    {
     "data": {
      "text/html": [
       "<span style=\"color:blue\"> |-units_7: 448</span>"
      ],
      "text/plain": [
       "<IPython.core.display.HTML object>"
      ]
     },
     "metadata": {},
     "output_type": "display_data"
    },
    {
     "data": {
      "text/html": [
       "<span style=\"color:cyan\"> |-units_8: 32</span>"
      ],
      "text/plain": [
       "<IPython.core.display.HTML object>"
      ]
     },
     "metadata": {},
     "output_type": "display_data"
    },
    {
     "data": {
      "text/html": [
       "<span style=\"color:blue\"> |-units_9: 256</span>"
      ],
      "text/plain": [
       "<IPython.core.display.HTML object>"
      ]
     },
     "metadata": {},
     "output_type": "display_data"
    },
    {
     "data": {
      "text/html": [
       "<span style=\"color:#4527A0\"><h1 style=\"font-size:18px\">Trial summary</h1></span>"
      ],
      "text/plain": [
       "<IPython.core.display.HTML object>"
      ]
     },
     "metadata": {},
     "output_type": "display_data"
    },
    {
     "data": {
      "text/html": [
       "<span style=\"color:cyan\"> |-Trial ID: bb7f5e93a1b4874649ee164a998ec291</span>"
      ],
      "text/plain": [
       "<IPython.core.display.HTML object>"
      ]
     },
     "metadata": {},
     "output_type": "display_data"
    },
    {
     "data": {
      "text/html": [
       "<span style=\"color:cyan\"> |-Score: 0.9161666035652161</span>"
      ],
      "text/plain": [
       "<IPython.core.display.HTML object>"
      ]
     },
     "metadata": {},
     "output_type": "display_data"
    },
    {
     "data": {
      "text/html": [
       "<span style=\"color:cyan\"> |-Best step: 0</span>"
      ],
      "text/plain": [
       "<IPython.core.display.HTML object>"
      ]
     },
     "metadata": {},
     "output_type": "display_data"
    },
    {
     "data": {
      "text/html": [
       "<span style=\"color:#7E57C2\"><h2 style=\"font-size:16px\">Hyperparameters:</h2></span>"
      ],
      "text/plain": [
       "<IPython.core.display.HTML object>"
      ]
     },
     "metadata": {},
     "output_type": "display_data"
    },
    {
     "data": {
      "text/html": [
       "<span style=\"color:cyan\"> |-learning_rate: 0.0001</span>"
      ],
      "text/plain": [
       "<IPython.core.display.HTML object>"
      ]
     },
     "metadata": {},
     "output_type": "display_data"
    },
    {
     "data": {
      "text/html": [
       "<span style=\"color:blue\"> |-num_layers: 10</span>"
      ],
      "text/plain": [
       "<IPython.core.display.HTML object>"
      ]
     },
     "metadata": {},
     "output_type": "display_data"
    },
    {
     "data": {
      "text/html": [
       "<span style=\"color:cyan\"> |-units_0: 352</span>"
      ],
      "text/plain": [
       "<IPython.core.display.HTML object>"
      ]
     },
     "metadata": {},
     "output_type": "display_data"
    },
    {
     "data": {
      "text/html": [
       "<span style=\"color:blue\"> |-units_1: 192</span>"
      ],
      "text/plain": [
       "<IPython.core.display.HTML object>"
      ]
     },
     "metadata": {},
     "output_type": "display_data"
    },
    {
     "data": {
      "text/html": [
       "<span style=\"color:cyan\"> |-units_10: 352</span>"
      ],
      "text/plain": [
       "<IPython.core.display.HTML object>"
      ]
     },
     "metadata": {},
     "output_type": "display_data"
    },
    {
     "data": {
      "text/html": [
       "<span style=\"color:blue\"> |-units_11: 352</span>"
      ],
      "text/plain": [
       "<IPython.core.display.HTML object>"
      ]
     },
     "metadata": {},
     "output_type": "display_data"
    },
    {
     "data": {
      "text/html": [
       "<span style=\"color:cyan\"> |-units_12: 128</span>"
      ],
      "text/plain": [
       "<IPython.core.display.HTML object>"
      ]
     },
     "metadata": {},
     "output_type": "display_data"
    },
    {
     "data": {
      "text/html": [
       "<span style=\"color:blue\"> |-units_13: 32</span>"
      ],
      "text/plain": [
       "<IPython.core.display.HTML object>"
      ]
     },
     "metadata": {},
     "output_type": "display_data"
    },
    {
     "data": {
      "text/html": [
       "<span style=\"color:cyan\"> |-units_14: 192</span>"
      ],
      "text/plain": [
       "<IPython.core.display.HTML object>"
      ]
     },
     "metadata": {},
     "output_type": "display_data"
    },
    {
     "data": {
      "text/html": [
       "<span style=\"color:blue\"> |-units_15: 384</span>"
      ],
      "text/plain": [
       "<IPython.core.display.HTML object>"
      ]
     },
     "metadata": {},
     "output_type": "display_data"
    },
    {
     "data": {
      "text/html": [
       "<span style=\"color:cyan\"> |-units_16: 320</span>"
      ],
      "text/plain": [
       "<IPython.core.display.HTML object>"
      ]
     },
     "metadata": {},
     "output_type": "display_data"
    },
    {
     "data": {
      "text/html": [
       "<span style=\"color:blue\"> |-units_17: 416</span>"
      ],
      "text/plain": [
       "<IPython.core.display.HTML object>"
      ]
     },
     "metadata": {},
     "output_type": "display_data"
    },
    {
     "data": {
      "text/html": [
       "<span style=\"color:cyan\"> |-units_2: 64</span>"
      ],
      "text/plain": [
       "<IPython.core.display.HTML object>"
      ]
     },
     "metadata": {},
     "output_type": "display_data"
    },
    {
     "data": {
      "text/html": [
       "<span style=\"color:blue\"> |-units_3: 192</span>"
      ],
      "text/plain": [
       "<IPython.core.display.HTML object>"
      ]
     },
     "metadata": {},
     "output_type": "display_data"
    },
    {
     "data": {
      "text/html": [
       "<span style=\"color:cyan\"> |-units_4: 480</span>"
      ],
      "text/plain": [
       "<IPython.core.display.HTML object>"
      ]
     },
     "metadata": {},
     "output_type": "display_data"
    },
    {
     "data": {
      "text/html": [
       "<span style=\"color:blue\"> |-units_5: 96</span>"
      ],
      "text/plain": [
       "<IPython.core.display.HTML object>"
      ]
     },
     "metadata": {},
     "output_type": "display_data"
    },
    {
     "data": {
      "text/html": [
       "<span style=\"color:cyan\"> |-units_6: 320</span>"
      ],
      "text/plain": [
       "<IPython.core.display.HTML object>"
      ]
     },
     "metadata": {},
     "output_type": "display_data"
    },
    {
     "data": {
      "text/html": [
       "<span style=\"color:blue\"> |-units_7: 160</span>"
      ],
      "text/plain": [
       "<IPython.core.display.HTML object>"
      ]
     },
     "metadata": {},
     "output_type": "display_data"
    },
    {
     "data": {
      "text/html": [
       "<span style=\"color:cyan\"> |-units_8: 128</span>"
      ],
      "text/plain": [
       "<IPython.core.display.HTML object>"
      ]
     },
     "metadata": {},
     "output_type": "display_data"
    },
    {
     "data": {
      "text/html": [
       "<span style=\"color:blue\"> |-units_9: 352</span>"
      ],
      "text/plain": [
       "<IPython.core.display.HTML object>"
      ]
     },
     "metadata": {},
     "output_type": "display_data"
    },
    {
     "data": {
      "text/html": [
       "<span style=\"color:#4527A0\"><h1 style=\"font-size:18px\">Trial summary</h1></span>"
      ],
      "text/plain": [
       "<IPython.core.display.HTML object>"
      ]
     },
     "metadata": {},
     "output_type": "display_data"
    },
    {
     "data": {
      "text/html": [
       "<span style=\"color:cyan\"> |-Trial ID: ae2fbaeda2c657d6704d6a5e705a2386</span>"
      ],
      "text/plain": [
       "<IPython.core.display.HTML object>"
      ]
     },
     "metadata": {},
     "output_type": "display_data"
    },
    {
     "data": {
      "text/html": [
       "<span style=\"color:cyan\"> |-Score: 0.8924000263214111</span>"
      ],
      "text/plain": [
       "<IPython.core.display.HTML object>"
      ]
     },
     "metadata": {},
     "output_type": "display_data"
    },
    {
     "data": {
      "text/html": [
       "<span style=\"color:cyan\"> |-Best step: 0</span>"
      ],
      "text/plain": [
       "<IPython.core.display.HTML object>"
      ]
     },
     "metadata": {},
     "output_type": "display_data"
    },
    {
     "data": {
      "text/html": [
       "<span style=\"color:#7E57C2\"><h2 style=\"font-size:16px\">Hyperparameters:</h2></span>"
      ],
      "text/plain": [
       "<IPython.core.display.HTML object>"
      ]
     },
     "metadata": {},
     "output_type": "display_data"
    },
    {
     "data": {
      "text/html": [
       "<span style=\"color:cyan\"> |-learning_rate: 0.001</span>"
      ],
      "text/plain": [
       "<IPython.core.display.HTML object>"
      ]
     },
     "metadata": {},
     "output_type": "display_data"
    },
    {
     "data": {
      "text/html": [
       "<span style=\"color:blue\"> |-num_layers: 18</span>"
      ],
      "text/plain": [
       "<IPython.core.display.HTML object>"
      ]
     },
     "metadata": {},
     "output_type": "display_data"
    },
    {
     "data": {
      "text/html": [
       "<span style=\"color:cyan\"> |-units_0: 288</span>"
      ],
      "text/plain": [
       "<IPython.core.display.HTML object>"
      ]
     },
     "metadata": {},
     "output_type": "display_data"
    },
    {
     "data": {
      "text/html": [
       "<span style=\"color:blue\"> |-units_1: 320</span>"
      ],
      "text/plain": [
       "<IPython.core.display.HTML object>"
      ]
     },
     "metadata": {},
     "output_type": "display_data"
    },
    {
     "data": {
      "text/html": [
       "<span style=\"color:cyan\"> |-units_10: 32</span>"
      ],
      "text/plain": [
       "<IPython.core.display.HTML object>"
      ]
     },
     "metadata": {},
     "output_type": "display_data"
    },
    {
     "data": {
      "text/html": [
       "<span style=\"color:blue\"> |-units_11: 32</span>"
      ],
      "text/plain": [
       "<IPython.core.display.HTML object>"
      ]
     },
     "metadata": {},
     "output_type": "display_data"
    },
    {
     "data": {
      "text/html": [
       "<span style=\"color:cyan\"> |-units_12: 32</span>"
      ],
      "text/plain": [
       "<IPython.core.display.HTML object>"
      ]
     },
     "metadata": {},
     "output_type": "display_data"
    },
    {
     "data": {
      "text/html": [
       "<span style=\"color:blue\"> |-units_13: 32</span>"
      ],
      "text/plain": [
       "<IPython.core.display.HTML object>"
      ]
     },
     "metadata": {},
     "output_type": "display_data"
    },
    {
     "data": {
      "text/html": [
       "<span style=\"color:cyan\"> |-units_14: 32</span>"
      ],
      "text/plain": [
       "<IPython.core.display.HTML object>"
      ]
     },
     "metadata": {},
     "output_type": "display_data"
    },
    {
     "data": {
      "text/html": [
       "<span style=\"color:blue\"> |-units_15: 32</span>"
      ],
      "text/plain": [
       "<IPython.core.display.HTML object>"
      ]
     },
     "metadata": {},
     "output_type": "display_data"
    },
    {
     "data": {
      "text/html": [
       "<span style=\"color:cyan\"> |-units_16: 32</span>"
      ],
      "text/plain": [
       "<IPython.core.display.HTML object>"
      ]
     },
     "metadata": {},
     "output_type": "display_data"
    },
    {
     "data": {
      "text/html": [
       "<span style=\"color:blue\"> |-units_17: 32</span>"
      ],
      "text/plain": [
       "<IPython.core.display.HTML object>"
      ]
     },
     "metadata": {},
     "output_type": "display_data"
    },
    {
     "data": {
      "text/html": [
       "<span style=\"color:cyan\"> |-units_2: 32</span>"
      ],
      "text/plain": [
       "<IPython.core.display.HTML object>"
      ]
     },
     "metadata": {},
     "output_type": "display_data"
    },
    {
     "data": {
      "text/html": [
       "<span style=\"color:blue\"> |-units_3: 32</span>"
      ],
      "text/plain": [
       "<IPython.core.display.HTML object>"
      ]
     },
     "metadata": {},
     "output_type": "display_data"
    },
    {
     "data": {
      "text/html": [
       "<span style=\"color:cyan\"> |-units_4: 32</span>"
      ],
      "text/plain": [
       "<IPython.core.display.HTML object>"
      ]
     },
     "metadata": {},
     "output_type": "display_data"
    },
    {
     "data": {
      "text/html": [
       "<span style=\"color:blue\"> |-units_5: 32</span>"
      ],
      "text/plain": [
       "<IPython.core.display.HTML object>"
      ]
     },
     "metadata": {},
     "output_type": "display_data"
    },
    {
     "data": {
      "text/html": [
       "<span style=\"color:cyan\"> |-units_6: 32</span>"
      ],
      "text/plain": [
       "<IPython.core.display.HTML object>"
      ]
     },
     "metadata": {},
     "output_type": "display_data"
    },
    {
     "data": {
      "text/html": [
       "<span style=\"color:blue\"> |-units_7: 32</span>"
      ],
      "text/plain": [
       "<IPython.core.display.HTML object>"
      ]
     },
     "metadata": {},
     "output_type": "display_data"
    },
    {
     "data": {
      "text/html": [
       "<span style=\"color:cyan\"> |-units_8: 32</span>"
      ],
      "text/plain": [
       "<IPython.core.display.HTML object>"
      ]
     },
     "metadata": {},
     "output_type": "display_data"
    },
    {
     "data": {
      "text/html": [
       "<span style=\"color:blue\"> |-units_9: 32</span>"
      ],
      "text/plain": [
       "<IPython.core.display.HTML object>"
      ]
     },
     "metadata": {},
     "output_type": "display_data"
    },
    {
     "data": {
      "text/html": [
       "<span style=\"color:#4527A0\"><h1 style=\"font-size:18px\">Trial summary</h1></span>"
      ],
      "text/plain": [
       "<IPython.core.display.HTML object>"
      ]
     },
     "metadata": {},
     "output_type": "display_data"
    },
    {
     "data": {
      "text/html": [
       "<span style=\"color:cyan\"> |-Trial ID: 5a75248bba9fbdd1b876d059b7050761</span>"
      ],
      "text/plain": [
       "<IPython.core.display.HTML object>"
      ]
     },
     "metadata": {},
     "output_type": "display_data"
    },
    {
     "data": {
      "text/html": [
       "<span style=\"color:cyan\"> |-Score: 0.7420333027839661</span>"
      ],
      "text/plain": [
       "<IPython.core.display.HTML object>"
      ]
     },
     "metadata": {},
     "output_type": "display_data"
    },
    {
     "data": {
      "text/html": [
       "<span style=\"color:cyan\"> |-Best step: 0</span>"
      ],
      "text/plain": [
       "<IPython.core.display.HTML object>"
      ]
     },
     "metadata": {},
     "output_type": "display_data"
    },
    {
     "data": {
      "text/html": [
       "<span style=\"color:#7E57C2\"><h2 style=\"font-size:16px\">Hyperparameters:</h2></span>"
      ],
      "text/plain": [
       "<IPython.core.display.HTML object>"
      ]
     },
     "metadata": {},
     "output_type": "display_data"
    },
    {
     "data": {
      "text/html": [
       "<span style=\"color:cyan\"> |-learning_rate: 0.01</span>"
      ],
      "text/plain": [
       "<IPython.core.display.HTML object>"
      ]
     },
     "metadata": {},
     "output_type": "display_data"
    },
    {
     "data": {
      "text/html": [
       "<span style=\"color:blue\"> |-num_layers: 5</span>"
      ],
      "text/plain": [
       "<IPython.core.display.HTML object>"
      ]
     },
     "metadata": {},
     "output_type": "display_data"
    },
    {
     "data": {
      "text/html": [
       "<span style=\"color:cyan\"> |-units_0: 512</span>"
      ],
      "text/plain": [
       "<IPython.core.display.HTML object>"
      ]
     },
     "metadata": {},
     "output_type": "display_data"
    },
    {
     "data": {
      "text/html": [
       "<span style=\"color:blue\"> |-units_1: 32</span>"
      ],
      "text/plain": [
       "<IPython.core.display.HTML object>"
      ]
     },
     "metadata": {},
     "output_type": "display_data"
    },
    {
     "data": {
      "text/html": [
       "<span style=\"color:cyan\"> |-units_10: 256</span>"
      ],
      "text/plain": [
       "<IPython.core.display.HTML object>"
      ]
     },
     "metadata": {},
     "output_type": "display_data"
    },
    {
     "data": {
      "text/html": [
       "<span style=\"color:blue\"> |-units_11: 256</span>"
      ],
      "text/plain": [
       "<IPython.core.display.HTML object>"
      ]
     },
     "metadata": {},
     "output_type": "display_data"
    },
    {
     "data": {
      "text/html": [
       "<span style=\"color:cyan\"> |-units_12: 416</span>"
      ],
      "text/plain": [
       "<IPython.core.display.HTML object>"
      ]
     },
     "metadata": {},
     "output_type": "display_data"
    },
    {
     "data": {
      "text/html": [
       "<span style=\"color:blue\"> |-units_13: 224</span>"
      ],
      "text/plain": [
       "<IPython.core.display.HTML object>"
      ]
     },
     "metadata": {},
     "output_type": "display_data"
    },
    {
     "data": {
      "text/html": [
       "<span style=\"color:cyan\"> |-units_14: 128</span>"
      ],
      "text/plain": [
       "<IPython.core.display.HTML object>"
      ]
     },
     "metadata": {},
     "output_type": "display_data"
    },
    {
     "data": {
      "text/html": [
       "<span style=\"color:blue\"> |-units_15: 320</span>"
      ],
      "text/plain": [
       "<IPython.core.display.HTML object>"
      ]
     },
     "metadata": {},
     "output_type": "display_data"
    },
    {
     "data": {
      "text/html": [
       "<span style=\"color:cyan\"> |-units_16: 224</span>"
      ],
      "text/plain": [
       "<IPython.core.display.HTML object>"
      ]
     },
     "metadata": {},
     "output_type": "display_data"
    },
    {
     "data": {
      "text/html": [
       "<span style=\"color:blue\"> |-units_17: 480</span>"
      ],
      "text/plain": [
       "<IPython.core.display.HTML object>"
      ]
     },
     "metadata": {},
     "output_type": "display_data"
    },
    {
     "data": {
      "text/html": [
       "<span style=\"color:cyan\"> |-units_2: 192</span>"
      ],
      "text/plain": [
       "<IPython.core.display.HTML object>"
      ]
     },
     "metadata": {},
     "output_type": "display_data"
    },
    {
     "data": {
      "text/html": [
       "<span style=\"color:blue\"> |-units_3: 448</span>"
      ],
      "text/plain": [
       "<IPython.core.display.HTML object>"
      ]
     },
     "metadata": {},
     "output_type": "display_data"
    },
    {
     "data": {
      "text/html": [
       "<span style=\"color:cyan\"> |-units_4: 352</span>"
      ],
      "text/plain": [
       "<IPython.core.display.HTML object>"
      ]
     },
     "metadata": {},
     "output_type": "display_data"
    },
    {
     "data": {
      "text/html": [
       "<span style=\"color:blue\"> |-units_5: 256</span>"
      ],
      "text/plain": [
       "<IPython.core.display.HTML object>"
      ]
     },
     "metadata": {},
     "output_type": "display_data"
    },
    {
     "data": {
      "text/html": [
       "<span style=\"color:cyan\"> |-units_6: 256</span>"
      ],
      "text/plain": [
       "<IPython.core.display.HTML object>"
      ]
     },
     "metadata": {},
     "output_type": "display_data"
    },
    {
     "data": {
      "text/html": [
       "<span style=\"color:blue\"> |-units_7: 128</span>"
      ],
      "text/plain": [
       "<IPython.core.display.HTML object>"
      ]
     },
     "metadata": {},
     "output_type": "display_data"
    },
    {
     "data": {
      "text/html": [
       "<span style=\"color:cyan\"> |-units_8: 256</span>"
      ],
      "text/plain": [
       "<IPython.core.display.HTML object>"
      ]
     },
     "metadata": {},
     "output_type": "display_data"
    },
    {
     "data": {
      "text/html": [
       "<span style=\"color:blue\"> |-units_9: 448</span>"
      ],
      "text/plain": [
       "<IPython.core.display.HTML object>"
      ]
     },
     "metadata": {},
     "output_type": "display_data"
    },
    {
     "data": {
      "text/html": [
       "<span style=\"color:#4527A0\"><h1 style=\"font-size:18px\">Trial summary</h1></span>"
      ],
      "text/plain": [
       "<IPython.core.display.HTML object>"
      ]
     },
     "metadata": {},
     "output_type": "display_data"
    },
    {
     "data": {
      "text/html": [
       "<span style=\"color:cyan\"> |-Trial ID: 5781f35cdc3ae67a2434b0729e5ceca7</span>"
      ],
      "text/plain": [
       "<IPython.core.display.HTML object>"
      ]
     },
     "metadata": {},
     "output_type": "display_data"
    },
    {
     "data": {
      "text/html": [
       "<span style=\"color:cyan\"> |-Score: 0.1982666701078415</span>"
      ],
      "text/plain": [
       "<IPython.core.display.HTML object>"
      ]
     },
     "metadata": {},
     "output_type": "display_data"
    },
    {
     "data": {
      "text/html": [
       "<span style=\"color:cyan\"> |-Best step: 0</span>"
      ],
      "text/plain": [
       "<IPython.core.display.HTML object>"
      ]
     },
     "metadata": {},
     "output_type": "display_data"
    },
    {
     "data": {
      "text/html": [
       "<span style=\"color:#7E57C2\"><h2 style=\"font-size:16px\">Hyperparameters:</h2></span>"
      ],
      "text/plain": [
       "<IPython.core.display.HTML object>"
      ]
     },
     "metadata": {},
     "output_type": "display_data"
    },
    {
     "data": {
      "text/html": [
       "<span style=\"color:cyan\"> |-learning_rate: 0.01</span>"
      ],
      "text/plain": [
       "<IPython.core.display.HTML object>"
      ]
     },
     "metadata": {},
     "output_type": "display_data"
    },
    {
     "data": {
      "text/html": [
       "<span style=\"color:blue\"> |-num_layers: 13</span>"
      ],
      "text/plain": [
       "<IPython.core.display.HTML object>"
      ]
     },
     "metadata": {},
     "output_type": "display_data"
    },
    {
     "data": {
      "text/html": [
       "<span style=\"color:cyan\"> |-units_0: 352</span>"
      ],
      "text/plain": [
       "<IPython.core.display.HTML object>"
      ]
     },
     "metadata": {},
     "output_type": "display_data"
    },
    {
     "data": {
      "text/html": [
       "<span style=\"color:blue\"> |-units_1: 352</span>"
      ],
      "text/plain": [
       "<IPython.core.display.HTML object>"
      ]
     },
     "metadata": {},
     "output_type": "display_data"
    },
    {
     "data": {
      "text/html": [
       "<span style=\"color:cyan\"> |-units_10: 224</span>"
      ],
      "text/plain": [
       "<IPython.core.display.HTML object>"
      ]
     },
     "metadata": {},
     "output_type": "display_data"
    },
    {
     "data": {
      "text/html": [
       "<span style=\"color:blue\"> |-units_11: 416</span>"
      ],
      "text/plain": [
       "<IPython.core.display.HTML object>"
      ]
     },
     "metadata": {},
     "output_type": "display_data"
    },
    {
     "data": {
      "text/html": [
       "<span style=\"color:cyan\"> |-units_12: 384</span>"
      ],
      "text/plain": [
       "<IPython.core.display.HTML object>"
      ]
     },
     "metadata": {},
     "output_type": "display_data"
    },
    {
     "data": {
      "text/html": [
       "<span style=\"color:blue\"> |-units_13: 288</span>"
      ],
      "text/plain": [
       "<IPython.core.display.HTML object>"
      ]
     },
     "metadata": {},
     "output_type": "display_data"
    },
    {
     "data": {
      "text/html": [
       "<span style=\"color:cyan\"> |-units_14: 480</span>"
      ],
      "text/plain": [
       "<IPython.core.display.HTML object>"
      ]
     },
     "metadata": {},
     "output_type": "display_data"
    },
    {
     "data": {
      "text/html": [
       "<span style=\"color:blue\"> |-units_15: 480</span>"
      ],
      "text/plain": [
       "<IPython.core.display.HTML object>"
      ]
     },
     "metadata": {},
     "output_type": "display_data"
    },
    {
     "data": {
      "text/html": [
       "<span style=\"color:cyan\"> |-units_16: 256</span>"
      ],
      "text/plain": [
       "<IPython.core.display.HTML object>"
      ]
     },
     "metadata": {},
     "output_type": "display_data"
    },
    {
     "data": {
      "text/html": [
       "<span style=\"color:blue\"> |-units_17: 96</span>"
      ],
      "text/plain": [
       "<IPython.core.display.HTML object>"
      ]
     },
     "metadata": {},
     "output_type": "display_data"
    },
    {
     "data": {
      "text/html": [
       "<span style=\"color:cyan\"> |-units_2: 96</span>"
      ],
      "text/plain": [
       "<IPython.core.display.HTML object>"
      ]
     },
     "metadata": {},
     "output_type": "display_data"
    },
    {
     "data": {
      "text/html": [
       "<span style=\"color:blue\"> |-units_3: 512</span>"
      ],
      "text/plain": [
       "<IPython.core.display.HTML object>"
      ]
     },
     "metadata": {},
     "output_type": "display_data"
    },
    {
     "data": {
      "text/html": [
       "<span style=\"color:cyan\"> |-units_4: 288</span>"
      ],
      "text/plain": [
       "<IPython.core.display.HTML object>"
      ]
     },
     "metadata": {},
     "output_type": "display_data"
    },
    {
     "data": {
      "text/html": [
       "<span style=\"color:blue\"> |-units_5: 352</span>"
      ],
      "text/plain": [
       "<IPython.core.display.HTML object>"
      ]
     },
     "metadata": {},
     "output_type": "display_data"
    },
    {
     "data": {
      "text/html": [
       "<span style=\"color:cyan\"> |-units_6: 256</span>"
      ],
      "text/plain": [
       "<IPython.core.display.HTML object>"
      ]
     },
     "metadata": {},
     "output_type": "display_data"
    },
    {
     "data": {
      "text/html": [
       "<span style=\"color:blue\"> |-units_7: 96</span>"
      ],
      "text/plain": [
       "<IPython.core.display.HTML object>"
      ]
     },
     "metadata": {},
     "output_type": "display_data"
    },
    {
     "data": {
      "text/html": [
       "<span style=\"color:cyan\"> |-units_8: 192</span>"
      ],
      "text/plain": [
       "<IPython.core.display.HTML object>"
      ]
     },
     "metadata": {},
     "output_type": "display_data"
    },
    {
     "data": {
      "text/html": [
       "<span style=\"color:blue\"> |-units_9: 256</span>"
      ],
      "text/plain": [
       "<IPython.core.display.HTML object>"
      ]
     },
     "metadata": {},
     "output_type": "display_data"
    },
    {
     "name": "stdout",
     "output_type": "stream",
     "text": [
      "----------------------------------------------------------\n"
     ]
    }
   ],
   "source": [
    "tuner.results_summary()\n",
    "print(\"----------------------------------------------------------\")"
   ]
  },
  {
   "cell_type": "code",
   "execution_count": 7,
   "metadata": {},
   "outputs": [
    {
     "name": "stdout",
     "output_type": "stream",
     "text": [
      "------------------------------------------------------------------------------------------\n",
      "best model: <tensorflow.python.keras.engine.sequential.Sequential object at 0x000001E11D14E548>\n",
      "------------------------------------------------------------------------------------------\n",
      "Summary: <bound method Network.summary of <tensorflow.python.keras.engine.sequential.Sequential object at 0x000001E11D14E548>>\n"
     ]
    }
   ],
   "source": [
    "best_model = tuner.get_best_models(1)[0]\n",
    "print(\"------------------------------------------------------------------------------------------\")\n",
    "print(\"best model:\",best_model)\n",
    "print(\"------------------------------------------------------------------------------------------\")\n",
    "print(\"Summary:\",best_model.summary)"
   ]
  },
  {
   "cell_type": "code",
   "execution_count": 8,
   "metadata": {},
   "outputs": [
    {
     "name": "stdout",
     "output_type": "stream",
     "text": [
      "------------------------------------------------------------------------------------------\n",
      "best_hyperparameters: <kerastuner.engine.hyperparameters.HyperParameters object at 0x000001E110B6D288>\n"
     ]
    }
   ],
   "source": [
    "best_hyperparameters = tuner.get_best_hyperparameters(1)[0]\n",
    "print(\"------------------------------------------------------------------------------------------\")\n",
    "print(\"best_hyperparameters:\",best_hyperparameters)"
   ]
  },
  {
   "cell_type": "code",
   "execution_count": 9,
   "metadata": {},
   "outputs": [
    {
     "name": "stdout",
     "output_type": "stream",
     "text": [
      "Model: \"sequential\"\n",
      "_________________________________________________________________\n",
      "Layer (type)                 Output Shape              Param #   \n",
      "=================================================================\n",
      "flatten (Flatten)            (None, 784)               0         \n",
      "_________________________________________________________________\n",
      "dense (Dense)                (None, 384)               301440    \n",
      "_________________________________________________________________\n",
      "dense_1 (Dense)              (None, 128)               49280     \n",
      "_________________________________________________________________\n",
      "dense_2 (Dense)              (None, 288)               37152     \n",
      "_________________________________________________________________\n",
      "dense_3 (Dense)              (None, 448)               129472    \n",
      "_________________________________________________________________\n",
      "dense_4 (Dense)              (None, 288)               129312    \n",
      "_________________________________________________________________\n",
      "dense_5 (Dense)              (None, 256)               73984     \n",
      "_________________________________________________________________\n",
      "dense_6 (Dense)              (None, 288)               74016     \n",
      "_________________________________________________________________\n",
      "dense_7 (Dense)              (None, 448)               129472    \n",
      "_________________________________________________________________\n",
      "dense_8 (Dense)              (None, 32)                14368     \n",
      "_________________________________________________________________\n",
      "dense_9 (Dense)              (None, 10)                330       \n",
      "=================================================================\n",
      "Total params: 938,826\n",
      "Trainable params: 938,826\n",
      "Non-trainable params: 0\n",
      "_________________________________________________________________\n",
      "<tensorflow.python.keras.layers.core.Dense object at 0x000001E11D578E48> [<tf.Variable 'dense/kernel:0' shape=(784, 384) dtype=float32, numpy=\n",
      "array([[ 0.02463447,  0.05929369,  0.05828477, ...,  0.05952675,\n",
      "        -0.07152934,  0.02723522],\n",
      "       [-0.06797116,  0.06646658, -0.05570806, ..., -0.01574264,\n",
      "         0.06322775, -0.02724386],\n",
      "       [-0.01410056,  0.0558648 , -0.05667969, ...,  0.01515914,\n",
      "        -0.01646994,  0.01783219],\n",
      "       ...,\n",
      "       [ 0.05813415,  0.03212213,  0.01360115, ..., -0.00286457,\n",
      "        -0.03103786,  0.01771373],\n",
      "       [ 0.03354677, -0.06631885,  0.00688577, ...,  0.01538936,\n",
      "         0.04131269, -0.05298091],\n",
      "       [-0.02380787, -0.06630015, -0.01067726, ...,  0.06039303,\n",
      "         0.03603435, -0.01232605]], dtype=float32)>, <tf.Variable 'dense/bias:0' shape=(384,) dtype=float32, numpy=\n",
      "array([-1.51798762e-02,  6.63253013e-03, -3.92770767e-03,  1.82611588e-03,\n",
      "       -2.26665195e-02,  9.38646961e-03, -1.38996374e-02, -3.40422988e-02,\n",
      "        9.50539077e-04, -8.87431763e-03,  3.76304309e-03, -1.79785788e-02,\n",
      "       -6.12663664e-03, -1.88016929e-02,  6.77288976e-03, -7.75403436e-03,\n",
      "        8.60754307e-03, -1.39155425e-02, -4.48990660e-03, -1.35496315e-02,\n",
      "        3.61022446e-03,  8.08572490e-03,  4.15614108e-03, -9.93034523e-03,\n",
      "       -1.95224080e-02, -1.17491148e-02,  1.74464080e-02, -7.04431720e-03,\n",
      "       -6.30124006e-03, -2.00660117e-02, -4.99483198e-03, -1.70029122e-02,\n",
      "       -4.11129417e-03, -1.66751128e-02,  8.78433324e-03, -1.38973193e-02,\n",
      "       -8.14536307e-03, -2.44880444e-03,  1.29151903e-02, -5.15340734e-03,\n",
      "        1.68884862e-02, -7.49805523e-03, -1.50723401e-02, -2.55447961e-02,\n",
      "        6.09523989e-03,  1.08087957e-02, -1.20469956e-02,  8.89105443e-03,\n",
      "        1.08930999e-02,  1.46934986e-02, -9.81362769e-04, -5.87069662e-03,\n",
      "        2.49405056e-02,  6.55217154e-04,  9.20488779e-03, -9.97151341e-03,\n",
      "       -2.06830837e-02, -8.02812539e-03,  5.56493457e-03,  1.98105141e-03,\n",
      "       -7.12669268e-03,  1.40689686e-02,  2.47040414e-04,  1.40943375e-04,\n",
      "       -1.46476487e-02, -9.89398826e-03, -5.44771180e-03,  3.52187618e-03,\n",
      "        5.12601761e-03, -1.20034057e-03,  1.30834512e-03, -2.41415538e-02,\n",
      "       -4.97006625e-03, -3.52969440e-03, -3.38382423e-02, -4.18094127e-03,\n",
      "        2.54826006e-02, -3.08155082e-02,  1.67868733e-02,  5.23060746e-03,\n",
      "       -1.39785577e-02,  5.93736162e-03, -1.01520671e-02,  7.24158483e-04,\n",
      "       -4.82639438e-03, -1.39750047e-02, -1.12387193e-02,  1.36420093e-02,\n",
      "        1.21871233e-02, -1.99302733e-02,  1.35035776e-02, -5.61794871e-03,\n",
      "       -3.63294338e-03, -7.71462335e-04, -8.49708728e-03, -7.70990225e-03,\n",
      "       -1.56402588e-02, -1.66255515e-02,  1.20334800e-04,  5.86666632e-04,\n",
      "       -8.22881982e-03, -5.41588524e-04, -2.80800811e-03, -1.00397067e-02,\n",
      "        1.09545263e-02,  1.32766291e-02,  4.33559384e-04, -2.37536081e-03,\n",
      "       -1.41273802e-02, -4.69192688e-04, -8.06022715e-03,  7.74521497e-04,\n",
      "       -7.27109099e-03,  1.46651138e-02, -2.40090135e-02, -1.68741141e-02,\n",
      "        6.11247355e-03, -6.99475873e-03,  1.69552136e-02,  2.03776965e-03,\n",
      "        1.35175069e-03,  1.68770645e-02, -8.52645189e-03,  1.53128654e-02,\n",
      "       -7.26517849e-03,  8.37690942e-03,  7.37215579e-03,  1.76698659e-02,\n",
      "       -7.81609386e-04, -2.04213616e-03, -1.18975164e-02, -2.08154023e-02,\n",
      "       -5.52430283e-03,  2.21614335e-02, -7.15464237e-04,  3.86167923e-03,\n",
      "       -1.56781878e-02,  3.53163993e-03,  1.08359251e-02, -6.93599368e-03,\n",
      "        2.65552965e-03, -9.85646807e-03, -2.87247845e-03, -2.36843582e-02,\n",
      "       -9.64046398e-04,  2.69934721e-03, -1.01958895e-02,  3.42435995e-03,\n",
      "        7.78796477e-03, -1.21423993e-02,  1.42686022e-02,  1.63386483e-02,\n",
      "        1.12237055e-02, -1.75789353e-02, -2.10762070e-03,  6.51861262e-03,\n",
      "        3.56379547e-03, -9.98129882e-03,  1.56370383e-02,  1.02408882e-02,\n",
      "       -5.58367604e-03,  8.03742744e-03, -1.86005589e-02,  1.04915090e-02,\n",
      "        8.52837518e-04, -1.99425053e-02, -3.96227511e-03,  2.16713664e-03,\n",
      "        7.26737594e-03,  1.31630469e-02, -1.64693594e-02, -6.60505320e-04,\n",
      "       -6.10843068e-04, -1.41227134e-02, -1.40608707e-02, -7.10401218e-03,\n",
      "        4.84574499e-04,  1.57294364e-03, -1.26848826e-02, -2.89266184e-02,\n",
      "       -4.75678965e-03,  1.74227753e-03, -1.26801068e-02,  1.90927484e-03,\n",
      "       -1.62179850e-03, -4.83981380e-03, -5.62418485e-03,  1.03216600e-02,\n",
      "       -1.23468759e-02,  1.43766217e-03, -4.69780993e-03, -7.15942867e-03,\n",
      "       -2.50132103e-03, -2.05734149e-02, -1.45811336e-02, -1.17002558e-02,\n",
      "       -1.79261416e-02, -2.83075403e-02, -1.18538514e-02, -7.91574083e-03,\n",
      "       -1.39464333e-03, -1.44931227e-02, -1.10906677e-03, -1.18939579e-03,\n",
      "       -1.34517904e-02, -1.77259818e-02,  1.89418197e-02,  1.85053353e-03,\n",
      "       -9.03292745e-03,  2.12885439e-03, -5.03474427e-03,  1.17377751e-02,\n",
      "        6.87015895e-03, -6.65531668e-04, -5.70412865e-03, -1.63209643e-02,\n",
      "       -2.04712581e-02, -2.03026272e-03, -1.18117845e-02,  1.01074418e-02,\n",
      "       -1.52013702e-02, -2.19299719e-02,  3.75548750e-03, -1.16827013e-03,\n",
      "       -2.11920775e-02,  8.20124405e-04,  9.21017025e-03,  8.06345232e-03,\n",
      "       -1.27241239e-02,  2.20297892e-02, -1.20118782e-02, -9.46020242e-04,\n",
      "        5.34893305e-04, -3.54605867e-03, -3.55214323e-03, -5.66359423e-03,\n",
      "        2.31091632e-03,  1.08550098e-02,  1.76714864e-02, -2.03623381e-02,\n",
      "        8.44932441e-03, -2.91868430e-02, -2.45948266e-02,  7.71025254e-04,\n",
      "        2.44171778e-03, -8.69820142e-05,  1.04508586e-02, -1.94771048e-02,\n",
      "       -1.83843020e-02,  1.06516306e-03, -1.36742853e-02, -2.23827455e-02,\n",
      "       -3.15766549e-03, -1.87890027e-02, -3.41010746e-03,  5.37993340e-03,\n",
      "        6.11881120e-03,  1.50045548e-02,  1.53568573e-03,  3.10253655e-03,\n",
      "       -1.89621432e-03,  1.63219366e-02,  1.40732192e-02, -4.72701248e-03,\n",
      "        7.13254185e-03, -4.91753686e-03,  9.15550999e-03, -1.50494296e-02,\n",
      "        2.65477449e-02, -2.15859488e-02, -2.78799073e-03, -2.81193643e-03,\n",
      "        3.61244730e-03, -5.84945688e-03,  1.05668034e-04, -5.29558631e-03,\n",
      "        3.63925035e-04,  1.26324985e-02, -5.13815181e-03, -7.11878249e-03,\n",
      "       -1.39702745e-02,  6.18122006e-03, -1.25563415e-02, -1.68689378e-02,\n",
      "       -4.90386039e-04,  8.34179111e-03,  1.05085392e-02, -1.74272545e-02,\n",
      "        3.09992395e-03, -9.57642682e-03, -3.12282052e-03, -1.55601017e-02,\n",
      "        6.13789773e-03, -6.62431307e-03,  4.87376191e-03, -9.72586311e-03,\n",
      "        3.08523094e-03,  6.90027559e-03,  1.00514662e-04, -6.34306995e-03,\n",
      "        3.81787773e-03,  1.56756565e-02, -7.31067173e-03, -5.22500928e-03,\n",
      "       -2.68711214e-04,  6.13308605e-03,  4.98066796e-03, -4.84789634e-04,\n",
      "       -2.39289040e-03, -1.02040628e-02,  4.13906528e-03, -1.82384383e-02,\n",
      "       -4.61258506e-03, -2.31222101e-02,  1.64273288e-02, -2.05059368e-02,\n",
      "        1.66667369e-03, -1.12835476e-02,  2.22960673e-02,  1.14502655e-02,\n",
      "        5.75496024e-03, -1.91388733e-03, -5.14447317e-03,  6.34811679e-03,\n",
      "       -9.72980913e-03,  1.12656364e-02, -8.41064192e-03, -1.04215061e-02,\n",
      "        1.01721203e-02, -2.33608782e-02, -1.14512602e-02, -1.24648297e-02,\n",
      "       -1.69987306e-02,  1.47319771e-02, -4.26416099e-03, -4.29946929e-03,\n",
      "       -1.63091477e-02,  9.94712696e-04, -8.25759768e-03,  5.53427078e-03,\n",
      "        1.03488378e-03, -2.82388087e-02,  1.59038734e-02, -1.71833951e-02,\n",
      "       -1.19584268e-02,  2.64038029e-03,  3.07127438e-03, -1.71925519e-02,\n",
      "        3.54125141e-03, -1.98527463e-02, -2.05188636e-02,  5.86954691e-03,\n",
      "        1.11375540e-03, -2.65959352e-02,  5.13612712e-03, -2.12266168e-04,\n",
      "       -1.44782439e-02, -9.90045071e-03,  2.69468199e-03, -2.45950604e-03,\n",
      "        8.89147725e-03,  1.21869696e-02,  1.97247742e-03, -2.69388333e-02,\n",
      "       -3.62810455e-02, -6.02256693e-03, -9.30375699e-03, -8.37983005e-03,\n",
      "        1.56773366e-02, -1.27884876e-02, -1.32704964e-02, -2.35788133e-02,\n",
      "       -1.19773960e-02, -1.28889028e-02, -9.70973226e-04, -1.84621066e-02,\n",
      "        2.55968003e-03,  1.65500809e-02, -1.38840163e-02, -1.81200579e-02,\n",
      "       -1.04966918e-02,  1.21902878e-04,  2.14078631e-02, -2.53342348e-03],\n"
     ]
    },
    {
     "name": "stdout",
     "output_type": "stream",
     "text": [
      "      dtype=float32)>]\n",
      "<tensorflow.python.keras.layers.core.Dense object at 0x000001E11D91B288> [<tf.Variable 'dense_1/kernel:0' shape=(384, 128) dtype=float32, numpy=\n",
      "array([[-0.03458741,  0.07102977, -0.08942799, ...,  0.06291483,\n",
      "         0.01516281,  0.07002284],\n",
      "       [ 0.06879274,  0.09559872,  0.01681753, ...,  0.09627721,\n",
      "         0.03910181, -0.01786996],\n",
      "       [-0.07041047,  0.09607479, -0.10742366, ..., -0.06851379,\n",
      "         0.08337472,  0.13830845],\n",
      "       ...,\n",
      "       [-0.06032173, -0.06932592, -0.02308588, ..., -0.07766   ,\n",
      "         0.09968382, -0.04611464],\n",
      "       [ 0.00089261,  0.07715572,  0.07883187, ..., -0.0181727 ,\n",
      "         0.11152489,  0.06992617],\n",
      "       [ 0.09250982, -0.08333468,  0.08785553, ..., -0.08103116,\n",
      "         0.0824496 ,  0.04148203]], dtype=float32)>, <tf.Variable 'dense_1/bias:0' shape=(128,) dtype=float32, numpy=\n",
      "array([ 0.02555429, -0.00178274, -0.00425122,  0.00106627,  0.01404636,\n",
      "       -0.02650061, -0.0043186 ,  0.01553105, -0.01118614, -0.00790741,\n",
      "       -0.02067119,  0.00154421, -0.00147966,  0.00587365, -0.00771848,\n",
      "       -0.014373  , -0.03631389, -0.00765674, -0.01208862, -0.02621383,\n",
      "       -0.00629604, -0.00055641, -0.00084789, -0.00297571, -0.0517354 ,\n",
      "       -0.00412126, -0.02994852, -0.01114165, -0.04100108,  0.01084396,\n",
      "        0.01124064,  0.01809141, -0.00683105, -0.00125145, -0.00610989,\n",
      "        0.01909861,  0.00518748, -0.0079231 , -0.01198746, -0.00722924,\n",
      "       -0.00497673, -0.0290723 , -0.03019026, -0.01652379, -0.00825953,\n",
      "       -0.02852196,  0.02394018, -0.00065153, -0.00851574, -0.01400311,\n",
      "        0.01278939,  0.01895064,  0.00041962, -0.00186811, -0.02022109,\n",
      "        0.00234387, -0.00457008, -0.01271829,  0.01070478, -0.01411931,\n",
      "       -0.013101  ,  0.00985945, -0.02108652, -0.02732187, -0.0260814 ,\n",
      "       -0.02724445, -0.02915798,  0.00649384,  0.00963966, -0.00245771,\n",
      "       -0.00934724, -0.01512516, -0.0092718 , -0.01860465, -0.02960342,\n",
      "       -0.00749463, -0.03823986, -0.00850151, -0.00159807,  0.02367307,\n",
      "       -0.02478647, -0.00077774,  0.01734458, -0.00518742, -0.02665073,\n",
      "       -0.02218977, -0.03064474, -0.01485787, -0.01467305,  0.02845685,\n",
      "       -0.02936641, -0.03129054, -0.03180853,  0.01236312,  0.00343064,\n",
      "       -0.01325541,  0.00209866,  0.01316251,  0.01234218,  0.00962114,\n",
      "       -0.00264737,  0.00079729, -0.00757741,  0.01064192, -0.0072004 ,\n",
      "        0.01694604, -0.00208398,  0.00078449, -0.02223411, -0.03280282,\n",
      "       -0.00548935, -0.00742011,  0.01323756,  0.00709616, -0.0237193 ,\n",
      "       -0.01314971,  0.01289626, -0.0014258 , -0.00740597, -0.00798807,\n",
      "       -0.00184615, -0.00821865,  0.00865454, -0.01376737, -0.00385249,\n",
      "       -0.02978479, -0.00054742,  0.00067628], dtype=float32)>]\n",
      "<tensorflow.python.keras.layers.core.Dense object at 0x000001E11D8F8908> [<tf.Variable 'dense_2/kernel:0' shape=(128, 288) dtype=float32, numpy=\n",
      "array([[-0.1000194 , -0.0148447 , -0.05631458, ..., -0.01737847,\n",
      "         0.09426669, -0.00597473],\n",
      "       [-0.0423535 , -0.08498213, -0.1185443 , ...,  0.09540027,\n",
      "         0.06791934,  0.01935336],\n",
      "       [ 0.08504137,  0.08409583,  0.10743583, ...,  0.0104306 ,\n",
      "         0.0413746 ,  0.01445552],\n",
      "       ...,\n",
      "       [-0.02313205, -0.01216524,  0.06113538, ...,  0.01122601,\n",
      "        -0.0561767 , -0.05705277],\n",
      "       [-0.13886765,  0.00540707,  0.05338899, ..., -0.06781556,\n",
      "        -0.01539849,  0.02257744],\n",
      "       [ 0.0807735 , -0.08917951, -0.08917655, ..., -0.00500439,\n",
      "        -0.00174327, -0.01716073]], dtype=float32)>, <tf.Variable 'dense_2/bias:0' shape=(288,) dtype=float32, numpy=\n",
      "array([-1.65441148e-02, -1.98624711e-02,  3.86702566e-04, -1.89565141e-02,\n",
      "       -4.01829034e-02, -1.66866165e-02, -2.17183623e-02, -2.07083225e-02,\n",
      "        4.28867713e-03,  1.84423942e-02, -2.60245539e-02,  1.30765152e-03,\n",
      "        6.24970475e-04, -1.09473281e-02, -4.41939458e-02,  2.66844556e-02,\n",
      "       -1.79992598e-02, -1.40025653e-02,  2.01530922e-02, -1.59342904e-02,\n",
      "        5.09422924e-03, -1.21124182e-02, -7.36033730e-03, -1.62347592e-02,\n",
      "       -1.59528255e-02, -3.09161954e-02, -9.69455345e-04, -1.61724333e-02,\n",
      "       -8.08865577e-03, -2.13395478e-03, -2.87337881e-03,  1.40697388e-02,\n",
      "        2.29151896e-03,  1.90276245e-03, -2.54595056e-02, -2.20416766e-02,\n",
      "       -3.74404946e-04, -3.51433898e-03, -3.98953222e-02, -3.07070483e-02,\n",
      "       -5.77124115e-03,  1.52525799e-02,  1.01145718e-03,  3.13802660e-02,\n",
      "        7.13587971e-03, -4.27927589e-03, -1.34198992e-02,  1.48398196e-02,\n",
      "        1.43299317e-02,  3.73868505e-04, -2.79102009e-02,  1.95278991e-02,\n",
      "       -3.75186652e-02, -1.39485663e-02, -1.46541130e-02,  8.66793469e-03,\n",
      "        9.85058397e-03, -2.29425877e-02, -2.06849296e-02,  2.13066880e-02,\n",
      "        1.12127597e-02,  5.71475970e-03,  4.54600295e-03,  6.08222745e-03,\n",
      "        1.38072111e-02, -1.49721103e-02,  1.47341480e-02, -2.34373994e-02,\n",
      "       -1.20428214e-02, -1.07352976e-02, -2.35309843e-02, -3.23203318e-02,\n",
      "       -3.07121687e-02, -1.18127493e-02, -2.92750163e-04,  8.94319825e-03,\n",
      "       -9.82690230e-03,  1.38644697e-02, -2.43786257e-02, -1.43882334e-02,\n",
      "       -9.17521585e-03, -1.90421492e-02, -2.92180311e-02, -2.83192676e-02,\n",
      "       -2.24281065e-02, -3.16236028e-03, -2.75700516e-03, -3.99915017e-02,\n",
      "        2.03765202e-02, -6.82560541e-03,  1.40421344e-02, -7.93187972e-03,\n",
      "       -6.88828994e-03, -1.85076632e-02, -4.61157598e-03,  8.81700683e-03,\n",
      "        3.88696715e-02,  3.78799736e-02, -1.54776741e-02,  1.04630077e-02,\n",
      "        1.79420051e-03, -2.36422438e-02, -2.30578487e-04, -2.10843515e-02,\n",
      "       -1.66468788e-02,  1.84687600e-02, -1.33679286e-02, -1.45595744e-02,\n",
      "       -1.19761936e-02, -4.07149637e-04, -6.10069314e-04,  4.35140962e-03,\n",
      "       -2.75917780e-02,  2.56047025e-02,  1.98090896e-02, -2.27895137e-02,\n",
      "        2.73845810e-03,  7.12869130e-03,  1.40778869e-02, -3.54029015e-02,\n",
      "        1.89873390e-03, -6.69161510e-03,  1.69776082e-02, -1.00561371e-02,\n",
      "       -1.13531826e-02, -3.69493999e-02,  8.45711865e-03,  1.72078442e-02,\n",
      "       -1.29051553e-02, -1.35613494e-02, -1.53829926e-03, -3.49043868e-02,\n",
      "        1.31544273e-03, -4.98598907e-03, -1.92346051e-03,  1.71210673e-02,\n",
      "        4.42442391e-03, -1.70194637e-02, -2.78864391e-02,  1.53521681e-02,\n",
      "       -2.22978592e-02,  1.39235482e-02, -1.61936898e-02, -1.26017863e-02,\n",
      "       -2.29032356e-02,  1.79894338e-03, -3.45494673e-02, -7.49942847e-05,\n",
      "       -3.32724638e-02, -4.32365499e-02, -1.08373025e-02, -2.17623189e-02,\n",
      "       -2.61012893e-02, -2.63361968e-02, -2.76118070e-02, -1.00546796e-02,\n",
      "       -2.48791073e-02, -3.65995765e-02, -1.81774255e-02, -1.92133337e-02,\n",
      "        8.19498207e-03,  5.69112366e-03, -1.47661949e-02, -1.03553832e-02,\n",
      "       -1.73444487e-02, -1.34026445e-02,  1.41532784e-02, -2.45338790e-02,\n",
      "        1.32022733e-02, -3.55793023e-03, -1.45827113e-02, -2.27365680e-02,\n",
      "       -6.32624608e-04,  5.00607817e-03,  1.28628816e-02, -5.14610447e-02,\n",
      "       -3.22223492e-02, -1.81835936e-03,  2.72127707e-02, -3.07114739e-02,\n",
      "        5.94668044e-03, -8.68513063e-03, -4.36889194e-02, -2.73985881e-02,\n",
      "        4.06359602e-03,  8.22163559e-03,  2.37289555e-02,  5.21130860e-03,\n",
      "       -2.14513950e-02, -6.34836545e-03, -2.93745361e-02, -3.35852765e-02,\n",
      "       -1.31928409e-02, -2.31741313e-02, -2.49320157e-02,  1.30486032e-02,\n",
      "       -8.41801800e-03, -2.52404995e-02, -4.21697693e-03, -3.40530425e-02,\n",
      "        1.72327906e-02, -4.78268079e-02,  9.78656299e-03,  5.92442323e-03,\n",
      "       -1.14634214e-02, -8.81893747e-03,  9.25496686e-03, -2.67739799e-02,\n",
      "        5.48135140e-04, -8.86250008e-03, -1.85670275e-02,  8.40220135e-04,\n",
      "        2.15419792e-02, -1.31000206e-02, -3.18024829e-02, -9.55308694e-03,\n",
      "        1.37138320e-03,  5.88693703e-03,  1.61762419e-03, -1.73058957e-02,\n",
      "        1.23355608e-03,  2.53152587e-02, -6.98598940e-03, -1.65913589e-02,\n",
      "       -2.07051188e-02, -1.42520955e-02,  2.08179117e-04, -2.08655223e-02,\n",
      "        7.81665090e-03,  1.14447894e-02, -1.21109548e-03,  1.39194885e-02,\n",
      "       -2.30879616e-02, -3.44251632e-03, -2.77997442e-02, -1.54788597e-02,\n",
      "        2.20039021e-03,  3.14744040e-02, -1.22896982e-02, -7.04245130e-03,\n",
      "       -1.20761301e-02,  2.15312205e-02,  2.79714353e-02, -9.62613337e-03,\n",
      "       -1.72766449e-03, -1.88260358e-02, -3.83290090e-03, -9.07117408e-03,\n",
      "       -1.71536617e-02, -3.49476282e-03,  2.01253407e-02,  2.12057307e-02,\n",
      "        2.02161772e-03,  1.55614540e-02, -8.54931027e-03, -6.40761340e-03,\n",
      "       -1.08915400e-02, -1.16972672e-02,  6.03290624e-04, -1.04882121e-02,\n",
      "       -2.46438365e-02,  2.09041294e-02, -2.49358378e-02, -5.12910308e-04,\n",
      "        1.18581196e-02,  6.71629095e-03,  3.70959076e-03,  1.06552318e-02,\n",
      "        6.47557992e-03,  1.97926387e-02, -2.52506156e-02,  4.72032290e-04,\n",
      "       -5.30858757e-03, -1.02253240e-02, -2.02079490e-03, -1.06764734e-02,\n",
      "       -2.73815673e-02, -6.31589303e-03,  1.89929605e-02, -2.14028209e-02,\n",
      "        7.10284337e-04,  4.03659791e-03, -1.70796365e-02,  1.67665537e-02,\n",
      "       -6.30150596e-03, -2.02961545e-02, -3.23828380e-03, -1.94905531e-02],\n"
     ]
    },
    {
     "name": "stdout",
     "output_type": "stream",
     "text": [
      "      dtype=float32)>]\n",
      "<tensorflow.python.keras.layers.core.Dense object at 0x000001E11D152B88> [<tf.Variable 'dense_3/kernel:0' shape=(288, 448) dtype=float32, numpy=\n",
      "array([[-0.02940783, -0.05752449, -0.11061397, ...,  0.04542694,\n",
      "        -0.1224143 ,  0.05286772],\n",
      "       [-0.0575873 , -0.02022   , -0.05895854, ..., -0.0409592 ,\n",
      "        -0.01583149, -0.0538289 ],\n",
      "       [-0.04711064, -0.08368696,  0.03636837, ..., -0.06695718,\n",
      "        -0.01110918, -0.00266584],\n",
      "       ...,\n",
      "       [-0.03997738, -0.07248952,  0.0346618 , ...,  0.03786617,\n",
      "         0.05225116,  0.04901042],\n",
      "       [-0.07581931,  0.02209569,  0.03295497, ...,  0.01711079,\n",
      "         0.02761747,  0.01652981],\n",
      "       [ 0.10007445,  0.05860385, -0.0565518 , ...,  0.03690565,\n",
      "         0.06715159,  0.10277043]], dtype=float32)>, <tf.Variable 'dense_3/bias:0' shape=(448,) dtype=float32, numpy=\n",
      "array([ 3.31021212e-02, -1.96599141e-02, -1.05283326e-02, -3.46640460e-02,\n",
      "        1.36505184e-03,  1.06666209e-02,  1.92225296e-02,  1.67342778e-02,\n",
      "        3.67695815e-03,  6.59094518e-03, -3.67331542e-02,  1.01029864e-02,\n",
      "       -2.07829080e-03, -3.09836529e-02,  8.42746440e-03, -8.81267805e-03,\n",
      "       -7.46087776e-03, -1.18909879e-02, -3.41314613e-03,  2.18690094e-03,\n",
      "        9.33264941e-03, -1.98895950e-02,  7.06343818e-03,  4.88503429e-05,\n",
      "        1.92865487e-02,  1.72998384e-02, -3.59599385e-03,  3.81061062e-03,\n",
      "       -3.15347244e-03,  1.82423871e-02,  6.76490040e-03,  2.15591565e-02,\n",
      "       -8.58879182e-03, -1.17249452e-02, -1.33080389e-02,  1.05117038e-02,\n",
      "        2.99654026e-02,  1.45634665e-04, -1.75720472e-02, -5.74970059e-03,\n",
      "       -1.25542665e-02,  3.20941349e-03,  1.08768903e-02,  2.42295861e-03,\n",
      "       -1.74430236e-02,  4.32710629e-03,  1.27400914e-02,  1.56202633e-02,\n",
      "       -1.26998182e-02, -2.35163067e-02, -3.20003182e-03,  2.58811396e-02,\n",
      "       -1.55368773e-02,  1.65091024e-03,  3.82306576e-02, -6.09847624e-03,\n",
      "        3.03680319e-02, -3.43636759e-02, -1.27043929e-02,  1.11345155e-02,\n",
      "       -2.85747722e-02,  4.45695780e-03, -2.56203730e-02, -1.67873297e-02,\n",
      "       -7.65651232e-04, -6.00070972e-03,  3.07118073e-02, -2.36149896e-02,\n",
      "        1.47365397e-02, -1.42748924e-02, -2.83887479e-02,  7.89368339e-03,\n",
      "       -2.54524825e-03, -6.22093398e-03, -2.08530556e-02, -1.53200477e-02,\n",
      "       -1.35854464e-02, -1.04736136e-02, -1.82454009e-02,  2.29329523e-02,\n",
      "       -2.43091881e-02,  1.08303027e-02, -2.11882703e-02,  8.70332215e-03,\n",
      "        1.66389029e-02, -2.51182672e-02, -4.98245424e-03, -1.60535015e-02,\n",
      "        8.48381873e-03,  5.03319036e-03, -1.14167342e-02, -1.66348517e-02,\n",
      "        1.36386734e-02, -2.06366628e-02,  2.83623897e-02, -3.11723743e-02,\n",
      "       -9.49946512e-03,  1.04986858e-02,  9.54331178e-03,  3.67512042e-03,\n",
      "       -1.83206722e-02, -2.30950247e-02, -2.49275751e-02,  1.69905815e-02,\n",
      "        1.99824618e-03,  6.50642812e-03, -1.93398036e-02,  1.13227749e-02,\n",
      "       -1.45591497e-02, -4.79428284e-03, -3.43309366e-03, -2.07358021e-02,\n",
      "       -1.82393491e-02, -2.66488194e-02,  6.76965760e-03,  3.21842209e-02,\n",
      "       -4.77047171e-03,  2.31156405e-02,  5.94467204e-03, -2.84123253e-02,\n",
      "       -1.39987664e-02,  2.37555932e-02, -1.49951577e-02,  3.63854989e-02,\n",
      "       -1.74304768e-02, -1.46790911e-02, -6.67585386e-03, -3.76414843e-02,\n",
      "       -1.15558375e-02, -2.73521128e-03, -1.06600877e-02,  8.68290290e-03,\n",
      "       -1.24044940e-02,  1.12993065e-02, -3.46625298e-02, -3.62542681e-02,\n",
      "        1.42301759e-02,  2.19564512e-02,  4.32722084e-03,  1.31825320e-02,\n",
      "       -3.94100649e-03,  1.03152720e-02, -1.35998894e-02,  3.00154206e-03,\n",
      "       -1.19316326e-02, -2.15976629e-02,  1.82636548e-02,  2.61765141e-02,\n",
      "       -1.51743963e-02, -1.50569004e-03, -7.00862519e-03, -3.44073633e-04,\n",
      "        1.72054172e-02, -3.34636681e-02,  9.94671881e-03, -2.76930779e-02,\n",
      "       -8.96495394e-03, -1.38560869e-02, -2.84905005e-02,  2.05782354e-02,\n",
      "       -1.81397740e-02, -1.43920574e-02,  1.71794265e-03, -1.57893915e-02,\n",
      "       -2.14156378e-02, -2.79210731e-02,  1.53391175e-02, -5.93592273e-03,\n",
      "       -2.52832733e-02,  1.36953108e-02, -1.48495808e-02,  1.70392159e-03,\n",
      "        5.66288712e-04, -1.30604105e-02, -1.36640351e-02, -3.64770330e-02,\n",
      "       -1.89894736e-02,  1.55855147e-02,  4.46228050e-02, -2.10175328e-02,\n",
      "        2.03831159e-02, -2.54482906e-02, -1.36129400e-02,  1.13499267e-02,\n",
      "       -2.06292998e-02,  9.56358667e-03, -4.33059549e-03,  7.09169637e-03,\n",
      "       -2.19483394e-02, -1.81152262e-02, -1.46695180e-02, -2.54312288e-02,\n",
      "       -1.60081144e-02, -2.34827343e-02, -1.85490877e-03,  7.26961391e-03,\n",
      "       -9.25500877e-03, -2.67666783e-02, -1.52489943e-02, -3.96337137e-02,\n",
      "       -3.65103083e-03, -1.96067560e-02, -1.60978343e-02, -9.98527743e-03,\n",
      "        8.16714833e-04, -1.57892760e-02, -3.18059027e-02, -3.08261532e-03,\n",
      "       -2.10559554e-02, -3.50470655e-02, -2.49360334e-02,  8.99601437e-04,\n",
      "        7.63505464e-03, -1.09667405e-02, -1.63009036e-02,  1.16916159e-02,\n",
      "        5.24495402e-03,  6.24593487e-03, -1.24236001e-02, -3.23118642e-02,\n",
      "        1.90300941e-02,  3.00162798e-03, -2.47112177e-02,  6.49131194e-04,\n",
      "       -1.09339468e-02,  1.40937725e-02, -3.32630239e-02,  1.88608933e-02,\n",
      "       -3.97303188e-03, -4.22422774e-03,  1.67012736e-02,  5.49013540e-03,\n",
      "       -2.67760195e-02,  3.52832638e-02,  3.60070392e-02,  1.93218831e-02,\n",
      "       -1.22982822e-02, -3.24273147e-02,  2.76632770e-03, -3.07091307e-02,\n",
      "        2.56327353e-03,  4.85853152e-03, -1.32017443e-02,  1.42962188e-02,\n",
      "       -2.44359504e-02, -7.85962795e-04, -1.16720749e-03, -1.58219796e-03,\n",
      "        2.87559852e-02,  2.93394108e-03, -3.84602398e-02,  3.31867579e-03,\n",
      "       -3.63830179e-02, -8.84295162e-03, -3.28510962e-02, -1.45246985e-03,\n",
      "        6.98316842e-03,  5.32076927e-03, -1.50273135e-02, -2.29765158e-02,\n",
      "        4.08304967e-02, -1.61380041e-02, -7.90674530e-04, -3.79094272e-04,\n",
      "       -3.01358066e-02, -1.49571439e-02, -9.35032871e-03, -9.13971476e-03,\n",
      "       -3.54029471e-03,  1.11417547e-02, -1.95670761e-02, -2.20893621e-02,\n",
      "       -2.73924526e-02,  1.34994639e-02,  2.06029452e-02,  2.14959998e-02,\n",
      "       -2.16643102e-02, -9.25589819e-03,  7.50110997e-03, -1.67604443e-02,\n",
      "        1.66005939e-02, -1.54888639e-02, -8.01764149e-03,  2.60920208e-02,\n",
      "        8.95433873e-03, -2.00330857e-02,  7.10865832e-04,  3.33781284e-03,\n",
      "       -2.53515895e-02, -9.06936731e-03,  4.44854870e-02,  3.60353440e-02,\n",
      "       -2.40005068e-02, -2.98687052e-02,  1.29403295e-02,  1.42978122e-02,\n",
      "       -2.52214335e-02, -2.23873109e-02,  3.79318669e-02,  3.22244726e-02,\n",
      "       -4.99435402e-02, -2.36941427e-02,  2.36248481e-03,  9.86156287e-04,\n",
      "       -2.46263091e-02,  3.15006269e-04,  5.08536585e-03,  9.09745879e-03,\n",
      "        5.04582748e-02,  1.14548125e-03,  1.29675046e-02, -2.48805024e-02,\n",
      "        2.63858624e-02, -1.52733829e-02,  1.23977121e-02, -1.58780701e-02,\n",
      "       -5.65183768e-03, -1.17464708e-02, -2.04258729e-02,  2.23022103e-02,\n",
      "       -1.07758585e-02, -1.54424701e-02, -1.61196943e-02, -1.77199543e-02,\n",
      "       -1.63949537e-03,  2.04707440e-02, -8.98174476e-03,  2.90607754e-02,\n",
      "       -1.05806431e-02, -1.37245785e-02, -1.21210059e-02,  5.54312672e-03,\n",
      "        1.00710634e-02,  3.45957640e-04,  8.14230461e-03,  1.41435182e-02,\n",
      "       -1.24096544e-02,  9.93130170e-03,  2.23415196e-02, -2.69037597e-02,\n",
      "       -2.52847616e-02, -2.80509815e-02,  2.57954374e-02, -4.87408554e-03,\n",
      "        2.93783471e-02,  1.14815952e-02,  1.01571931e-02,  1.52126858e-02,\n",
      "       -1.24329906e-02, -1.09024923e-02,  2.46383324e-02, -2.52353009e-02,\n",
      "       -5.54109178e-03, -4.36419770e-02, -1.56378988e-02,  1.32057825e-02,\n",
      "       -9.93804168e-03, -2.30955589e-03, -1.72549095e-02, -4.59265802e-03,\n",
      "        1.50060132e-02,  1.28358072e-02, -1.94574520e-02, -3.01954839e-02,\n",
      "       -1.45413801e-02, -6.94403332e-03, -6.38966355e-03, -1.67924855e-02,\n",
      "       -5.89630939e-03,  2.18437258e-02,  1.56002045e-02, -2.84606963e-02,\n",
      "        1.50626153e-02,  3.85359451e-02, -7.09942449e-03, -1.53021719e-02,\n",
      "       -2.78572440e-02, -1.83489062e-02, -1.24157155e-02, -1.79155997e-03,\n",
      "       -7.97688309e-03, -2.50867866e-02,  1.95007883e-02, -2.59351376e-02,\n",
      "       -7.29857897e-03,  2.13385578e-02,  4.79680579e-03, -2.19288822e-02,\n",
      "       -1.68645680e-02,  3.97650674e-02, -2.11672578e-02, -2.44058520e-02,\n",
      "        3.94521980e-03, -1.89239103e-02, -2.37711873e-02,  4.39898111e-03,\n",
      "       -4.24768552e-02, -3.08567565e-02, -2.17857640e-02, -1.09344963e-02,\n",
      "       -1.03532961e-02, -2.58041527e-02, -4.58187610e-03, -2.92034540e-02,\n",
      "       -7.77129922e-03, -7.60707888e-04,  1.44060310e-02, -1.27483625e-02,\n",
      "       -1.85411684e-02, -2.71198689e-03, -8.61375593e-03, -1.26835061e-02,\n",
      "       -2.17804536e-02, -5.16374223e-03,  2.42431574e-02,  1.94468927e-02,\n",
      "        1.77328382e-02, -2.82746125e-02,  1.89377684e-02,  3.32512110e-02,\n",
      "       -1.10154804e-02, -1.39294174e-02, -8.52514431e-03, -3.09563931e-02,\n",
      "       -1.11189093e-02, -2.95287799e-02, -2.28477214e-02, -1.46825444e-02,\n",
      "       -2.32449453e-02, -2.06199810e-02, -5.06118406e-03, -1.31986933e-02,\n",
      "       -7.26204272e-03,  2.57204683e-03, -2.48512216e-02, -2.43629608e-03,\n",
      "       -3.72413173e-02, -1.36021886e-03, -5.96530177e-03,  2.30795126e-02,\n",
      "        8.75382777e-03,  2.10505705e-02, -1.39864683e-02, -3.39955129e-02,\n",
      "        1.46791320e-02, -1.92549229e-02, -3.14269215e-02, -1.02641042e-02],\n"
     ]
    },
    {
     "name": "stdout",
     "output_type": "stream",
     "text": [
      "      dtype=float32)>]\n",
      "<tensorflow.python.keras.layers.core.Dense object at 0x000001E11D927548> [<tf.Variable 'dense_4/kernel:0' shape=(448, 288) dtype=float32, numpy=\n",
      "array([[-0.02029276, -0.09496876,  0.02729705, ..., -0.09446514,\n",
      "        -0.07965299, -0.06991989],\n",
      "       [ 0.01983649, -0.03431052,  0.03188546, ..., -0.02967538,\n",
      "        -0.04829319, -0.00600327],\n",
      "       [-0.0723314 ,  0.00712891, -0.04092664, ..., -0.02810772,\n",
      "        -0.0674113 , -0.07907805],\n",
      "       ...,\n",
      "       [-0.02901345, -0.07147361,  0.07427247, ..., -0.0242822 ,\n",
      "        -0.0334153 ,  0.1449393 ],\n",
      "       [ 0.08076184, -0.04762748, -0.06047357, ..., -0.0225533 ,\n",
      "        -0.00819003, -0.01857411],\n",
      "       [-0.04703255,  0.00908733, -0.04594272, ..., -0.05621682,\n",
      "        -0.07128271, -0.00988233]], dtype=float32)>, <tf.Variable 'dense_4/bias:0' shape=(288,) dtype=float32, numpy=\n",
      "array([ 1.09721057e-03, -4.07689959e-02, -3.27375457e-02,  7.16465339e-02,\n",
      "       -2.34878510e-02, -2.39168946e-02,  1.43520543e-02,  7.60005647e-03,\n",
      "       -1.03502544e-02, -1.24413269e-02,  1.39868604e-02, -9.01525188e-03,\n",
      "       -5.34618124e-02, -5.44614298e-03,  4.54511307e-02, -3.61699685e-02,\n",
      "        1.87742896e-02,  1.34997247e-02,  8.97467975e-03, -1.15231192e-02,\n",
      "       -8.36140593e-04, -9.86203551e-03, -9.38882027e-03, -1.13354828e-02,\n",
      "        2.28071231e-02, -3.44332121e-02,  5.19003831e-02, -2.03873068e-02,\n",
      "       -2.00444777e-02, -2.83819586e-02, -1.94146708e-02, -1.95624474e-02,\n",
      "       -3.14743519e-02, -6.89417170e-03, -3.86798522e-03, -6.47104625e-03,\n",
      "        9.41274874e-03, -6.12282008e-03, -2.11064573e-02, -1.50801884e-02,\n",
      "       -1.38593363e-02, -1.09303342e-02,  1.49095515e-02, -1.66589767e-02,\n",
      "       -1.46426335e-02, -1.88014768e-02,  7.21239299e-03, -5.14070084e-03,\n",
      "       -1.38340015e-02, -2.66903546e-02,  9.42303333e-03,  9.56527144e-03,\n",
      "       -1.88329089e-02,  3.28326114e-02, -1.17015075e-02, -3.52534615e-02,\n",
      "       -1.82560105e-02,  1.65848844e-02, -3.73241492e-03, -1.05393035e-02,\n",
      "        7.45367957e-03, -8.12150910e-03,  6.51566684e-03,  3.19300704e-02,\n",
      "        3.88077348e-02,  1.99247058e-02,  1.00013576e-02, -1.88714527e-02,\n",
      "        3.34320068e-02, -1.79924443e-02,  4.63826023e-03, -1.20964460e-02,\n",
      "       -1.02924258e-02,  4.16077813e-03, -5.35030849e-03,  1.99274924e-02,\n",
      "       -1.10576116e-02, -1.06411297e-02, -9.27923527e-03, -1.14734955e-02,\n",
      "       -2.11626776e-02, -1.08989719e-02,  2.62247771e-02, -1.51551459e-02,\n",
      "        1.10419020e-02, -5.40093519e-03,  2.95720901e-02,  6.65545976e-03,\n",
      "        6.34162640e-03,  1.78199187e-02, -1.28025375e-02,  1.19468465e-03,\n",
      "       -1.45844836e-02, -2.82369135e-03,  2.40613222e-02, -1.67798996e-02,\n",
      "       -2.26147473e-02,  4.10822826e-03,  1.51515035e-02,  8.91283061e-03,\n",
      "        2.57833805e-02,  1.47219794e-03, -3.08334106e-03,  5.47092706e-02,\n",
      "       -1.77226327e-02, -1.65076274e-02,  4.10855887e-03, -9.39170923e-03,\n",
      "       -4.25627269e-02, -6.54085679e-03,  2.03315690e-02, -8.13964102e-03,\n",
      "        2.65875794e-02,  4.86434661e-02,  4.00417484e-02, -1.94389988e-02,\n",
      "        1.95245433e-04, -1.93965472e-02, -5.61237289e-03, -1.60937235e-02,\n",
      "       -2.92549357e-02, -1.97050869e-02, -1.02986079e-02, -1.84444897e-02,\n",
      "        7.43712261e-02, -6.72941934e-03,  6.74320385e-03, -1.99033841e-02,\n",
      "       -1.94662027e-02, -1.47497067e-02,  8.99198558e-03,  7.65940500e-03,\n",
      "       -1.80931091e-02, -7.94058479e-03,  1.46768121e-02,  1.99045204e-02,\n",
      "       -2.61018798e-02, -2.65283370e-03, -8.40450171e-03,  2.31892224e-02,\n",
      "       -1.90552603e-02, -1.93546724e-03, -2.15654485e-02, -3.39107402e-02,\n",
      "       -2.35592052e-02, -1.42789437e-02,  3.86896618e-02,  1.10133477e-02,\n",
      "       -1.87330004e-02, -2.44711880e-02, -1.45443864e-02, -3.16614285e-02,\n",
      "       -1.22350566e-02, -2.63723694e-02,  3.22882156e-03,  3.07825729e-02,\n",
      "       -2.67374143e-03, -1.12908930e-02, -1.82712078e-02, -8.11698497e-04,\n",
      "       -9.61899571e-03, -2.01653410e-02, -5.29605523e-03,  1.25824977e-02,\n",
      "        1.61045492e-02, -9.99214500e-03,  4.67485189e-03, -6.02411525e-03,\n",
      "       -6.21563708e-03,  2.13934830e-03, -4.17903252e-03, -2.20641624e-02,\n",
      "        2.54773418e-03,  1.25328386e-02, -1.84929147e-02,  3.26721258e-02,\n",
      "       -5.22349775e-03, -4.61283186e-03, -7.74524524e-04, -1.40933292e-02,\n",
      "        2.92746965e-02,  2.02052873e-02, -1.97549928e-02,  3.20095830e-02,\n",
      "        3.86995114e-02,  6.82913512e-03,  1.97576396e-02,  1.98654272e-02,\n",
      "       -4.21238970e-03, -1.54456748e-02,  3.15956697e-02,  3.88083630e-03,\n",
      "        1.56106949e-02, -2.71945130e-02, -5.32129034e-03, -7.08261319e-03,\n",
      "       -1.19946068e-02, -1.83973499e-02,  2.87055224e-02, -1.53042078e-02,\n",
      "       -1.53045673e-02, -1.38874268e-02, -1.04055936e-02, -2.56651379e-02,\n",
      "       -4.65671299e-04,  1.89907127e-03, -1.20878723e-02, -2.05090176e-02,\n",
      "        1.81234069e-02,  3.18232290e-02,  2.08361987e-02,  1.83739630e-03,\n",
      "        1.12386458e-02,  1.93703093e-03, -6.61335327e-03, -1.74640939e-02,\n",
      "        4.40387391e-02, -1.14602512e-02,  2.13228334e-02,  1.51064282e-03,\n",
      "        3.08638485e-03, -1.44591685e-02, -5.54636717e-02,  5.42760082e-03,\n",
      "       -1.89725105e-02,  5.45909107e-02,  8.97630304e-03,  1.58906318e-02,\n",
      "        2.42561102e-02,  8.59322213e-03, -1.70742925e-02,  5.36143780e-05,\n",
      "       -1.02527719e-02,  2.61447858e-02, -1.45734213e-02, -7.79482257e-03,\n",
      "       -1.43913096e-02, -2.65545901e-02,  5.19563071e-03,  6.90772943e-03,\n",
      "       -9.11635906e-03,  5.32069569e-03, -2.37994101e-02, -8.92677624e-03,\n",
      "       -2.03421768e-02, -1.57518461e-02, -1.00473445e-02,  1.59087160e-03,\n",
      "       -1.31166428e-02,  2.61087418e-02, -8.09038524e-03, -2.41299458e-02,\n",
      "       -2.22984049e-02,  3.04740891e-02,  2.57114209e-02, -1.93502288e-03,\n",
      "       -1.81677081e-02,  3.43341986e-03, -1.36489305e-03, -1.33279990e-02,\n",
      "        8.01698677e-03,  3.28494608e-02,  9.75093525e-03, -3.06679942e-02,\n",
      "       -2.16752198e-02, -9.07672290e-03, -2.63806302e-02,  3.19615901e-02,\n",
      "       -2.47502998e-02,  2.02237442e-02, -2.54450627e-02, -1.01319468e-02,\n",
      "       -2.27377824e-02, -1.43555563e-03, -1.25695011e-02,  5.20317582e-03,\n",
      "       -1.84532329e-02, -2.01191213e-02, -3.63283008e-02,  8.23919568e-03,\n",
      "        3.22126523e-02, -2.15992853e-02,  6.19208626e-03, -1.39094880e-02,\n",
      "       -8.58866423e-03, -1.53469748e-03,  1.25789559e-02, -9.47971269e-03],\n",
      "      dtype=float32)>]\n",
      "<tensorflow.python.keras.layers.core.Dense object at 0x000001E11D923E88> [<tf.Variable 'dense_5/kernel:0' shape=(288, 256) dtype=float32, numpy=\n",
      "array([[-0.04775419,  0.05552169, -0.01475169, ...,  0.00681747,\n",
      "        -0.07376911, -0.04811049],\n",
      "       [ 0.05098547,  0.05393287,  0.06871712, ...,  0.00859215,\n",
      "         0.07313559, -0.10437004],\n",
      "       [-0.06569001,  0.01027532, -0.11193518, ...,  0.06746047,\n",
      "        -0.08599872,  0.07296584],\n",
      "       ...,\n",
      "       [ 0.02098183,  0.02696627,  0.01902341, ..., -0.09334587,\n",
      "        -0.0694269 ,  0.00197105],\n",
      "       [-0.11272772, -0.02760681,  0.03309112, ..., -0.08885264,\n",
      "         0.06700173, -0.0026884 ],\n",
      "       [ 0.02453033, -0.04417286,  0.04577918, ..., -0.03633503,\n",
      "         0.09683832, -0.09460624]], dtype=float32)>, <tf.Variable 'dense_5/bias:0' shape=(256,) dtype=float32, numpy=\n",
      "array([-0.01381032, -0.00993219,  0.00219062, -0.00583378,  0.02851606,\n",
      "       -0.00542216,  0.03962358, -0.00572774,  0.00295222, -0.01596597,\n",
      "       -0.02475592, -0.00252959, -0.01361406, -0.01067728, -0.00468854,\n",
      "       -0.00893476,  0.06934631,  0.01677977,  0.05382433, -0.01067944,\n",
      "       -0.00574877,  0.01475408, -0.00624444, -0.01510927, -0.02539078,\n",
      "       -0.02494978, -0.02918502,  0.05118789,  0.0435202 ,  0.00074068,\n",
      "        0.03402803, -0.01595894, -0.02459042,  0.00614524,  0.03200182,\n",
      "       -0.00294605, -0.01654246, -0.02623173,  0.00105944, -0.03557882,\n",
      "       -0.02666995, -0.03107672,  0.01770959,  0.00390946,  0.00998544,\n",
      "       -0.0186623 ,  0.02936374, -0.0046457 ,  0.00899798,  0.02654458,\n",
      "        0.02048313,  0.01270182, -0.00740177, -0.01551784, -0.04084397,\n",
      "        0.07148682, -0.03694135, -0.00852062,  0.01829533, -0.01293486,\n",
      "        0.03983853, -0.00173887, -0.0305256 ,  0.01618122, -0.00738109,\n",
      "       -0.02256841, -0.01947335,  0.01566992,  0.00551538, -0.00876871,\n",
      "       -0.01794204,  0.00763254,  0.01208002,  0.01470263,  0.04722949,\n",
      "        0.04828963, -0.0220063 , -0.02718955, -0.01562417, -0.0231387 ,\n",
      "       -0.01827588, -0.01137106,  0.00134287,  0.0082802 ,  0.0572146 ,\n",
      "       -0.0226199 , -0.00639423, -0.01776417, -0.02024481, -0.01580123,\n",
      "        0.06193186,  0.00237739, -0.0224063 ,  0.01065792,  0.01890795,\n",
      "        0.02982418, -0.01217888, -0.00366084,  0.0152323 ,  0.0393523 ,\n",
      "       -0.00468552, -0.00897719, -0.01240113, -0.01004191, -0.01428107,\n",
      "       -0.00558914, -0.01203588, -0.01571868, -0.0221082 , -0.01839552,\n",
      "        0.02251518, -0.01916996, -0.00882057, -0.01376434, -0.02212467,\n",
      "       -0.03239771, -0.02156067, -0.00489574, -0.0133629 , -0.01147773,\n",
      "        0.01318962,  0.02916446,  0.04124102,  0.00472541,  0.03141299,\n",
      "        0.0209172 , -0.02317983,  0.01789608, -0.02167227,  0.02435402,\n",
      "        0.02782239, -0.02189   , -0.00055407,  0.04196253,  0.01356563,\n",
      "       -0.00841464, -0.00587383, -0.00535295, -0.03563042,  0.00709001,\n",
      "        0.00515302, -0.00412941, -0.00934248, -0.00296355, -0.02967223,\n",
      "        0.03927175, -0.01804634,  0.        ,  0.04999918, -0.02190945,\n",
      "        0.00505091, -0.03402937, -0.01318786, -0.00145568, -0.02211862,\n",
      "       -0.00561116, -0.00688022,  0.00418573, -0.00080865, -0.01730503,\n",
      "        0.00029394, -0.02123282,  0.01449379, -0.00422162, -0.00521966,\n",
      "        0.00298557,  0.02171798,  0.0523796 ,  0.01225587, -0.01390893,\n",
      "        0.00021205,  0.01642252,  0.00055061,  0.02530416, -0.01719534,\n",
      "       -0.01138033, -0.00150088, -0.00399755, -0.00787346,  0.01368344,\n",
      "        0.00387719, -0.01296013, -0.01402764, -0.01791354, -0.02654413,\n",
      "        0.01403137,  0.03116982,  0.01556993, -0.01329306, -0.0019333 ,\n",
      "       -0.02705783, -0.01791089, -0.02423591,  0.05714567,  0.01817815,\n",
      "       -0.01766684, -0.02516259,  0.01032679,  0.01908845, -0.01812432,\n",
      "       -0.0086873 ,  0.0090749 , -0.00569682, -0.0117381 , -0.00196447,\n",
      "       -0.02345401, -0.03653449, -0.00741084, -0.00657488, -0.01674297,\n",
      "       -0.01078826, -0.01830349, -0.00662231, -0.01947846,  0.0216958 ,\n",
      "        0.04607794,  0.00451911,  0.00756483, -0.02398057, -0.00912091,\n",
      "        0.00652919,  0.01219009,  0.0499058 , -0.00719328, -0.02087606,\n",
      "        0.03874959, -0.0194067 , -0.01307606, -0.01620839,  0.00956483,\n",
      "        0.00343786, -0.01208973,  0.03295758,  0.00308983,  0.00330185,\n",
      "        0.0220739 , -0.00876002, -0.0178138 , -0.0072368 , -0.01773953,\n",
      "        0.01898917,  0.06268264,  0.01632214,  0.01841597, -0.02752668,\n",
      "       -0.00671344,  0.00639671,  0.02254982, -0.01272424,  0.01806709,\n",
      "        0.03033456, -0.01356633,  0.02505302, -0.0250822 ,  0.03491218,\n"
     ]
    },
    {
     "name": "stdout",
     "output_type": "stream",
     "text": [
      "       -0.01781291], dtype=float32)>]\n",
      "<tensorflow.python.keras.layers.core.Dense object at 0x000001E11D92F208> [<tf.Variable 'dense_6/kernel:0' shape=(256, 288) dtype=float32, numpy=\n",
      "array([[-0.00574721,  0.01998855, -0.05607537, ...,  0.02737697,\n",
      "         0.02947046,  0.12716934],\n",
      "       [ 0.06026512, -0.07827175, -0.01481279, ...,  0.10012041,\n",
      "         0.00642766,  0.03858585],\n",
      "       [ 0.04903224,  0.09971028,  0.0488983 , ..., -0.08158401,\n",
      "        -0.06049962,  0.00762568],\n",
      "       ...,\n",
      "       [-0.040408  , -0.07411052, -0.0694912 , ...,  0.0330983 ,\n",
      "         0.03934064,  0.01921974],\n",
      "       [-0.03518324,  0.03638164, -0.00759669, ...,  0.06295037,\n",
      "         0.03382144, -0.07053837],\n",
      "       [-0.04111535, -0.03396428,  0.00864005, ...,  0.03005506,\n",
      "         0.05653501, -0.07464323]], dtype=float32)>, <tf.Variable 'dense_6/bias:0' shape=(288,) dtype=float32, numpy=\n",
      "array([-0.00569759,  0.00298456,  0.00363725,  0.02914942, -0.00869756,\n",
      "       -0.02734662,  0.00441982, -0.00793583,  0.00261612,  0.01515482,\n",
      "        0.01861259, -0.00129482, -0.00489703,  0.01428114, -0.02397001,\n",
      "       -0.00545584, -0.00019681, -0.0120868 ,  0.02692617, -0.00611915,\n",
      "        0.00655841,  0.00458303, -0.00835932, -0.00833118,  0.00196733,\n",
      "       -0.02856929, -0.0131257 ,  0.00744388,  0.02825759,  0.02505742,\n",
      "        0.02081189,  0.        , -0.0247622 , -0.00314216,  0.00870329,\n",
      "       -0.00995131, -0.01135191, -0.01693842, -0.02132786,  0.05300749,\n",
      "       -0.01062735,  0.03145904,  0.00823524, -0.02521109,  0.03767081,\n",
      "       -0.01634645,  0.02306581,  0.00041576,  0.00891334, -0.00359259,\n",
      "        0.00580113, -0.01468749,  0.03838731, -0.01327409,  0.03059171,\n",
      "       -0.00099082, -0.00739836,  0.05730147, -0.02914544,  0.01206052,\n",
      "       -0.0093812 , -0.00166071,  0.00110105,  0.01492988, -0.00870468,\n",
      "        0.02905289, -0.00463861, -0.01464891,  0.0446625 ,  0.01223271,\n",
      "        0.07339705,  0.00025963,  0.02003021,  0.00590327,  0.0195486 ,\n",
      "        0.04278026,  0.03101211, -0.02163985, -0.01608062,  0.02628624,\n",
      "       -0.00846259,  0.04906316,  0.07326145,  0.00073628,  0.03300935,\n",
      "        0.03111151, -0.02665456, -0.0100246 , -0.0151668 , -0.00866829,\n",
      "        0.00708148, -0.00710089, -0.00391713, -0.00594077,  0.00269848,\n",
      "       -0.01966011, -0.00645824,  0.02957779,  0.01593919,  0.00554053,\n",
      "        0.01155856, -0.02062375, -0.02604583, -0.01321629, -0.0052306 ,\n",
      "        0.00749352, -0.01742307, -0.00851589, -0.04460727,  0.04270986,\n",
      "       -0.00708889,  0.01616324,  0.01202148, -0.0075918 ,  0.02478234,\n",
      "        0.01300176, -0.01601735,  0.00056514, -0.03195751,  0.00365243,\n",
      "        0.00710241, -0.01786284, -0.00796688,  0.00040489, -0.00966798,\n",
      "       -0.00358238,  0.06406009, -0.00921875,  0.01549286,  0.01201424,\n",
      "       -0.02251612, -0.02971482,  0.01262336, -0.01623995,  0.04083285,\n",
      "        0.03897773, -0.00381895, -0.0324172 , -0.03317282,  0.00642606,\n",
      "       -0.0038207 , -0.00659897, -0.00592261,  0.00716703, -0.02136894,\n",
      "        0.01759194,  0.0060826 ,  0.04003544,  0.01101018, -0.02199567,\n",
      "       -0.01877967,  0.02819053,  0.02213704,  0.04419493,  0.01784374,\n",
      "        0.00604194, -0.01216555,  0.01687901, -0.00462044,  0.0175682 ,\n",
      "       -0.01431056, -0.02963804,  0.0258843 , -0.00387382,  0.00776345,\n",
      "        0.0655636 ,  0.05840233,  0.0242005 , -0.00414848, -0.01383142,\n",
      "       -0.00335754, -0.00676128,  0.00574438, -0.01541976, -0.00375119,\n",
      "       -0.02192368,  0.01464988, -0.01202376,  0.00219832,  0.00789502,\n",
      "       -0.01654051, -0.02525986,  0.05045114, -0.02286328,  0.01521686,\n",
      "       -0.02009663,  0.04641362,  0.02600889,  0.01673239,  0.02313007,\n",
      "       -0.02448098, -0.01282692, -0.00786983, -0.01717865, -0.00863428,\n",
      "        0.0149246 , -0.01935962,  0.03920215, -0.01139959,  0.0088575 ,\n",
      "        0.02031826,  0.04934447, -0.01227627,  0.05255891, -0.01482957,\n",
      "       -0.0304022 , -0.01265025,  0.01188416,  0.03485291, -0.00484575,\n",
      "       -0.00320985, -0.01656449, -0.00322132, -0.02465986, -0.01988776,\n",
      "        0.00061477, -0.01148613,  0.01561837,  0.0381397 ,  0.02503687,\n",
      "        0.0052393 , -0.00645172, -0.00510145,  0.02677855,  0.03898723,\n",
      "       -0.00108943, -0.00321664,  0.02162077,  0.03143791,  0.02691298,\n",
      "        0.0012865 ,  0.00564428,  0.00102809,  0.02730296,  0.02705735,\n",
      "        0.03839839,  0.0167579 ,  0.01966035, -0.02008514, -0.01265401,\n",
      "        0.01488875,  0.03708779, -0.00035946,  0.02187547, -0.04710963,\n",
      "       -0.0172279 , -0.01343497, -0.01708635,  0.00490311,  0.01189922,\n",
      "       -0.02919559,  0.04595792, -0.02414083, -0.01697012,  0.01969012,\n",
      "        0.00891819, -0.02244996, -0.00975679,  0.01887052, -0.03064489,\n",
      "        0.00997549, -0.00843302, -0.02725042,  0.00460105,  0.02591491,\n",
      "       -0.01088375,  0.03359954,  0.01798498,  0.02098311,  0.05307885,\n",
      "       -0.00234404,  0.00688139, -0.00117864, -0.01381297,  0.05284358,\n",
      "       -0.0253122 ,  0.04850622, -0.01214437, -0.01149932,  0.00175336,\n",
      "        0.04485926,  0.01095097,  0.02345585, -0.01936808,  0.03105552,\n",
      "        0.01198027, -0.02144919, -0.00620876], dtype=float32)>]\n",
      "<tensorflow.python.keras.layers.core.Dense object at 0x000001E11D932688> [<tf.Variable 'dense_7/kernel:0' shape=(288, 448) dtype=float32, numpy=\n",
      "array([[-0.10259592,  0.04834229,  0.00521628, ..., -0.09234843,\n",
      "         0.01030515, -0.00716041],\n",
      "       [ 0.06394453,  0.00784856, -0.09791366, ...,  0.06885006,\n",
      "         0.05790019,  0.08273223],\n",
      "       [-0.01896812,  0.02198796, -0.02336662, ..., -0.06942452,\n",
      "         0.06646723,  0.04845873],\n",
      "       ...,\n",
      "       [-0.01106974,  0.0808617 , -0.01231178, ...,  0.03609293,\n",
      "        -0.06032037, -0.07122944],\n",
      "       [-0.08349901, -0.07885797,  0.01467607, ..., -0.06849264,\n",
      "        -0.05694431, -0.0615329 ],\n",
      "       [ 0.02581656, -0.08190956, -0.02665155, ...,  0.0157189 ,\n",
      "         0.02652703,  0.00491603]], dtype=float32)>, <tf.Variable 'dense_7/bias:0' shape=(448,) dtype=float32, numpy=\n",
      "array([ 0.03808005,  0.04114741,  0.0604792 ,  0.03077834,  0.00605831,\n",
      "       -0.00778395,  0.02083321, -0.00354933, -0.00781636,  0.02531609,\n",
      "       -0.00774992, -0.00958199, -0.00866978, -0.01408845, -0.01179894,\n",
      "       -0.01121787, -0.00668077, -0.00600561, -0.00286694, -0.00757613,\n",
      "        0.03208132, -0.02268341, -0.01777029,  0.00667947, -0.01163154,\n",
      "       -0.01898154, -0.03763864, -0.03069188, -0.02477206, -0.01037703,\n",
      "        0.01700684, -0.00788285,  0.01798394, -0.0088731 ,  0.00141366,\n",
      "       -0.02150684,  0.04190331, -0.00630434, -0.00862347,  0.01369085,\n",
      "       -0.03946277, -0.01591013, -0.01780865, -0.00233721,  0.03042102,\n",
      "        0.01671549,  0.03863879, -0.00801728,  0.02537992, -0.00785269,\n",
      "       -0.00613332,  0.02214294,  0.01051409, -0.01276154,  0.02532646,\n",
      "       -0.00073193, -0.00117912,  0.02615847, -0.03627627,  0.02332576,\n",
      "        0.01022998, -0.01262041, -0.02775719, -0.02745623,  0.        ,\n",
      "       -0.01592079, -0.00747457, -0.00329658,  0.0179599 , -0.00488152,\n",
      "       -0.01932001, -0.00854764,  0.00376705, -0.01026193, -0.01482593,\n",
      "        0.03374312,  0.02363783, -0.01588786,  0.00433658, -0.00658686,\n",
      "        0.01582108, -0.00602698,  0.03714133, -0.0059893 , -0.01429784,\n",
      "       -0.00717042,  0.0014606 ,  0.00269987,  0.00553293, -0.00725939,\n",
      "        0.02996209, -0.02339663,  0.0050406 , -0.01708801, -0.01397184,\n",
      "        0.02627114, -0.01045996,  0.01514864,  0.03980701, -0.01065839,\n",
      "        0.00047508,  0.00464395,  0.02094973,  0.00172642,  0.01764614,\n",
      "       -0.00694997,  0.01496892,  0.02911052, -0.005231  , -0.01230274,\n",
      "        0.03183333,  0.00173602,  0.03588651,  0.00359801, -0.0188558 ,\n",
      "       -0.0105788 , -0.00818401, -0.00503744, -0.01820719, -0.01501152,\n",
      "       -0.01216147, -0.02345823,  0.02772483, -0.00832502, -0.02926004,\n",
      "       -0.0080699 ,  0.00229575,  0.02419874,  0.00774463, -0.0155637 ,\n",
      "       -0.03411626,  0.01735987,  0.01004647, -0.02305759, -0.00579898,\n",
      "        0.00571214,  0.07048511,  0.01526895,  0.0009984 ,  0.01390077,\n",
      "        0.00036685,  0.01923505, -0.00458652,  0.01546163,  0.02019128,\n",
      "        0.01831275,  0.04485039, -0.02434573,  0.01387401, -0.04325199,\n",
      "        0.03498324, -0.01554526,  0.03697354,  0.00419461, -0.00849915,\n",
      "       -0.0264189 ,  0.02246083,  0.01374603,  0.03227051,  0.03450096,\n",
      "        0.01183339, -0.00509566, -0.006959  ,  0.00812952, -0.01637113,\n",
      "       -0.02064828, -0.02712506, -0.00653836,  0.0308245 ,  0.03649081,\n",
      "        0.04011593, -0.00903784,  0.01140124, -0.00391265, -0.00714088,\n",
      "        0.01617585, -0.00313149,  0.02234989, -0.00471434, -0.01015641,\n",
      "        0.01705484, -0.00148879, -0.00606966, -0.00862217,  0.02776465,\n",
      "        0.00960393,  0.01817334,  0.01541406, -0.01136408, -0.01385704,\n",
      "       -0.02471719, -0.01224389, -0.01467496, -0.01921305, -0.01600111,\n",
      "       -0.00896668,  0.04266647, -0.02073991,  0.04935434, -0.00844582,\n",
      "       -0.01046627,  0.01337396, -0.0148199 ,  0.00691079,  0.02129803,\n",
      "       -0.00786392,  0.00071016,  0.05795374, -0.01417122,  0.04036788,\n",
      "        0.06104577,  0.03008572,  0.02779274, -0.0127933 , -0.02704627,\n",
      "       -0.0104231 ,  0.03802457,  0.01959642,  0.01815338, -0.05097412,\n",
      "        0.01236833, -0.00995552, -0.00938107, -0.00827534,  0.00159429,\n",
      "       -0.00971864, -0.01076576, -0.0194162 ,  0.02412888,  0.00685623,\n",
      "        0.01564736,  0.0136887 , -0.02896452,  0.02508456,  0.03607405,\n",
      "        0.05008526,  0.00331227,  0.03722588, -0.01437528, -0.00136389,\n",
      "       -0.01937768, -0.01227378, -0.01013784,  0.00074122, -0.00338049,\n",
      "        0.03965606,  0.01868145, -0.00743585, -0.01574706, -0.01740159,\n",
      "        0.00572119, -0.02279357,  0.03734527,  0.02286289,  0.00999088,\n",
      "       -0.0251264 , -0.00563307, -0.01174529, -0.00297869, -0.00981379,\n",
      "       -0.00954228,  0.06126152, -0.00345944,  0.03367926, -0.00600215,\n",
      "       -0.00529852,  0.00229955, -0.01426973,  0.00623798, -0.00797784,\n",
      "       -0.04348718, -0.00651605, -0.00689938,  0.01206198,  0.02276656,\n",
      "       -0.0171063 , -0.00576254,  0.04777034,  0.00757257, -0.00633921,\n",
      "       -0.01260695, -0.00682739,  0.01286327, -0.00441918,  0.02771089,\n",
      "       -0.02853789, -0.00714399, -0.00035952, -0.01547572,  0.00529078,\n",
      "        0.01460766, -0.01137318, -0.00649819,  0.01257887, -0.02404141,\n",
      "        0.00871415,  0.01913566,  0.02281315,  0.0123991 ,  0.0104856 ,\n",
      "       -0.02965255,  0.01643116, -0.01379626, -0.01714148,  0.01702742,\n",
      "       -0.00880723,  0.04505387, -0.01046703,  0.04384572, -0.00742602,\n",
      "        0.00978079,  0.01478601, -0.00660214, -0.00385243,  0.0089229 ,\n",
      "       -0.02192523, -0.01449737,  0.01567727,  0.0272306 , -0.00752136,\n",
      "        0.        , -0.01390574,  0.02548392, -0.02098497,  0.06145165,\n",
      "        0.02164558,  0.00266817, -0.02458046, -0.0112674 ,  0.02004227,\n",
      "        0.00505726, -0.01472981, -0.0052069 , -0.00607572, -0.01255881,\n",
      "        0.00549361,  0.02049513, -0.00271213,  0.00381238, -0.00989713,\n",
      "       -0.00692105, -0.01399031, -0.02122007, -0.00490989,  0.01211321,\n",
      "        0.00778236,  0.01174589,  0.01784891, -0.00555563, -0.00751003,\n",
      "       -0.01291619, -0.01706746, -0.0074823 ,  0.00449018, -0.02744067,\n",
      "       -0.02109528,  0.00939578, -0.02421085,  0.01047368,  0.02884754,\n",
      "        0.03827531, -0.02510984, -0.01150366, -0.00742743,  0.        ,\n",
      "       -0.00266157, -0.00225485, -0.00687525, -0.01021369, -0.01042798,\n",
      "        0.05574764, -0.00232423, -0.00598795,  0.0116829 ,  0.01656158,\n",
      "       -0.01236391,  0.01851242, -0.01290773, -0.00354944, -0.01211637,\n",
      "        0.01119191,  0.01169369, -0.00506245, -0.02080977,  0.00208852,\n",
      "        0.0110917 , -0.0059196 ,  0.01909179,  0.03059224,  0.04301709,\n",
      "        0.02397943, -0.00438316,  0.01537182,  0.00374804, -0.00753623,\n",
      "       -0.00663212,  0.04238078,  0.0105213 ,  0.00311252, -0.01819164,\n",
      "       -0.01479669, -0.00970925, -0.00482534, -0.00543562, -0.00469326,\n",
      "        0.01557671, -0.01337546, -0.00394117,  0.01369676,  0.03055032,\n",
      "       -0.00900053, -0.02330673,  0.01577726,  0.00611207, -0.01103848,\n",
      "        0.03044379,  0.02134547,  0.01890705,  0.00700249, -0.00567354,\n",
      "        0.00025767,  0.03439705, -0.02144048, -0.01395797,  0.01406765,\n",
      "        0.01786408,  0.0499324 , -0.00623666, -0.00656538, -0.00423012,\n",
      "        0.01361026, -0.00429943, -0.00511327,  0.0089721 ,  0.02794756,\n",
      "        0.01029155,  0.01996133,  0.04079   , -0.02128233,  0.0178015 ,\n",
      "       -0.01187203, -0.00050372,  0.01374603,  0.02832549, -0.01356861,\n"
     ]
    },
    {
     "name": "stdout",
     "output_type": "stream",
     "text": [
      "       -0.00526703, -0.00884014,  0.01422181], dtype=float32)>]\n",
      "<tensorflow.python.keras.layers.core.Dense object at 0x000001E11D93EB48> [<tf.Variable 'dense_8/kernel:0' shape=(448, 32) dtype=float32, numpy=\n",
      "array([[-0.09847653,  0.00719036, -0.08139145, ..., -0.02628103,\n",
      "         0.0240425 , -0.01301407],\n",
      "       [-0.07951516, -0.08836254, -0.09781409, ..., -0.07947157,\n",
      "        -0.06621479, -0.07280405],\n",
      "       [-0.10058782,  0.01950792,  0.00644627, ...,  0.00515509,\n",
      "        -0.00785935,  0.00283485],\n",
      "       ...,\n",
      "       [ 0.08817226, -0.05510658,  0.01158236, ..., -0.09166477,\n",
      "         0.00321314,  0.10841483],\n",
      "       [-0.04373014, -0.1102979 ,  0.05221585, ...,  0.01654889,\n",
      "         0.10020488, -0.02035955],\n",
      "       [-0.06148441,  0.04297773,  0.08146884, ...,  0.0619026 ,\n",
      "        -0.12267063, -0.03685918]], dtype=float32)>, <tf.Variable 'dense_8/bias:0' shape=(32,) dtype=float32, numpy=\n",
      "array([ 1.2099964e-02, -8.4696887e-03,  1.5472664e-03, -6.3045495e-03,\n",
      "        2.0837002e-04,  2.2043785e-02,  3.1062150e-02,  5.0480897e-03,\n",
      "        7.0758375e-05,  3.2146126e-02, -2.3887599e-02,  1.3826865e-02,\n",
      "       -1.6439285e-03,  5.1278215e-02, -1.0320717e-02, -1.1638350e-02,\n",
      "       -1.7414851e-02, -8.8693621e-03,  3.0120928e-03,  3.5302144e-02,\n",
      "       -8.1147933e-03, -1.7433854e-02, -2.0048093e-02,  6.6007096e-03,\n",
      "        3.5819143e-02, -5.5494048e-03, -8.4353806e-03,  1.1151768e-02,\n",
      "        3.3555273e-02,  2.1326734e-02, -2.2083228e-02,  5.2843623e-02],\n",
      "      dtype=float32)>]\n",
      "<tensorflow.python.keras.layers.core.Dense object at 0x000001E11D953348> [<tf.Variable 'dense_9/kernel:0' shape=(32, 10) dtype=float32, numpy=\n",
      "array([[-0.30957127,  0.25176814,  0.34000546, -0.3156145 , -0.32855085,\n",
      "         0.29756233,  0.27665734,  0.06637754, -0.12970139, -0.3070824 ],\n",
      "       [-0.02457079,  0.3290282 , -0.08483908,  0.14008152,  0.32446542,\n",
      "        -0.15766516,  0.03354862, -0.04471614,  0.02484756, -0.22524264],\n",
      "       [ 0.28975698, -0.4214158 , -0.11289056,  0.14254871, -0.1524649 ,\n",
      "         0.26308516, -0.2476064 ,  0.28931245, -0.37647292, -0.23303385],\n",
      "       [-0.20808166,  0.3666632 ,  0.15012097,  0.2488695 , -0.1487032 ,\n",
      "         0.17729084,  0.11935382,  0.22135559,  0.05238455,  0.28618696],\n",
      "       [-0.16898194,  0.20744678,  0.01737431, -0.08748599, -0.34675828,\n",
      "         0.12768689, -0.0737377 ,  0.19641763, -0.07725061, -0.393056  ],\n",
      "       [ 0.30298936, -0.19285783, -0.3023618 , -0.2934139 ,  0.3199743 ,\n",
      "        -0.23635526,  0.14174874, -0.30282518, -0.19914554,  0.2755342 ],\n",
      "       [-0.18476029, -0.33590412, -0.23803891, -0.33188632, -0.2687586 ,\n",
      "         0.23255002, -0.09529344,  0.21846679,  0.0449603 ,  0.01236719],\n",
      "       [-0.20034158, -0.01941193,  0.12573048, -0.10627184, -0.19733573,\n",
      "        -0.21664207,  0.3615012 , -0.19031835, -0.04580253, -0.20185791],\n",
      "       [ 0.06032428,  0.28422487, -0.32211784,  0.361068  , -0.06625568,\n",
      "         0.15613657,  0.00169071, -0.0411872 , -0.03284799,  0.12351132],\n",
      "       [-0.01608107, -0.1097708 , -0.13565041,  0.06961395, -0.17076781,\n",
      "         0.1421243 ,  0.11664499,  0.12863055,  0.25045002,  0.30373707],\n",
      "       [ 0.04268482, -0.15678683, -0.24859092, -0.05686937,  0.01066631,\n",
      "         0.18121867, -0.00624416, -0.05284533, -0.16727582, -0.20937233],\n",
      "       [ 0.00546784,  0.34780857, -0.23324968, -0.22110683,  0.23574428,\n",
      "        -0.32091945, -0.20957188,  0.35569802, -0.24219804,  0.34776664],\n",
      "       [-0.31796825, -0.08876853,  0.07871672,  0.10557377,  0.2901068 ,\n",
      "        -0.19457994,  0.06371433, -0.1028569 ,  0.03950833,  0.2858463 ],\n",
      "       [-0.08324045,  0.19546849, -0.0640877 , -0.09666026,  0.3212457 ,\n",
      "        -0.31840855, -0.24119723,  0.3770361 , -0.07065275,  0.10996153],\n",
      "       [ 0.02283458, -0.05782157, -0.07666808,  0.25620455, -0.09440997,\n",
      "        -0.2871715 ,  0.10287787,  0.09225197, -0.3202858 , -0.01332741],\n",
      "       [-0.38942072,  0.30199125,  0.11243131, -0.02969811,  0.18997662,\n",
      "         0.01879553,  0.30804682,  0.2358226 ,  0.09277573,  0.30191702],\n",
      "       [-0.15263034, -0.04740312,  0.30449468, -0.30775905, -0.31351525,\n",
      "         0.21788943, -0.1979622 ,  0.23373036, -0.01533169,  0.01128413],\n",
      "       [-0.12906328,  0.1935477 , -0.25901642,  0.05436052, -0.31754735,\n",
      "         0.11530971,  0.20870341, -0.27931306, -0.32353497, -0.28714186],\n",
      "       [ 0.26652798,  0.1088082 ,  0.10097054, -0.06177508, -0.3482392 ,\n",
      "        -0.01259437,  0.2368239 , -0.06732681,  0.04975706, -0.36773053],\n",
      "       [-0.43299296,  0.29932228,  0.27036047, -0.01588227,  0.03733964,\n",
      "         0.01316258, -0.31058294, -0.25951436,  0.09790101, -0.20846812],\n",
      "       [-0.07048377, -0.3555423 ,  0.02541095,  0.18066196, -0.45984465,\n",
      "        -0.22012992, -0.20767932, -0.32392323, -0.20988685, -0.24267216],\n",
      "       [ 0.07318261,  0.20462316,  0.11381527, -0.06746484, -0.29375008,\n",
      "        -0.07027403, -0.16616581, -0.19645503,  0.20286112, -0.326248  ],\n",
      "       [-0.24347258,  0.32770973, -0.00548774, -0.35028058, -0.11496938,\n",
      "         0.23305738,  0.34319225, -0.1151518 , -0.16543739, -0.06790096],\n",
      "       [-0.3466014 , -0.0162178 , -0.28875688,  0.10908329,  0.15161158,\n",
      "        -0.17706215, -0.32656577,  0.3395468 , -0.1849118 ,  0.10994053],\n",
      "       [-0.40083387, -0.11393811,  0.34745088,  0.12885651, -0.00441229,\n",
      "        -0.2888992 , -0.23445266,  0.08515146,  0.26817727,  0.00671966],\n",
      "       [-0.25291413, -0.09506859, -0.20870563, -0.08747024, -0.17306177,\n",
      "        -0.09649254, -0.2987114 , -0.37789872,  0.16240947, -0.2243141 ],\n",
      "       [-0.24515463,  0.3316936 ,  0.1177659 ,  0.32945207, -0.37998715,\n",
      "        -0.13744146,  0.36218944, -0.21669286,  0.03657341,  0.06331147],\n",
      "       [ 0.12921622, -0.1410295 ,  0.31105426,  0.20514953,  0.28863013,\n",
      "         0.21416129,  0.2152585 , -0.03783755,  0.1957204 , -0.16763575],\n",
      "       [ 0.11593053, -0.43409076,  0.21370739, -0.13192545,  0.38069937,\n",
      "        -0.12748122, -0.02589623, -0.13163751, -0.16540168,  0.3735225 ],\n",
      "       [ 0.13749868, -0.24491604, -0.09869516, -0.08314291,  0.09315729,\n",
      "         0.10862964,  0.03884773,  0.12806907,  0.13674293, -0.30895814],\n",
      "       [ 0.14526223, -0.35139018, -0.3861372 , -0.30158925, -0.26587212,\n",
      "        -0.28893992,  0.21980569, -0.32638758,  0.18260765,  0.34298158],\n",
      "       [ 0.17494956, -0.07919622, -0.25817698, -0.0295772 ,  0.07867597,\n",
      "         0.03669111,  0.10979059, -0.35170797,  0.1602043 ,  0.11104339]],\n",
      "      dtype=float32)>, <tf.Variable 'dense_9/bias:0' shape=(10,) dtype=float32, numpy=\n",
      "array([-0.00937025, -0.01548764, -0.01330329, -0.0365943 ,  0.00454824,\n",
      "        0.0416349 , -0.01426488, -0.04472015,  0.06476196,  0.01099852],\n",
      "      dtype=float32)>]\n"
     ]
    }
   ],
   "source": [
    "best_model = tuner.get_best_models(num_models=1)[0]\n",
    "best_model.summary()\n",
    "model = best_model\n",
    "for i,layer in enumerate(model.layers):\n",
    "    if i >= 1:\n",
    "        print(layer,model.layers[i].weights)"
   ]
  },
  {
   "cell_type": "code",
   "execution_count": 10,
   "metadata": {},
   "outputs": [
    {
     "name": "stderr",
     "output_type": "stream",
     "text": [
      "WARNING: Logging before flag parsing goes to stderr.\n",
      "W0908 16:46:34.947771 16532 util.py:144] Unresolved object in checkpoint: (root).optimizer.iter\n",
      "W0908 16:46:34.952780 16532 util.py:144] Unresolved object in checkpoint: (root).optimizer.beta_1\n",
      "W0908 16:46:34.955037 16532 util.py:144] Unresolved object in checkpoint: (root).optimizer.beta_2\n",
      "W0908 16:46:34.957035 16532 util.py:144] Unresolved object in checkpoint: (root).optimizer.decay\n",
      "W0908 16:46:34.959038 16532 util.py:144] Unresolved object in checkpoint: (root).optimizer.learning_rate\n",
      "W0908 16:46:34.963032 16532 util.py:152] A checkpoint was restored (e.g. tf.train.Checkpoint.restore or tf.keras.Model.load_weights) but not all checkpointed values were used. See above for specific issues. Use expect_partial() on the load status object, e.g. tf.train.Checkpoint.restore(...).expect_partial(), to silence these warnings, or use assert_consumed() to make the check explicit. See https://www.tensorflow.org/guide/checkpoint#loading_mechanics for details.\n"
     ]
    },
    {
     "name": "stdout",
     "output_type": "stream",
     "text": [
      "10000/10000 - 1s - loss: 1.5661 - accuracy: 0.9329\n",
      "\n",
      "Test accuracy: [1.5660860818862916, 0.9329]\n"
     ]
    }
   ],
   "source": [
    "model.compile(optimizer=optimizers.Adam(lr=3e-4), loss=tf.keras.losses.SparseCategoricalCrossentropy(from_logits=True),metrics=['accuracy'])\n",
    "test_acc = model.evaluate(val_x, val_y,verbose=2)\n",
    "\n",
    "print('\\nTest accuracy:', test_acc)"
   ]
  },
  {
   "cell_type": "code",
   "execution_count": 11,
   "metadata": {},
   "outputs": [
    {
     "name": "stdout",
     "output_type": "stream",
     "text": [
      "Train on 10000 samples\n",
      "Epoch 1/10\n",
      "10000/10000 [==============================] - ETA: 3:27 - loss: 1.5877 - accuracy: 0.87 - ETA: 21s - loss: 1.5375 - accuracy: 0.9563 - ETA: 10s - loss: 1.5302 - accuracy: 0.961 - ETA: 7s - loss: 1.5264 - accuracy: 0.963 - ETA: 5s - loss: 1.5228 - accuracy: 0.96 - ETA: 4s - loss: 1.5179 - accuracy: 0.96 - ETA: 3s - loss: 1.5150 - accuracy: 0.96 - ETA: 3s - loss: 1.5133 - accuracy: 0.96 - ETA: 2s - loss: 1.5120 - accuracy: 0.96 - ETA: 2s - loss: 1.5102 - accuracy: 0.96 - ETA: 2s - loss: 1.5081 - accuracy: 0.96 - ETA: 1s - loss: 1.5078 - accuracy: 0.96 - ETA: 1s - loss: 1.5066 - accuracy: 0.96 - ETA: 1s - loss: 1.5055 - accuracy: 0.96 - ETA: 1s - loss: 1.5041 - accuracy: 0.97 - ETA: 1s - loss: 1.5027 - accuracy: 0.97 - ETA: 1s - loss: 1.5021 - accuracy: 0.97 - ETA: 0s - loss: 1.5011 - accuracy: 0.97 - ETA: 0s - loss: 1.4998 - accuracy: 0.97 - ETA: 0s - loss: 1.4990 - accuracy: 0.97 - ETA: 0s - loss: 1.4977 - accuracy: 0.97 - ETA: 0s - loss: 1.4972 - accuracy: 0.97 - ETA: 0s - loss: 1.4967 - accuracy: 0.97 - ETA: 0s - loss: 1.4963 - accuracy: 0.97 - ETA: 0s - loss: 1.4958 - accuracy: 0.97 - ETA: 0s - loss: 1.4952 - accuracy: 0.97 - ETA: 0s - loss: 1.4948 - accuracy: 0.97 - 2s 205us/sample - loss: 1.4948 - accuracy: 0.9750\n",
      "Epoch 2/10\n",
      "10000/10000 [==============================] - ETA: 1s - loss: 1.4612 - accuracy: 1.00 - ETA: 1s - loss: 1.4746 - accuracy: 0.98 - ETA: 1s - loss: 1.4762 - accuracy: 0.98 - ETA: 1s - loss: 1.4790 - accuracy: 0.98 - ETA: 1s - loss: 1.4802 - accuracy: 0.98 - ETA: 1s - loss: 1.4789 - accuracy: 0.98 - ETA: 1s - loss: 1.4789 - accuracy: 0.98 - ETA: 1s - loss: 1.4787 - accuracy: 0.98 - ETA: 0s - loss: 1.4792 - accuracy: 0.98 - ETA: 0s - loss: 1.4787 - accuracy: 0.98 - ETA: 0s - loss: 1.4792 - accuracy: 0.98 - ETA: 0s - loss: 1.4807 - accuracy: 0.98 - ETA: 0s - loss: 1.4805 - accuracy: 0.98 - ETA: 0s - loss: 1.4802 - accuracy: 0.98 - ETA: 0s - loss: 1.4806 - accuracy: 0.98 - ETA: 0s - loss: 1.4810 - accuracy: 0.98 - ETA: 0s - loss: 1.4811 - accuracy: 0.98 - ETA: 0s - loss: 1.4807 - accuracy: 0.98 - ETA: 0s - loss: 1.4809 - accuracy: 0.98 - ETA: 0s - loss: 1.4816 - accuracy: 0.98 - ETA: 0s - loss: 1.4817 - accuracy: 0.98 - ETA: 0s - loss: 1.4818 - accuracy: 0.98 - ETA: 0s - loss: 1.4813 - accuracy: 0.98 - ETA: 0s - loss: 1.4811 - accuracy: 0.98 - ETA: 0s - loss: 1.4813 - accuracy: 0.98 - ETA: 0s - loss: 1.4818 - accuracy: 0.98 - ETA: 0s - loss: 1.4818 - accuracy: 0.98 - ETA: 0s - loss: 1.4819 - accuracy: 0.98 - ETA: 0s - loss: 1.4819 - accuracy: 0.98 - 2s 153us/sample - loss: 1.4820 - accuracy: 0.9813\n",
      "Epoch 3/10\n",
      "10000/10000 [==============================] - ETA: 2s - loss: 1.4618 - accuracy: 1.00 - ETA: 2s - loss: 1.4697 - accuracy: 0.99 - ETA: 1s - loss: 1.4697 - accuracy: 0.99 - ETA: 1s - loss: 1.4713 - accuracy: 0.99 - ETA: 1s - loss: 1.4715 - accuracy: 0.99 - ETA: 1s - loss: 1.4749 - accuracy: 0.98 - ETA: 1s - loss: 1.4777 - accuracy: 0.98 - ETA: 1s - loss: 1.4758 - accuracy: 0.98 - ETA: 1s - loss: 1.4743 - accuracy: 0.98 - ETA: 1s - loss: 1.4753 - accuracy: 0.98 - ETA: 1s - loss: 1.4762 - accuracy: 0.98 - ETA: 1s - loss: 1.4757 - accuracy: 0.98 - ETA: 0s - loss: 1.4765 - accuracy: 0.98 - ETA: 0s - loss: 1.4762 - accuracy: 0.98 - ETA: 0s - loss: 1.4769 - accuracy: 0.98 - ETA: 0s - loss: 1.4773 - accuracy: 0.98 - ETA: 0s - loss: 1.4775 - accuracy: 0.98 - ETA: 0s - loss: 1.4774 - accuracy: 0.98 - ETA: 0s - loss: 1.4777 - accuracy: 0.98 - ETA: 0s - loss: 1.4778 - accuracy: 0.98 - ETA: 0s - loss: 1.4776 - accuracy: 0.98 - ETA: 0s - loss: 1.4776 - accuracy: 0.98 - ETA: 0s - loss: 1.4783 - accuracy: 0.98 - ETA: 0s - loss: 1.4792 - accuracy: 0.98 - ETA: 0s - loss: 1.4792 - accuracy: 0.98 - ETA: 0s - loss: 1.4790 - accuracy: 0.98 - ETA: 0s - loss: 1.4791 - accuracy: 0.98 - ETA: 0s - loss: 1.4791 - accuracy: 0.98 - ETA: 0s - loss: 1.4787 - accuracy: 0.98 - ETA: 0s - loss: 1.4786 - accuracy: 0.98 - ETA: 0s - loss: 1.4787 - accuracy: 0.98 - ETA: 0s - loss: 1.4783 - accuracy: 0.98 - 2s 166us/sample - loss: 1.4784 - accuracy: 0.9847\n",
      "Epoch 4/10\n",
      "10000/10000 [==============================] - ETA: 1s - loss: 1.4612 - accuracy: 1.00 - ETA: 1s - loss: 1.4718 - accuracy: 0.98 - ETA: 1s - loss: 1.4739 - accuracy: 0.98 - ETA: 1s - loss: 1.4757 - accuracy: 0.98 - ETA: 1s - loss: 1.4748 - accuracy: 0.98 - ETA: 1s - loss: 1.4755 - accuracy: 0.98 - ETA: 1s - loss: 1.4748 - accuracy: 0.98 - ETA: 1s - loss: 1.4742 - accuracy: 0.98 - ETA: 1s - loss: 1.4740 - accuracy: 0.98 - ETA: 1s - loss: 1.4744 - accuracy: 0.98 - ETA: 0s - loss: 1.4754 - accuracy: 0.98 - ETA: 0s - loss: 1.4766 - accuracy: 0.98 - ETA: 0s - loss: 1.4771 - accuracy: 0.98 - ETA: 0s - loss: 1.4767 - accuracy: 0.98 - ETA: 0s - loss: 1.4764 - accuracy: 0.98 - ETA: 0s - loss: 1.4762 - accuracy: 0.98 - ETA: 0s - loss: 1.4762 - accuracy: 0.98 - ETA: 0s - loss: 1.4760 - accuracy: 0.98 - ETA: 0s - loss: 1.4762 - accuracy: 0.98 - ETA: 0s - loss: 1.4755 - accuracy: 0.98 - ETA: 0s - loss: 1.4752 - accuracy: 0.98 - ETA: 0s - loss: 1.4749 - accuracy: 0.98 - ETA: 0s - loss: 1.4754 - accuracy: 0.98 - ETA: 0s - loss: 1.4753 - accuracy: 0.98 - ETA: 0s - loss: 1.4756 - accuracy: 0.98 - ETA: 0s - loss: 1.4757 - accuracy: 0.98 - ETA: 0s - loss: 1.4762 - accuracy: 0.98 - ETA: 0s - loss: 1.4760 - accuracy: 0.98 - 1s 147us/sample - loss: 1.4759 - accuracy: 0.9862\n",
      "Epoch 5/10\n",
      "10000/10000 [==============================] - ETA: 2s - loss: 1.4613 - accuracy: 1.00 - ETA: 1s - loss: 1.4848 - accuracy: 0.97 - ETA: 1s - loss: 1.4765 - accuracy: 0.98 - ETA: 1s - loss: 1.4762 - accuracy: 0.98 - ETA: 1s - loss: 1.4754 - accuracy: 0.98 - ETA: 1s - loss: 1.4757 - accuracy: 0.98 - ETA: 1s - loss: 1.4760 - accuracy: 0.98 - ETA: 1s - loss: 1.4757 - accuracy: 0.98 - ETA: 1s - loss: 1.4765 - accuracy: 0.98 - ETA: 0s - loss: 1.4761 - accuracy: 0.98 - ETA: 0s - loss: 1.4758 - accuracy: 0.98 - ETA: 0s - loss: 1.4755 - accuracy: 0.98 - ETA: 0s - loss: 1.4755 - accuracy: 0.98 - ETA: 0s - loss: 1.4754 - accuracy: 0.98 - ETA: 0s - loss: 1.4760 - accuracy: 0.98 - ETA: 0s - loss: 1.4762 - accuracy: 0.98 - ETA: 0s - loss: 1.4759 - accuracy: 0.98 - ETA: 0s - loss: 1.4762 - accuracy: 0.98 - ETA: 0s - loss: 1.4761 - accuracy: 0.98 - ETA: 0s - loss: 1.4763 - accuracy: 0.98 - ETA: 0s - loss: 1.4760 - accuracy: 0.98 - ETA: 0s - loss: 1.4756 - accuracy: 0.98 - ETA: 0s - loss: 1.4756 - accuracy: 0.98 - ETA: 0s - loss: 1.4756 - accuracy: 0.98 - ETA: 0s - loss: 1.4755 - accuracy: 0.98 - ETA: 0s - loss: 1.4755 - accuracy: 0.98 - ETA: 0s - loss: 1.4754 - accuracy: 0.98 - ETA: 0s - loss: 1.4752 - accuracy: 0.98 - ETA: 0s - loss: 1.4750 - accuracy: 0.98 - 2s 153us/sample - loss: 1.4747 - accuracy: 0.9869\n",
      "Epoch 6/10\n",
      "10000/10000 [==============================] - ETA: 1s - loss: 1.4612 - accuracy: 1.00 - ETA: 1s - loss: 1.4733 - accuracy: 0.98 - ETA: 1s - loss: 1.4707 - accuracy: 0.99 - ETA: 1s - loss: 1.4693 - accuracy: 0.99 - ETA: 1s - loss: 1.4704 - accuracy: 0.99 - ETA: 1s - loss: 1.4754 - accuracy: 0.98 - ETA: 1s - loss: 1.4745 - accuracy: 0.98 - ETA: 1s - loss: 1.4742 - accuracy: 0.98 - ETA: 1s - loss: 1.4756 - accuracy: 0.98 - ETA: 1s - loss: 1.4751 - accuracy: 0.98 - ETA: 0s - loss: 1.4740 - accuracy: 0.98 - ETA: 0s - loss: 1.4729 - accuracy: 0.98 - ETA: 0s - loss: 1.4730 - accuracy: 0.98 - ETA: 0s - loss: 1.4727 - accuracy: 0.98 - ETA: 0s - loss: 1.4726 - accuracy: 0.98 - ETA: 0s - loss: 1.4727 - accuracy: 0.98 - ETA: 0s - loss: 1.4727 - accuracy: 0.98 - ETA: 0s - loss: 1.4726 - accuracy: 0.98 - ETA: 0s - loss: 1.4728 - accuracy: 0.98 - ETA: 0s - loss: 1.4732 - accuracy: 0.98 - ETA: 0s - loss: 1.4731 - accuracy: 0.98 - ETA: 0s - loss: 1.4735 - accuracy: 0.98 - ETA: 0s - loss: 1.4741 - accuracy: 0.98 - ETA: 0s - loss: 1.4741 - accuracy: 0.98 - ETA: 0s - loss: 1.4742 - accuracy: 0.98 - ETA: 0s - loss: 1.4743 - accuracy: 0.98 - ETA: 0s - loss: 1.4743 - accuracy: 0.98 - ETA: 0s - loss: 1.4739 - accuracy: 0.98 - ETA: 0s - loss: 1.4740 - accuracy: 0.98 - ETA: 0s - loss: 1.4738 - accuracy: 0.98 - ETA: 0s - loss: 1.4740 - accuracy: 0.98 - 2s 160us/sample - loss: 1.4740 - accuracy: 0.9872\n",
      "Epoch 7/10\n",
      "10000/10000 [==============================] - ETA: 1s - loss: 1.4934 - accuracy: 0.96 - ETA: 1s - loss: 1.4768 - accuracy: 0.98 - ETA: 1s - loss: 1.4779 - accuracy: 0.98 - ETA: 1s - loss: 1.4752 - accuracy: 0.98 - ETA: 1s - loss: 1.4721 - accuracy: 0.98 - ETA: 1s - loss: 1.4732 - accuracy: 0.98 - ETA: 1s - loss: 1.4745 - accuracy: 0.98 - ETA: 1s - loss: 1.4737 - accuracy: 0.98 - ETA: 1s - loss: 1.4741 - accuracy: 0.98 - ETA: 1s - loss: 1.4737 - accuracy: 0.98 - ETA: 0s - loss: 1.4726 - accuracy: 0.98 - ETA: 0s - loss: 1.4727 - accuracy: 0.98 - ETA: 0s - loss: 1.4739 - accuracy: 0.98 - ETA: 0s - loss: 1.4736 - accuracy: 0.98 - ETA: 0s - loss: 1.4731 - accuracy: 0.98 - ETA: 0s - loss: 1.4735 - accuracy: 0.98 - ETA: 0s - loss: 1.4730 - accuracy: 0.98 - ETA: 0s - loss: 1.4729 - accuracy: 0.98 - ETA: 0s - loss: 1.4731 - accuracy: 0.98 - ETA: 0s - loss: 1.4733 - accuracy: 0.98 - ETA: 0s - loss: 1.4740 - accuracy: 0.98 - ETA: 0s - loss: 1.4743 - accuracy: 0.98 - ETA: 0s - loss: 1.4743 - accuracy: 0.98 - ETA: 0s - loss: 1.4742 - accuracy: 0.98 - ETA: 0s - loss: 1.4743 - accuracy: 0.98 - ETA: 0s - loss: 1.4741 - accuracy: 0.98 - ETA: 0s - loss: 1.4739 - accuracy: 0.98 - ETA: 0s - loss: 1.4736 - accuracy: 0.98 - ETA: 0s - loss: 1.4734 - accuracy: 0.98 - ETA: 0s - loss: 1.4734 - accuracy: 0.98 - 2s 155us/sample - loss: 1.4734 - accuracy: 0.9880\n",
      "Epoch 8/10\n",
      "10000/10000 [==============================] - ETA: 3s - loss: 1.4612 - accuracy: 1.00 - ETA: 2s - loss: 1.4658 - accuracy: 0.99 - ETA: 2s - loss: 1.4719 - accuracy: 0.98 - ETA: 1s - loss: 1.4705 - accuracy: 0.99 - ETA: 1s - loss: 1.4708 - accuracy: 0.99 - ETA: 1s - loss: 1.4707 - accuracy: 0.99 - ETA: 1s - loss: 1.4722 - accuracy: 0.98 - ETA: 1s - loss: 1.4731 - accuracy: 0.98 - ETA: 1s - loss: 1.4719 - accuracy: 0.98 - ETA: 1s - loss: 1.4732 - accuracy: 0.98 - ETA: 1s - loss: 1.4734 - accuracy: 0.98 - ETA: 1s - loss: 1.4735 - accuracy: 0.98 - ETA: 0s - loss: 1.4736 - accuracy: 0.98 - ETA: 0s - loss: 1.4736 - accuracy: 0.98 - ETA: 0s - loss: 1.4732 - accuracy: 0.98 - ETA: 0s - loss: 1.4729 - accuracy: 0.98 - ETA: 0s - loss: 1.4727 - accuracy: 0.98 - ETA: 0s - loss: 1.4731 - accuracy: 0.98 - ETA: 0s - loss: 1.4731 - accuracy: 0.98 - ETA: 0s - loss: 1.4731 - accuracy: 0.98 - ETA: 0s - loss: 1.4725 - accuracy: 0.98 - ETA: 0s - loss: 1.4725 - accuracy: 0.98 - ETA: 0s - loss: 1.4731 - accuracy: 0.98 - ETA: 0s - loss: 1.4730 - accuracy: 0.98 - ETA: 0s - loss: 1.4730 - accuracy: 0.98 - ETA: 0s - loss: 1.4729 - accuracy: 0.98 - ETA: 0s - loss: 1.4727 - accuracy: 0.98 - ETA: 0s - loss: 1.4726 - accuracy: 0.98 - ETA: 0s - loss: 1.4727 - accuracy: 0.98 - ETA: 0s - loss: 1.4728 - accuracy: 0.98 - 2s 156us/sample - loss: 1.4728 - accuracy: 0.9885\n",
      "Epoch 9/10\n",
      "10000/10000 [==============================] - ETA: 2s - loss: 1.4612 - accuracy: 1.00 - ETA: 1s - loss: 1.4732 - accuracy: 0.98 - ETA: 1s - loss: 1.4713 - accuracy: 0.98 - ETA: 1s - loss: 1.4699 - accuracy: 0.99 - ETA: 1s - loss: 1.4704 - accuracy: 0.99 - ETA: 1s - loss: 1.4707 - accuracy: 0.99 - ETA: 1s - loss: 1.4697 - accuracy: 0.99 - ETA: 1s - loss: 1.4709 - accuracy: 0.99 - ETA: 1s - loss: 1.4718 - accuracy: 0.98 - ETA: 1s - loss: 1.4711 - accuracy: 0.99 - ETA: 0s - loss: 1.4711 - accuracy: 0.99 - ETA: 0s - loss: 1.4709 - accuracy: 0.99 - ETA: 0s - loss: 1.4712 - accuracy: 0.99 - ETA: 0s - loss: 1.4726 - accuracy: 0.98 - ETA: 0s - loss: 1.4721 - accuracy: 0.98 - ETA: 0s - loss: 1.4725 - accuracy: 0.98 - ETA: 0s - loss: 1.4722 - accuracy: 0.98 - ETA: 0s - loss: 1.4720 - accuracy: 0.98 - ETA: 0s - loss: 1.4720 - accuracy: 0.98 - ETA: 0s - loss: 1.4720 - accuracy: 0.98 - ETA: 0s - loss: 1.4724 - accuracy: 0.98 - ETA: 0s - loss: 1.4725 - accuracy: 0.98 - ETA: 0s - loss: 1.4723 - accuracy: 0.98 - ETA: 0s - loss: 1.4722 - accuracy: 0.98 - ETA: 0s - loss: 1.4720 - accuracy: 0.98 - ETA: 0s - loss: 1.4718 - accuracy: 0.98 - ETA: 0s - loss: 1.4719 - accuracy: 0.98 - ETA: 0s - loss: 1.4720 - accuracy: 0.98 - ETA: 0s - loss: 1.4723 - accuracy: 0.98 - ETA: 0s - loss: 1.4722 - accuracy: 0.98 - 2s 159us/sample - loss: 1.4722 - accuracy: 0.9890\n",
      "Epoch 10/10\n",
      "10000/10000 [==============================] - ETA: 1s - loss: 1.4909 - accuracy: 0.96 - ETA: 1s - loss: 1.4797 - accuracy: 0.98 - ETA: 1s - loss: 1.4735 - accuracy: 0.98 - ETA: 1s - loss: 1.4735 - accuracy: 0.98 - ETA: 1s - loss: 1.4726 - accuracy: 0.98 - ETA: 1s - loss: 1.4729 - accuracy: 0.98 - ETA: 1s - loss: 1.4742 - accuracy: 0.98 - ETA: 1s - loss: 1.4729 - accuracy: 0.98 - ETA: 1s - loss: 1.4720 - accuracy: 0.98 - ETA: 1s - loss: 1.4731 - accuracy: 0.98 - ETA: 1s - loss: 1.4722 - accuracy: 0.98 - ETA: 0s - loss: 1.4722 - accuracy: 0.98 - ETA: 0s - loss: 1.4729 - accuracy: 0.98 - ETA: 0s - loss: 1.4719 - accuracy: 0.98 - ETA: 0s - loss: 1.4727 - accuracy: 0.98 - ETA: 0s - loss: 1.4726 - accuracy: 0.98 - ETA: 0s - loss: 1.4729 - accuracy: 0.98 - ETA: 0s - loss: 1.4729 - accuracy: 0.98 - ETA: 0s - loss: 1.4723 - accuracy: 0.98 - ETA: 0s - loss: 1.4718 - accuracy: 0.98 - ETA: 0s - loss: 1.4717 - accuracy: 0.98 - ETA: 0s - loss: 1.4715 - accuracy: 0.98 - ETA: 0s - loss: 1.4716 - accuracy: 0.98 - ETA: 0s - loss: 1.4715 - accuracy: 0.98 - ETA: 0s - loss: 1.4716 - accuracy: 0.98 - ETA: 0s - loss: 1.4718 - accuracy: 0.98 - ETA: 0s - loss: 1.4717 - accuracy: 0.98 - ETA: 0s - loss: 1.4718 - accuracy: 0.98 - 1s 144us/sample - loss: 1.4719 - accuracy: 0.9893\n",
      "10000/10000 - 1s - loss: 1.5062 - accuracy: 0.9555\n",
      "test acc: [1.506218641281128, 0.9555]\n",
      "save model\n"
     ]
    }
   ],
   "source": [
    "model = best_model\n",
    "model.compile(optimizer=optimizers.Adam(lr=3e-5), loss=tf.keras.losses.SparseCategoricalCrossentropy(from_logits=True),metrics=['accuracy'])\n",
    "\n",
    "model.fit(x,y,epochs=10)\n",
    "test_acc = model.evaluate(val_x, val_y,verbose=2)\n",
    "print(\"test acc:\", test_acc)\n",
    "model.save(\"model.h5\")\n",
    "print(\"save model\")"
   ]
  },
  {
   "cell_type": "code",
   "execution_count": 13,
   "metadata": {},
   "outputs": [
    {
     "name": "stderr",
     "output_type": "stream",
     "text": [
      "W0908 16:46:59.563260 16532 util.py:144] Unresolved object in checkpoint: (root).optimizer.iter\n",
      "W0908 16:46:59.564252 16532 util.py:144] Unresolved object in checkpoint: (root).optimizer.beta_1\n",
      "W0908 16:46:59.564252 16532 util.py:144] Unresolved object in checkpoint: (root).optimizer.beta_2\n",
      "W0908 16:46:59.565248 16532 util.py:144] Unresolved object in checkpoint: (root).optimizer.decay\n",
      "W0908 16:46:59.566250 16532 util.py:144] Unresolved object in checkpoint: (root).optimizer.learning_rate\n",
      "W0908 16:46:59.567252 16532 util.py:152] A checkpoint was restored (e.g. tf.train.Checkpoint.restore or tf.keras.Model.load_weights) but not all checkpointed values were used. See above for specific issues. Use expect_partial() on the load status object, e.g. tf.train.Checkpoint.restore(...).expect_partial(), to silence these warnings, or use assert_consumed() to make the check explicit. See https://www.tensorflow.org/guide/checkpoint#loading_mechanics for details.\n"
     ]
    }
   ],
   "source": [
    "network = keras.models.load_model('model.h5')"
   ]
  },
  {
   "cell_type": "code",
   "execution_count": 14,
   "metadata": {},
   "outputs": [
    {
     "name": "stdout",
     "output_type": "stream",
     "text": [
      "Model: \"sequential\"\n",
      "_________________________________________________________________\n",
      "Layer (type)                 Output Shape              Param #   \n",
      "=================================================================\n",
      "flatten (Flatten)            (None, 784)               0         \n",
      "_________________________________________________________________\n",
      "dense (Dense)                (None, 384)               301440    \n",
      "_________________________________________________________________\n",
      "dense_1 (Dense)              (None, 128)               49280     \n",
      "_________________________________________________________________\n",
      "dense_2 (Dense)              (None, 288)               37152     \n",
      "_________________________________________________________________\n",
      "dense_3 (Dense)              (None, 448)               129472    \n",
      "_________________________________________________________________\n",
      "dense_4 (Dense)              (None, 288)               129312    \n",
      "_________________________________________________________________\n",
      "dense_5 (Dense)              (None, 256)               73984     \n",
      "_________________________________________________________________\n",
      "dense_6 (Dense)              (None, 288)               74016     \n",
      "_________________________________________________________________\n",
      "dense_7 (Dense)              (None, 448)               129472    \n",
      "_________________________________________________________________\n",
      "dense_8 (Dense)              (None, 32)                14368     \n",
      "_________________________________________________________________\n",
      "dense_9 (Dense)              (None, 10)                330       \n",
      "=================================================================\n",
      "Total params: 938,826\n",
      "Trainable params: 938,826\n",
      "Non-trainable params: 0\n",
      "_________________________________________________________________\n"
     ]
    }
   ],
   "source": [
    "network.summary()"
   ]
  },
  {
   "cell_type": "code",
   "execution_count": 17,
   "metadata": {},
   "outputs": [
    {
     "name": "stdout",
     "output_type": "stream",
     "text": [
      "10000/10000 - 1s - loss: 1.5062 - accuracy: 0.9555\n",
      "\n",
      "Test accuracy: [1.506218641281128, 0.9555]\n"
     ]
    }
   ],
   "source": [
    "network.compile(optimizer=optimizers.Adam(lr=3e-4), loss=tf.keras.losses.SparseCategoricalCrossentropy(from_logits=True),metrics=['accuracy'])\n",
    "test_acc = network.evaluate(val_x, val_y,verbose=2)\n",
    "\n",
    "print('\\nTest accuracy:', test_acc)"
   ]
  },
  {
   "cell_type": "code",
   "execution_count": null,
   "metadata": {},
   "outputs": [],
   "source": []
  }
 ],
 "metadata": {
  "kernelspec": {
   "display_name": "Python 3",
   "language": "python",
   "name": "python3"
  },
  "language_info": {
   "codemirror_mode": {
    "name": "ipython",
    "version": 3
   },
   "file_extension": ".py",
   "mimetype": "text/x-python",
   "name": "python",
   "nbconvert_exporter": "python",
   "pygments_lexer": "ipython3",
   "version": "3.7.6"
  }
 },
 "nbformat": 4,
 "nbformat_minor": 4
}
